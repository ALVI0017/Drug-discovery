{
  "nbformat": 4,
  "nbformat_minor": 0,
  "metadata": {
    "colab": {
      "name": "RDKit intro in colab for Drug discovery Part-2 ",
      "provenance": [],
      "collapsed_sections": []
    },
    "kernelspec": {
      "name": "python3",
      "display_name": "Python 3"
    },
    "language_info": {
      "name": "python"
    }
  },
  "cells": [
    {
      "cell_type": "code",
      "metadata": {
        "id": "s4yUUTmTt73k"
      },
      "source": [
        "# First install Miniconda to install RDKIT in colab "
      ],
      "execution_count": 1,
      "outputs": []
    },
    {
      "cell_type": "code",
      "metadata": {
        "colab": {
          "base_uri": "https://localhost:8080/"
        },
        "id": "ZbkHx3UWiZPw",
        "outputId": "2e1ae5c4-29c9-49ff-fdc7-8f8831d761dc"
      },
      "source": [
        "! wget https://repo.anaconda.com/miniconda/Miniconda3-py37_4.8.2-Linux-x86_64.sh\n",
        "! chmod +x Miniconda3-py37_4.8.2-Linux-x86_64.sh\n",
        "! bash ./Miniconda3-py37_4.8.2-Linux-x86_64.sh -b -f -p /usr/local\n"
      ],
      "execution_count": 2,
      "outputs": [
        {
          "output_type": "stream",
          "name": "stdout",
          "text": [
            "--2021-11-23 13:42:41--  https://repo.anaconda.com/miniconda/Miniconda3-py37_4.8.2-Linux-x86_64.sh\n",
            "Resolving repo.anaconda.com (repo.anaconda.com)... 104.16.130.3, 104.16.131.3, 2606:4700::6810:8303, ...\n",
            "Connecting to repo.anaconda.com (repo.anaconda.com)|104.16.130.3|:443... connected.\n",
            "HTTP request sent, awaiting response... 200 OK\n",
            "Length: 85055499 (81M) [application/x-sh]\n",
            "Saving to: ‘Miniconda3-py37_4.8.2-Linux-x86_64.sh.1’\n",
            "\n",
            "Miniconda3-py37_4.8 100%[===================>]  81.12M   105MB/s    in 0.8s    \n",
            "\n",
            "2021-11-23 13:42:42 (105 MB/s) - ‘Miniconda3-py37_4.8.2-Linux-x86_64.sh.1’ saved [85055499/85055499]\n",
            "\n",
            "PREFIX=/usr/local\n",
            "Unpacking payload ...\n",
            "Collecting package metadata (current_repodata.json): - \b\b\\ \b\b| \b\bdone\n",
            "Solving environment: - \b\b\\ \b\b| \b\b/ \b\b- \b\b\\ \n",
            "The environment is inconsistent, please check the package plan carefully\n",
            "The following packages are causing the inconsistency:\n",
            "\n",
            "  - defaults/linux-64::chardet==3.0.4=py37_1003\n",
            "  - defaults/linux-64::yaml==0.1.7=had09818_2\n",
            "  - defaults/linux-64::ncurses==6.2=he6710b0_0\n",
            "  - defaults/linux-64::six==1.14.0=py37_0\n",
            "  - defaults/linux-64::pillow==8.4.0=py37h5aabda8_0\n",
            "  - defaults/linux-64::libpng==1.6.37=hbc83047_0\n",
            "  - defaults/linux-64::bottleneck==1.3.2=py37heb32a55_1\n",
            "  - defaults/linux-64::certifi==2021.10.8=py37h06a4308_0\n",
            "  - defaults/noarch::python-dateutil==2.8.2=pyhd3eb1b0_0\n",
            "  - defaults/linux-64::sqlite==3.31.1=h7b6447c_0\n",
            "  - defaults/linux-64::libtiff==4.2.0=h85742a9_0\n",
            "  - defaults/linux-64::pip==20.0.2=py37_1\n",
            "  - defaults/linux-64::conda-package-handling==1.6.0=py37h7b6447c_0\n",
            "  - defaults/linux-64::conda==4.10.3=py37h06a4308_0\n",
            "  - defaults/linux-64::idna==2.8=py37_0\n",
            "  - rdkit/linux-64::rdkit==2020.09.1.0=py37hd50e099_1\n",
            "  - defaults/linux-64::ruamel_yaml==0.15.87=py37h7b6447c_0\n",
            "  - defaults/linux-64::openssl==1.1.1l=h7f8727e_0\n",
            "  - defaults/linux-64::libuuid==1.0.3=h7f8727e_2\n",
            "  - defaults/linux-64::urllib3==1.25.8=py37_0\n",
            "  - defaults/linux-64::numpy-base==1.21.2=py37h79a1101_0\n",
            "  - defaults/linux-64::cairo==1.16.0=hf32fb01_1\n",
            "  - defaults/linux-64::libgcc-ng==9.3.0=h5101ec6_17\n",
            "  - defaults/linux-64::readline==7.0=h7b6447c_5\n",
            "  - defaults/linux-64::libwebp-base==1.2.0=h27cfd23_0\n",
            "  - defaults/linux-64::libedit==3.1.20181209=hc058e9b_0\n",
            "  - defaults/linux-64::pycosat==0.6.3=py37h7b6447c_0\n",
            "  - defaults/linux-64::bzip2==1.0.8=h7b6447c_0\n",
            "  - defaults/linux-64::jpeg==9d=h7f8727e_0\n",
            "  - defaults/linux-64::freetype==2.11.0=h70c0345_0\n",
            "  - defaults/linux-64::cffi==1.14.0=py37h2e261b9_0\n",
            "  - defaults/linux-64::numexpr==2.7.3=py37h22e1b3c_1\n",
            "  - defaults/linux-64::pyopenssl==19.1.0=py37_0\n",
            "  - defaults/linux-64::giflib==5.2.1=h7b6447c_0\n",
            "  - defaults/linux-64::pysocks==1.7.1=py37_0\n",
            "  - defaults/linux-64::libwebp==1.2.0=h89dd481_0\n",
            "  - defaults/linux-64::py-boost==1.73.0=py37ha9443f7_11\n",
            "  - defaults/linux-64::mkl_random==1.2.2=py37h51133e4_0\n",
            "  - defaults/linux-64::lcms2==2.12=h3be6417_0\n",
            "  - defaults/linux-64::libxml2==2.9.12=h03d6c58_0\n",
            "  - defaults/noarch::pytz==2021.3=pyhd3eb1b0_0\n",
            "  - defaults/linux-64::lz4-c==1.9.3=h295c915_1\n",
            "  - defaults/linux-64::asn1crypto==1.3.0=py37_0\n",
            "  - defaults/linux-64::libxcb==1.14=h7b6447c_0\n",
            "  - defaults/linux-64::fontconfig==2.13.1=h6c09931_0\n",
            "  - defaults/linux-64::zlib==1.2.11=h7b6447c_3\n",
            "  - defaults/linux-64::zstd==1.4.9=haebb681_0\n",
            "  - defaults/linux-64::olefile==0.46=py37_0\n",
            "  - defaults/linux-64::wheel==0.34.2=py37_0\n",
            "  - defaults/linux-64::glib==2.69.1=h5202010_0\n",
            "  - defaults/noarch::tqdm==4.42.1=py_0\n",
            "  - defaults/linux-64::mkl-service==2.4.0=py37h7f8727e_0\n",
            "  - defaults/linux-64::tk==8.6.8=hbc83047_0\n",
            "  - defaults/linux-64::mkl_fft==1.3.1=py37hd3c417c_0\n",
            "  - defaults/linux-64::pcre==8.45=h295c915_0\n",
            "  - defaults/linux-64::pandas==1.3.4=py37h8c16a72_0\n",
            "  - defaults/linux-64::python==3.7.6=h0371630_2\n",
            "  - defaults/linux-64::pixman==0.40.0=h7f8727e_1\n",
            "  - defaults/linux-64::requests==2.22.0=py37_1\n",
            "  - defaults/linux-64::cryptography==2.8=py37h1ba5d50_0\n",
            "  - defaults/linux-64::setuptools==45.2.0=py37_0\n",
            "  - defaults/linux-64::libboost==1.73.0=h3ff78a5_11\n",
            "  - defaults/linux-64::xz==5.2.5=h7b6447c_0\n",
            "  - defaults/linux-64::numpy==1.21.2=py37h20f2e39_0\n",
            "  - defaults/linux-64::libffi==3.3=he6710b0_2\n",
            "  - defaults/linux-64::icu==58.2=he6710b0_3\n",
            "  - defaults/linux-64::pycparser==2.19=py37_0\n",
            "\b\b| \b\b/ \b\b- \b\b\\ \b\b| \b\b/ \b\b- \b\b\\ \b\b| \b\bdone\n",
            "\n",
            "## Package Plan ##\n",
            "\n",
            "  environment location: /usr/local\n",
            "\n",
            "  added / updated specs:\n",
            "    - _libgcc_mutex==0.1=main\n",
            "    - asn1crypto==1.3.0=py37_0\n",
            "    - ca-certificates==2020.1.1=0\n",
            "    - certifi==2019.11.28=py37_0\n",
            "    - cffi==1.14.0=py37h2e261b9_0\n",
            "    - chardet==3.0.4=py37_1003\n",
            "    - conda-package-handling==1.6.0=py37h7b6447c_0\n",
            "    - conda==4.8.2=py37_0\n",
            "    - cryptography==2.8=py37h1ba5d50_0\n",
            "    - idna==2.8=py37_0\n",
            "    - ld_impl_linux-64==2.33.1=h53a641e_7\n",
            "    - libedit==3.1.20181209=hc058e9b_0\n",
            "    - libffi==3.2.1=hd88cf55_4\n",
            "    - libgcc-ng==9.1.0=hdf63c60_0\n",
            "    - libstdcxx-ng==9.1.0=hdf63c60_0\n",
            "    - ncurses==6.2=he6710b0_0\n",
            "    - openssl==1.1.1d=h7b6447c_4\n",
            "    - pip==20.0.2=py37_1\n",
            "    - pycosat==0.6.3=py37h7b6447c_0\n",
            "    - pycparser==2.19=py37_0\n",
            "    - pyopenssl==19.1.0=py37_0\n",
            "    - pysocks==1.7.1=py37_0\n",
            "    - python==3.7.6=h0371630_2\n",
            "    - readline==7.0=h7b6447c_5\n",
            "    - requests==2.22.0=py37_1\n",
            "    - ruamel_yaml==0.15.87=py37h7b6447c_0\n",
            "    - setuptools==45.2.0=py37_0\n",
            "    - six==1.14.0=py37_0\n",
            "    - sqlite==3.31.1=h7b6447c_0\n",
            "    - tk==8.6.8=hbc83047_0\n",
            "    - tqdm==4.42.1=py_0\n",
            "    - urllib3==1.25.8=py37_0\n",
            "    - wheel==0.34.2=py37_0\n",
            "    - xz==5.2.4=h14c3975_4\n",
            "    - yaml==0.1.7=had09818_2\n",
            "    - zlib==1.2.11=h7b6447c_3\n",
            "\n",
            "\n",
            "The following packages will be DOWNGRADED:\n",
            "\n",
            "  ca-certificates                     2021.10.26-h06a4308_2 --> 2020.1.1-0\n",
            "\n",
            "\n",
            "Preparing transaction: - \b\bdone\n",
            "Executing transaction: | \b\bdone\n",
            "installation finished.\n",
            "WARNING:\n",
            "    You currently have a PYTHONPATH environment variable set. This may cause\n",
            "    unexpected behavior when running the Python interpreter in Miniconda3.\n",
            "    For best results, please verify that your PYTHONPATH only points to\n",
            "    directories of packages that are compatible with the Python interpreter\n",
            "    in Miniconda3: /usr/local\n"
          ]
        }
      ]
    },
    {
      "cell_type": "code",
      "metadata": {
        "colab": {
          "base_uri": "https://localhost:8080/"
        },
        "id": "BzVcu2REinUy",
        "outputId": "16179b4d-19ea-4fb9-fe6d-3960645084a7"
      },
      "source": [
        "! conda install -c rdkit rdkit -y"
      ],
      "execution_count": 3,
      "outputs": [
        {
          "output_type": "stream",
          "name": "stdout",
          "text": [
            "Collecting package metadata (current_repodata.json): - \b\b\\ \b\b| \b\b/ \b\b- \b\b\\ \b\b| \b\b/ \b\b- \b\b\\ \b\b| \b\b/ \b\b- \b\b\\ \b\b| \b\b/ \b\b- \b\b\\ \b\b| \b\b/ \b\b- \b\b\\ \b\bdone\n",
            "Solving environment: / \b\b- \b\b\\ \b\b| \b\b/ \b\b- \b\b\\ \b\b| \b\b/ \b\b- \b\b\\ \b\b| \b\b/ \b\bdone\n",
            "\n",
            "## Package Plan ##\n",
            "\n",
            "  environment location: /usr/local\n",
            "\n",
            "  added / updated specs:\n",
            "    - rdkit\n",
            "\n",
            "\n",
            "The following packages will be UPDATED:\n",
            "\n",
            "  ca-certificates                                2020.1.1-0 --> 2021.10.26-h06a4308_2\n",
            "\n",
            "\n",
            "Preparing transaction: \\ \b\bdone\n",
            "Verifying transaction: / \b\bdone\n",
            "Executing transaction: \\ \b\bdone\n"
          ]
        }
      ]
    },
    {
      "cell_type": "code",
      "metadata": {
        "id": "hr6R-Uowisv2"
      },
      "source": [
        "import sys\n",
        "sys.path.append('/usr/local/lib/python3.7/site-packages/')"
      ],
      "execution_count": 4,
      "outputs": []
    },
    {
      "cell_type": "code",
      "metadata": {
        "id": "4UIv1_DByx0Y"
      },
      "source": [
        "# Install RDKit.\n",
        "%%capture\n",
        "!pip install rdkit-pypi"
      ],
      "execution_count": 5,
      "outputs": []
    },
    {
      "cell_type": "code",
      "metadata": {
        "id": "KjpmwpGPjFER"
      },
      "source": [
        "# from drugbank\n",
        "import requests\n",
        "from rdkit import Chem\n",
        "from rdkit.Chem.Draw import IPythonConsole\n",
        "from rdkit.Chem import Draw\n",
        "from rdkit.Chem import AllChem\n",
        "from rdkit.Chem import Descriptors\n",
        "from rdkit.Chem import DataStructs\n",
        "import numpy as np\n",
        "\n",
        "\n",
        "IPythonConsole.ipython_useSVG=True  "
      ],
      "execution_count": 6,
      "outputs": []
    },
    {
      "cell_type": "code",
      "metadata": {
        "id": "NJvfdWdHA1DH"
      },
      "source": [
        "similes_list = ['C(C(=O)O)N','N[C@@H](CC1=CC=CC=C1)C(O)=O','O=C([C@H](CC1=CNC=N1)N)O','C([C@@H](C(=O)O)N)S']\n",
        "mol_list = []"
      ],
      "execution_count": 7,
      "outputs": []
    },
    {
      "cell_type": "code",
      "metadata": {
        "id": "oGoVmNwVBhFr"
      },
      "source": [
        "for sml in similes_list:\n",
        "  mol = Chem.MolFromSmiles(sml)\n",
        "  mol_list.append(mol)"
      ],
      "execution_count": 8,
      "outputs": []
    },
    {
      "cell_type": "code",
      "metadata": {
        "colab": {
          "base_uri": "https://localhost:8080/",
          "height": 222
        },
        "id": "WNzmN5T8Bt2o",
        "outputId": "f334e0d6-03b4-4661-8226-bdb860f356f2"
      },
      "source": [
        "img = Draw.MolsToGridImage(mol_list,molsPerRow=5)\n",
        "img"
      ],
      "execution_count": 9,
      "outputs": [
        {
          "output_type": "execute_result",
          "data": {
            "text/plain": [
              "<IPython.core.display.SVG object>"
            ],
            "image/svg+xml": "<svg baseProfile=\"full\" height=\"200px\" version=\"1.1\" viewBox=\"0 0 1000 200\" width=\"1000px\" xml:space=\"preserve\" xmlns=\"http://www.w3.org/2000/svg\" xmlns:rdkit=\"http://www.rdkit.org/xml\" xmlns:xlink=\"http://www.w3.org/1999/xlink\">\n<!-- END OF HEADER -->\n<rect height=\"200.0\" style=\"opacity:1.0;fill:#FFFFFF;stroke:none\" width=\"1000.0\" x=\"0.0\" y=\"0.0\"> </rect>\n<rect height=\"200.0\" style=\"opacity:1.0;fill:#FFFFFF;stroke:none\" width=\"1000.0\" x=\"0.0\" y=\"0.0\"> </rect>\n<rect height=\"200.0\" style=\"opacity:1.0;fill:#FFFFFF;stroke:none\" width=\"1000.0\" x=\"0.0\" y=\"0.0\"> </rect>\n<rect height=\"200.0\" style=\"opacity:1.0;fill:#FFFFFF;stroke:none\" width=\"1000.0\" x=\"0.0\" y=\"0.0\"> </rect>\n<rect height=\"200.0\" style=\"opacity:1.0;fill:#FFFFFF;stroke:none\" width=\"1000.0\" x=\"0.0\" y=\"0.0\"> </rect>\n<path class=\"bond-0 atom-0 atom-1\" d=\"M 89.2,112.7 L 115.9,97.3\" style=\"fill:none;fill-rule:evenodd;stroke:#000000;stroke-width:2.0px;stroke-linecap:butt;stroke-linejoin:miter;stroke-opacity:1\"/>\n<path class=\"bond-3 atom-0 atom-4\" d=\"M 89.2,112.7 L 77.8,106.1\" style=\"fill:none;fill-rule:evenodd;stroke:#000000;stroke-width:2.0px;stroke-linecap:butt;stroke-linejoin:miter;stroke-opacity:1\"/>\n<path class=\"bond-3 atom-0 atom-4\" d=\"M 77.8,106.1 L 66.5,99.6\" style=\"fill:none;fill-rule:evenodd;stroke:#0000FF;stroke-width:2.0px;stroke-linecap:butt;stroke-linejoin:miter;stroke-opacity:1\"/>\n<path class=\"bond-1 atom-1 atom-2\" d=\"M 119.0,97.3 L 119.0,84.5\" style=\"fill:none;fill-rule:evenodd;stroke:#000000;stroke-width:2.0px;stroke-linecap:butt;stroke-linejoin:miter;stroke-opacity:1\"/>\n<path class=\"bond-1 atom-1 atom-2\" d=\"M 119.0,84.5 L 119.0,71.7\" style=\"fill:none;fill-rule:evenodd;stroke:#FF0000;stroke-width:2.0px;stroke-linecap:butt;stroke-linejoin:miter;stroke-opacity:1\"/>\n<path class=\"bond-1 atom-1 atom-2\" d=\"M 112.8,97.3 L 112.8,84.5\" style=\"fill:none;fill-rule:evenodd;stroke:#000000;stroke-width:2.0px;stroke-linecap:butt;stroke-linejoin:miter;stroke-opacity:1\"/>\n<path class=\"bond-1 atom-1 atom-2\" d=\"M 112.8,84.5 L 112.8,71.7\" style=\"fill:none;fill-rule:evenodd;stroke:#FF0000;stroke-width:2.0px;stroke-linecap:butt;stroke-linejoin:miter;stroke-opacity:1\"/>\n<path class=\"bond-2 atom-1 atom-3\" d=\"M 115.9,97.3 L 126.8,103.6\" style=\"fill:none;fill-rule:evenodd;stroke:#000000;stroke-width:2.0px;stroke-linecap:butt;stroke-linejoin:miter;stroke-opacity:1\"/>\n<path class=\"bond-2 atom-1 atom-3\" d=\"M 126.8,103.6 L 137.8,109.9\" style=\"fill:none;fill-rule:evenodd;stroke:#FF0000;stroke-width:2.0px;stroke-linecap:butt;stroke-linejoin:miter;stroke-opacity:1\"/>\n<path class=\"atom-2\" d=\"M 111.9 66.4 Q 111.9 64.3, 112.9 63.1 Q 113.9 62.0, 115.9 62.0 Q 117.8 62.0, 118.9 63.1 Q 119.9 64.3, 119.9 66.4 Q 119.9 68.5, 118.8 69.8 Q 117.8 70.9, 115.9 70.9 Q 114.0 70.9, 112.9 69.8 Q 111.9 68.6, 111.9 66.4 M 115.9 70.0 Q 117.2 70.0, 117.9 69.1 Q 118.7 68.2, 118.7 66.4 Q 118.7 64.7, 117.9 63.8 Q 117.2 63.0, 115.9 63.0 Q 114.5 63.0, 113.8 63.8 Q 113.1 64.7, 113.1 66.4 Q 113.1 68.2, 113.8 69.1 Q 114.5 70.0, 115.9 70.0 \" fill=\"#FF0000\"/>\n<path class=\"atom-3\" d=\"M 138.6 112.7 Q 138.6 110.6, 139.6 109.4 Q 140.7 108.3, 142.6 108.3 Q 144.5 108.3, 145.6 109.4 Q 146.6 110.6, 146.6 112.7 Q 146.6 114.8, 145.6 116.0 Q 144.5 117.2, 142.6 117.2 Q 140.7 117.2, 139.6 116.0 Q 138.6 114.8, 138.6 112.7 M 142.6 116.2 Q 143.9 116.2, 144.6 115.4 Q 145.4 114.5, 145.4 112.7 Q 145.4 111.0, 144.6 110.1 Q 143.9 109.2, 142.6 109.2 Q 141.3 109.2, 140.5 110.1 Q 139.8 111.0, 139.8 112.7 Q 139.8 114.5, 140.5 115.4 Q 141.3 116.2, 142.6 116.2 \" fill=\"#FF0000\"/>\n<path class=\"atom-3\" d=\"M 147.7 108.4 L 148.8 108.4 L 148.8 112.1 L 153.3 112.1 L 153.3 108.4 L 154.5 108.4 L 154.5 117.1 L 153.3 117.1 L 153.3 113.1 L 148.8 113.1 L 148.8 117.1 L 147.7 117.1 L 147.7 108.4 \" fill=\"#FF0000\"/>\n<path class=\"atom-4\" d=\"M 47.0 92.9 L 48.1 92.9 L 48.1 96.6 L 52.6 96.6 L 52.6 92.9 L 53.8 92.9 L 53.8 101.6 L 52.6 101.6 L 52.6 97.6 L 48.1 97.6 L 48.1 101.6 L 47.0 101.6 L 47.0 92.9 \" fill=\"#0000FF\"/>\n<path class=\"atom-4\" d=\"M 54.2 101.3 Q 54.4 100.8, 54.9 100.5 Q 55.4 100.2, 56.1 100.2 Q 57.0 100.2, 57.5 100.6 Q 58.0 101.1, 58.0 101.9 Q 58.0 102.8, 57.4 103.6 Q 56.7 104.4, 55.4 105.3 L 58.1 105.3 L 58.1 106.0 L 54.2 106.0 L 54.2 105.4 Q 55.3 104.7, 55.9 104.1 Q 56.6 103.5, 56.9 103.0 Q 57.2 102.5, 57.2 102.0 Q 57.2 101.4, 56.9 101.1 Q 56.6 100.8, 56.1 100.8 Q 55.7 100.8, 55.4 101.0 Q 55.1 101.2, 54.8 101.6 L 54.2 101.3 \" fill=\"#0000FF\"/>\n<path class=\"atom-4\" d=\"M 60.5 92.9 L 63.4 97.5 Q 63.6 98.0, 64.1 98.8 Q 64.6 99.6, 64.6 99.7 L 64.6 92.9 L 65.7 92.9 L 65.7 101.6 L 64.5 101.6 L 61.5 96.6 Q 61.1 96.0, 60.7 95.3 Q 60.4 94.6, 60.3 94.4 L 60.3 101.6 L 59.1 101.6 L 59.1 92.9 L 60.5 92.9 \" fill=\"#0000FF\"/>\n<path class=\"bond-0 atom-1 atom-0\" d=\"M 271.9,92.5 L 276.6,80.6 L 273.6,79.8 Z\" style=\"fill:#000000;fill-rule:evenodd;fill-opacity:1;stroke:#000000;stroke-width:2.0px;stroke-linecap:butt;stroke-linejoin:miter;stroke-opacity:1;\"/>\n<path class=\"bond-0 atom-1 atom-0\" d=\"M 276.6,80.6 L 275.4,67.0 L 281.3,68.6 Z\" style=\"fill:#0000FF;fill-rule:evenodd;fill-opacity:1;stroke:#0000FF;stroke-width:2.0px;stroke-linecap:butt;stroke-linejoin:miter;stroke-opacity:1;\"/>\n<path class=\"bond-0 atom-1 atom-0\" d=\"M 276.6,80.6 L 273.6,79.8 L 275.4,67.0 Z\" style=\"fill:#0000FF;fill-rule:evenodd;fill-opacity:1;stroke:#0000FF;stroke-width:2.0px;stroke-linecap:butt;stroke-linejoin:miter;stroke-opacity:1;\"/>\n<path class=\"bond-1 atom-1 atom-2\" d=\"M 271.9,92.5 L 293.8,114.2\" style=\"fill:none;fill-rule:evenodd;stroke:#000000;stroke-width:2.0px;stroke-linecap:butt;stroke-linejoin:miter;stroke-opacity:1\"/>\n<path class=\"bond-8 atom-1 atom-9\" d=\"M 271.9,92.5 L 242.1,100.7\" style=\"fill:none;fill-rule:evenodd;stroke:#000000;stroke-width:2.0px;stroke-linecap:butt;stroke-linejoin:miter;stroke-opacity:1\"/>\n<path class=\"bond-2 atom-2 atom-3\" d=\"M 293.8,114.2 L 323.6,106.1\" style=\"fill:none;fill-rule:evenodd;stroke:#000000;stroke-width:2.0px;stroke-linecap:butt;stroke-linejoin:miter;stroke-opacity:1\"/>\n<path class=\"bond-3 atom-3 atom-4\" d=\"M 323.6,106.1 L 331.4,76.2\" style=\"fill:none;fill-rule:evenodd;stroke:#000000;stroke-width:2.0px;stroke-linecap:butt;stroke-linejoin:miter;stroke-opacity:1\"/>\n<path class=\"bond-3 atom-3 atom-4\" d=\"M 330.7,103.1 L 336.2,82.2\" style=\"fill:none;fill-rule:evenodd;stroke:#000000;stroke-width:2.0px;stroke-linecap:butt;stroke-linejoin:miter;stroke-opacity:1\"/>\n<path class=\"bond-11 atom-8 atom-3\" d=\"M 345.6,127.7 L 323.6,106.1\" style=\"fill:none;fill-rule:evenodd;stroke:#000000;stroke-width:2.0px;stroke-linecap:butt;stroke-linejoin:miter;stroke-opacity:1\"/>\n<path class=\"bond-4 atom-4 atom-5\" d=\"M 331.4,76.2 L 361.2,68.0\" style=\"fill:none;fill-rule:evenodd;stroke:#000000;stroke-width:2.0px;stroke-linecap:butt;stroke-linejoin:miter;stroke-opacity:1\"/>\n<path class=\"bond-5 atom-5 atom-6\" d=\"M 361.2,68.0 L 383.1,89.7\" style=\"fill:none;fill-rule:evenodd;stroke:#000000;stroke-width:2.0px;stroke-linecap:butt;stroke-linejoin:miter;stroke-opacity:1\"/>\n<path class=\"bond-5 atom-5 atom-6\" d=\"M 360.1,75.7 L 375.5,90.9\" style=\"fill:none;fill-rule:evenodd;stroke:#000000;stroke-width:2.0px;stroke-linecap:butt;stroke-linejoin:miter;stroke-opacity:1\"/>\n<path class=\"bond-6 atom-6 atom-7\" d=\"M 383.1,89.7 L 375.3,119.6\" style=\"fill:none;fill-rule:evenodd;stroke:#000000;stroke-width:2.0px;stroke-linecap:butt;stroke-linejoin:miter;stroke-opacity:1\"/>\n<path class=\"bond-7 atom-7 atom-8\" d=\"M 375.3,119.6 L 345.6,127.7\" style=\"fill:none;fill-rule:evenodd;stroke:#000000;stroke-width:2.0px;stroke-linecap:butt;stroke-linejoin:miter;stroke-opacity:1\"/>\n<path class=\"bond-7 atom-7 atom-8\" d=\"M 369.2,114.8 L 348.4,120.6\" style=\"fill:none;fill-rule:evenodd;stroke:#000000;stroke-width:2.0px;stroke-linecap:butt;stroke-linejoin:miter;stroke-opacity:1\"/>\n<path class=\"bond-9 atom-9 atom-10\" d=\"M 242.1,100.7 L 233.6,92.2\" style=\"fill:none;fill-rule:evenodd;stroke:#000000;stroke-width:2.0px;stroke-linecap:butt;stroke-linejoin:miter;stroke-opacity:1\"/>\n<path class=\"bond-9 atom-9 atom-10\" d=\"M 233.6,92.2 L 225.0,83.7\" style=\"fill:none;fill-rule:evenodd;stroke:#FF0000;stroke-width:2.0px;stroke-linecap:butt;stroke-linejoin:miter;stroke-opacity:1\"/>\n<path class=\"bond-10 atom-9 atom-11\" d=\"M 239.2,99.9 L 235.9,112.3\" style=\"fill:none;fill-rule:evenodd;stroke:#000000;stroke-width:2.0px;stroke-linecap:butt;stroke-linejoin:miter;stroke-opacity:1\"/>\n<path class=\"bond-10 atom-9 atom-11\" d=\"M 235.9,112.3 L 232.7,124.6\" style=\"fill:none;fill-rule:evenodd;stroke:#FF0000;stroke-width:2.0px;stroke-linecap:butt;stroke-linejoin:miter;stroke-opacity:1\"/>\n<path class=\"bond-10 atom-9 atom-11\" d=\"M 245.1,101.5 L 241.9,113.8\" style=\"fill:none;fill-rule:evenodd;stroke:#000000;stroke-width:2.0px;stroke-linecap:butt;stroke-linejoin:miter;stroke-opacity:1\"/>\n<path class=\"bond-10 atom-9 atom-11\" d=\"M 241.9,113.8 L 238.7,126.1\" style=\"fill:none;fill-rule:evenodd;stroke:#FF0000;stroke-width:2.0px;stroke-linecap:butt;stroke-linejoin:miter;stroke-opacity:1\"/>\n<path class=\"atom-0\" d=\"M 277.8 58.3 L 280.6 62.9 Q 280.9 63.4, 281.4 64.2 Q 281.8 65.1, 281.9 65.1 L 281.9 58.3 L 283.0 58.3 L 283.0 67.1 L 281.8 67.1 L 278.7 62.0 Q 278.4 61.4, 278.0 60.7 Q 277.6 60.0, 277.5 59.8 L 277.5 67.1 L 276.4 67.1 L 276.4 58.3 L 277.8 58.3 \" fill=\"#0000FF\"/>\n<path class=\"atom-0\" d=\"M 284.1 58.3 L 285.2 58.3 L 285.2 62.0 L 289.7 62.0 L 289.7 58.3 L 290.9 58.3 L 290.9 67.1 L 289.7 67.1 L 289.7 63.0 L 285.2 63.0 L 285.2 67.1 L 284.1 67.1 L 284.1 58.3 \" fill=\"#0000FF\"/>\n<path class=\"atom-0\" d=\"M 291.3 66.7 Q 291.5 66.2, 292.0 65.9 Q 292.5 65.6, 293.2 65.6 Q 294.1 65.6, 294.6 66.1 Q 295.1 66.5, 295.1 67.4 Q 295.1 68.2, 294.5 69.0 Q 293.8 69.8, 292.5 70.8 L 295.2 70.8 L 295.2 71.4 L 291.3 71.4 L 291.3 70.9 Q 292.4 70.1, 293.0 69.5 Q 293.7 69.0, 294.0 68.5 Q 294.3 67.9, 294.3 67.4 Q 294.3 66.9, 294.0 66.5 Q 293.7 66.2, 293.2 66.2 Q 292.8 66.2, 292.5 66.4 Q 292.2 66.6, 291.9 67.0 L 291.3 66.7 \" fill=\"#0000FF\"/>\n<path class=\"atom-10\" d=\"M 208.7 74.7 L 209.9 74.7 L 209.9 78.4 L 214.4 78.4 L 214.4 74.7 L 215.6 74.7 L 215.6 83.4 L 214.4 83.4 L 214.4 79.4 L 209.9 79.4 L 209.9 83.4 L 208.7 83.4 L 208.7 74.7 \" fill=\"#FF0000\"/>\n<path class=\"atom-10\" d=\"M 216.2 79.0 Q 216.2 76.9, 217.2 75.8 Q 218.2 74.6, 220.2 74.6 Q 222.1 74.6, 223.2 75.8 Q 224.2 76.9, 224.2 79.0 Q 224.2 81.2, 223.1 82.4 Q 222.1 83.6, 220.2 83.6 Q 218.3 83.6, 217.2 82.4 Q 216.2 81.2, 216.2 79.0 M 220.2 82.6 Q 221.5 82.6, 222.2 81.7 Q 223.0 80.8, 223.0 79.0 Q 223.0 77.3, 222.2 76.5 Q 221.5 75.6, 220.2 75.6 Q 218.9 75.6, 218.1 76.5 Q 217.4 77.3, 217.4 79.0 Q 217.4 80.8, 218.1 81.7 Q 218.9 82.6, 220.2 82.6 \" fill=\"#FF0000\"/>\n<path class=\"atom-11\" d=\"M 230.3 130.6 Q 230.3 128.5, 231.4 127.3 Q 232.4 126.1, 234.3 126.1 Q 236.3 126.1, 237.3 127.3 Q 238.3 128.5, 238.3 130.6 Q 238.3 132.7, 237.3 133.9 Q 236.2 135.1, 234.3 135.1 Q 232.4 135.1, 231.4 133.9 Q 230.3 132.7, 230.3 130.6 M 234.3 134.1 Q 235.7 134.1, 236.4 133.2 Q 237.1 132.3, 237.1 130.6 Q 237.1 128.9, 236.4 128.0 Q 235.7 127.1, 234.3 127.1 Q 233.0 127.1, 232.3 128.0 Q 231.6 128.9, 231.6 130.6 Q 231.6 132.3, 232.3 133.2 Q 233.0 134.1, 234.3 134.1 \" fill=\"#FF0000\"/>\n<path class=\"bond-0 atom-0 atom-1\" d=\"M 445.4,126.3 L 448.5,113.9\" style=\"fill:none;fill-rule:evenodd;stroke:#FF0000;stroke-width:2.0px;stroke-linecap:butt;stroke-linejoin:miter;stroke-opacity:1\"/>\n<path class=\"bond-0 atom-0 atom-1\" d=\"M 448.5,113.9 L 451.6,101.6\" style=\"fill:none;fill-rule:evenodd;stroke:#000000;stroke-width:2.0px;stroke-linecap:butt;stroke-linejoin:miter;stroke-opacity:1\"/>\n<path class=\"bond-0 atom-0 atom-1\" d=\"M 439.4,124.8 L 442.5,112.4\" style=\"fill:none;fill-rule:evenodd;stroke:#FF0000;stroke-width:2.0px;stroke-linecap:butt;stroke-linejoin:miter;stroke-opacity:1\"/>\n<path class=\"bond-0 atom-0 atom-1\" d=\"M 442.5,112.4 L 445.6,100.1\" style=\"fill:none;fill-rule:evenodd;stroke:#000000;stroke-width:2.0px;stroke-linecap:butt;stroke-linejoin:miter;stroke-opacity:1\"/>\n<path class=\"bond-1 atom-1 atom-2\" d=\"M 448.6,100.8 L 478.2,92.3\" style=\"fill:none;fill-rule:evenodd;stroke:#000000;stroke-width:2.0px;stroke-linecap:butt;stroke-linejoin:miter;stroke-opacity:1\"/>\n<path class=\"bond-9 atom-1 atom-10\" d=\"M 448.6,100.8 L 439.9,92.4\" style=\"fill:none;fill-rule:evenodd;stroke:#000000;stroke-width:2.0px;stroke-linecap:butt;stroke-linejoin:miter;stroke-opacity:1\"/>\n<path class=\"bond-9 atom-1 atom-10\" d=\"M 439.9,92.4 L 431.2,84.0\" style=\"fill:none;fill-rule:evenodd;stroke:#FF0000;stroke-width:2.0px;stroke-linecap:butt;stroke-linejoin:miter;stroke-opacity:1\"/>\n<path class=\"bond-2 atom-2 atom-3\" d=\"M 478.2,92.3 L 500.4,113.8\" style=\"fill:none;fill-rule:evenodd;stroke:#000000;stroke-width:2.0px;stroke-linecap:butt;stroke-linejoin:miter;stroke-opacity:1\"/>\n<path class=\"bond-8 atom-2 atom-9\" d=\"M 478.2,92.3 L 482.8,80.3 L 479.8,79.6 Z\" style=\"fill:#000000;fill-rule:evenodd;fill-opacity:1;stroke:#000000;stroke-width:2.0px;stroke-linecap:butt;stroke-linejoin:miter;stroke-opacity:1;\"/>\n<path class=\"bond-8 atom-2 atom-9\" d=\"M 482.8,80.3 L 481.4,66.8 L 487.4,68.3 Z\" style=\"fill:#0000FF;fill-rule:evenodd;fill-opacity:1;stroke:#0000FF;stroke-width:2.0px;stroke-linecap:butt;stroke-linejoin:miter;stroke-opacity:1;\"/>\n<path class=\"bond-8 atom-2 atom-9\" d=\"M 482.8,80.3 L 479.8,79.6 L 481.4,66.8 Z\" style=\"fill:#0000FF;fill-rule:evenodd;fill-opacity:1;stroke:#0000FF;stroke-width:2.0px;stroke-linecap:butt;stroke-linejoin:miter;stroke-opacity:1;\"/>\n<path class=\"bond-3 atom-3 atom-4\" d=\"M 500.4,113.8 L 530.1,105.3\" style=\"fill:none;fill-rule:evenodd;stroke:#000000;stroke-width:2.0px;stroke-linecap:butt;stroke-linejoin:miter;stroke-opacity:1\"/>\n<path class=\"bond-4 atom-4 atom-5\" d=\"M 530.1,105.3 L 554.4,124.3\" style=\"fill:none;fill-rule:evenodd;stroke:#000000;stroke-width:2.0px;stroke-linecap:butt;stroke-linejoin:miter;stroke-opacity:1\"/>\n<path class=\"bond-4 atom-4 atom-5\" d=\"M 537.5,103.3 L 554.5,116.6\" style=\"fill:none;fill-rule:evenodd;stroke:#000000;stroke-width:2.0px;stroke-linecap:butt;stroke-linejoin:miter;stroke-opacity:1\"/>\n<path class=\"bond-10 atom-8 atom-4\" d=\"M 538.8,81.4 L 534.4,93.4\" style=\"fill:none;fill-rule:evenodd;stroke:#0000FF;stroke-width:2.0px;stroke-linecap:butt;stroke-linejoin:miter;stroke-opacity:1\"/>\n<path class=\"bond-10 atom-8 atom-4\" d=\"M 534.4,93.4 L 530.1,105.3\" style=\"fill:none;fill-rule:evenodd;stroke:#000000;stroke-width:2.0px;stroke-linecap:butt;stroke-linejoin:miter;stroke-opacity:1\"/>\n<path class=\"bond-5 atom-5 atom-6\" d=\"M 554.4,124.3 L 565.1,117.1\" style=\"fill:none;fill-rule:evenodd;stroke:#000000;stroke-width:2.0px;stroke-linecap:butt;stroke-linejoin:miter;stroke-opacity:1\"/>\n<path class=\"bond-5 atom-5 atom-6\" d=\"M 565.1,117.1 L 575.9,109.8\" style=\"fill:none;fill-rule:evenodd;stroke:#0000FF;stroke-width:2.0px;stroke-linecap:butt;stroke-linejoin:miter;stroke-opacity:1\"/>\n<path class=\"bond-6 atom-6 atom-7\" d=\"M 578.5,101.9 L 575.0,89.7\" style=\"fill:none;fill-rule:evenodd;stroke:#0000FF;stroke-width:2.0px;stroke-linecap:butt;stroke-linejoin:miter;stroke-opacity:1\"/>\n<path class=\"bond-6 atom-6 atom-7\" d=\"M 575.0,89.7 L 571.5,77.4\" style=\"fill:none;fill-rule:evenodd;stroke:#000000;stroke-width:2.0px;stroke-linecap:butt;stroke-linejoin:miter;stroke-opacity:1\"/>\n<path class=\"bond-7 atom-7 atom-8\" d=\"M 571.5,77.4 L 558.1,76.9\" style=\"fill:none;fill-rule:evenodd;stroke:#000000;stroke-width:2.0px;stroke-linecap:butt;stroke-linejoin:miter;stroke-opacity:1\"/>\n<path class=\"bond-7 atom-7 atom-8\" d=\"M 558.1,76.9 L 544.7,76.4\" style=\"fill:none;fill-rule:evenodd;stroke:#0000FF;stroke-width:2.0px;stroke-linecap:butt;stroke-linejoin:miter;stroke-opacity:1\"/>\n<path class=\"bond-7 atom-7 atom-8\" d=\"M 567.3,83.4 L 557.9,83.1\" style=\"fill:none;fill-rule:evenodd;stroke:#000000;stroke-width:2.0px;stroke-linecap:butt;stroke-linejoin:miter;stroke-opacity:1\"/>\n<path class=\"bond-7 atom-7 atom-8\" d=\"M 557.9,83.1 L 548.5,82.8\" style=\"fill:none;fill-rule:evenodd;stroke:#0000FF;stroke-width:2.0px;stroke-linecap:butt;stroke-linejoin:miter;stroke-opacity:1\"/>\n<path class=\"atom-0\" d=\"M 437.1 130.8 Q 437.1 128.7, 438.1 127.5 Q 439.1 126.3, 441.1 126.3 Q 443.0 126.3, 444.1 127.5 Q 445.1 128.7, 445.1 130.8 Q 445.1 132.9, 444.0 134.1 Q 443.0 135.3, 441.1 135.3 Q 439.2 135.3, 438.1 134.1 Q 437.1 132.9, 437.1 130.8 M 441.1 134.3 Q 442.4 134.3, 443.1 133.4 Q 443.9 132.5, 443.9 130.8 Q 443.9 129.1, 443.1 128.2 Q 442.4 127.3, 441.1 127.3 Q 439.8 127.3, 439.0 128.2 Q 438.3 129.0, 438.3 130.8 Q 438.3 132.5, 439.0 133.4 Q 439.8 134.3, 441.1 134.3 \" fill=\"#FF0000\"/>\n<path class=\"atom-6\" d=\"M 578.1 102.7 L 580.9 107.3 Q 581.2 107.8, 581.7 108.6 Q 582.1 109.4, 582.1 109.5 L 582.1 102.7 L 583.3 102.7 L 583.3 111.4 L 582.1 111.4 L 579.0 106.4 Q 578.7 105.8, 578.3 105.1 Q 577.9 104.4, 577.8 104.2 L 577.8 111.4 L 576.7 111.4 L 576.7 102.7 L 578.1 102.7 \" fill=\"#0000FF\"/>\n<path class=\"atom-6\" d=\"M 584.3 102.7 L 585.5 102.7 L 585.5 106.4 L 590.0 106.4 L 590.0 102.7 L 591.2 102.7 L 591.2 111.4 L 590.0 111.4 L 590.0 107.4 L 585.5 107.4 L 585.5 111.4 L 584.3 111.4 L 584.3 102.7 \" fill=\"#0000FF\"/>\n<path class=\"atom-8\" d=\"M 538.7 71.9 L 541.6 76.6 Q 541.9 77.0, 542.3 77.8 Q 542.8 78.7, 542.8 78.7 L 542.8 71.9 L 544.0 71.9 L 544.0 80.7 L 542.8 80.7 L 539.7 75.6 Q 539.3 75.0, 539.0 74.3 Q 538.6 73.7, 538.5 73.5 L 538.5 80.7 L 537.3 80.7 L 537.3 71.9 L 538.7 71.9 \" fill=\"#0000FF\"/>\n<path class=\"atom-9\" d=\"M 483.8 58.0 L 486.7 62.6 Q 486.9 63.1, 487.4 63.9 Q 487.9 64.8, 487.9 64.8 L 487.9 58.0 L 489.0 58.0 L 489.0 66.8 L 487.8 66.8 L 484.8 61.7 Q 484.4 61.1, 484.0 60.4 Q 483.7 59.7, 483.5 59.5 L 483.5 66.8 L 482.4 66.8 L 482.4 58.0 L 483.8 58.0 \" fill=\"#0000FF\"/>\n<path class=\"atom-9\" d=\"M 490.1 58.0 L 491.3 58.0 L 491.3 61.7 L 495.7 61.7 L 495.7 58.0 L 496.9 58.0 L 496.9 66.8 L 495.7 66.8 L 495.7 62.7 L 491.3 62.7 L 491.3 66.8 L 490.1 66.8 L 490.1 58.0 \" fill=\"#0000FF\"/>\n<path class=\"atom-9\" d=\"M 497.4 66.5 Q 497.6 65.9, 498.1 65.6 Q 498.6 65.3, 499.3 65.3 Q 500.1 65.3, 500.6 65.8 Q 501.1 66.2, 501.1 67.1 Q 501.1 67.9, 500.5 68.7 Q 499.9 69.5, 498.6 70.5 L 501.2 70.5 L 501.2 71.1 L 497.3 71.1 L 497.3 70.6 Q 498.4 69.8, 499.0 69.2 Q 499.7 68.7, 500.0 68.2 Q 500.3 67.6, 500.3 67.1 Q 500.3 66.6, 500.0 66.3 Q 499.8 65.9, 499.3 65.9 Q 498.8 65.9, 498.5 66.1 Q 498.2 66.3, 498.0 66.7 L 497.4 66.5 \" fill=\"#0000FF\"/>\n<path class=\"atom-10\" d=\"M 414.9 75.0 L 416.1 75.0 L 416.1 78.8 L 420.6 78.8 L 420.6 75.0 L 421.8 75.0 L 421.8 83.8 L 420.6 83.8 L 420.6 79.7 L 416.1 79.7 L 416.1 83.8 L 414.9 83.8 L 414.9 75.0 \" fill=\"#FF0000\"/>\n<path class=\"atom-10\" d=\"M 422.4 79.4 Q 422.4 77.3, 423.4 76.1 Q 424.5 74.9, 426.4 74.9 Q 428.3 74.9, 429.4 76.1 Q 430.4 77.3, 430.4 79.4 Q 430.4 81.5, 429.4 82.7 Q 428.3 83.9, 426.4 83.9 Q 424.5 83.9, 423.4 82.7 Q 422.4 81.5, 422.4 79.4 M 426.4 82.9 Q 427.7 82.9, 428.4 82.0 Q 429.2 81.1, 429.2 79.4 Q 429.2 77.7, 428.4 76.8 Q 427.7 75.9, 426.4 75.9 Q 425.1 75.9, 424.3 76.8 Q 423.6 77.7, 423.6 79.4 Q 423.6 81.1, 424.3 82.0 Q 425.1 82.9, 426.4 82.9 \" fill=\"#FF0000\"/>\n<path class=\"bond-0 atom-0 atom-1\" d=\"M 733.1,82.0 L 710.4,102.9\" style=\"fill:none;fill-rule:evenodd;stroke:#000000;stroke-width:2.0px;stroke-linecap:butt;stroke-linejoin:miter;stroke-opacity:1\"/>\n<path class=\"bond-5 atom-0 atom-6\" d=\"M 733.1,82.0 L 746.0,86.0\" style=\"fill:none;fill-rule:evenodd;stroke:#000000;stroke-width:2.0px;stroke-linecap:butt;stroke-linejoin:miter;stroke-opacity:1\"/>\n<path class=\"bond-5 atom-0 atom-6\" d=\"M 746.0,86.0 L 758.9,90.1\" style=\"fill:none;fill-rule:evenodd;stroke:#CCCC00;stroke-width:2.0px;stroke-linecap:butt;stroke-linejoin:miter;stroke-opacity:1\"/>\n<path class=\"bond-1 atom-1 atom-2\" d=\"M 710.4,102.9 L 680.9,93.7\" style=\"fill:none;fill-rule:evenodd;stroke:#000000;stroke-width:2.0px;stroke-linecap:butt;stroke-linejoin:miter;stroke-opacity:1\"/>\n<path class=\"bond-4 atom-1 atom-5\" d=\"M 710.9,108.0 L 712.1,107.7\" style=\"fill:none;fill-rule:evenodd;stroke:#000000;stroke-width:1.0px;stroke-linecap:butt;stroke-linejoin:miter;stroke-opacity:1\"/>\n<path class=\"bond-4 atom-1 atom-5\" d=\"M 711.4,113.1 L 713.8,112.6\" style=\"fill:none;fill-rule:evenodd;stroke:#000000;stroke-width:1.0px;stroke-linecap:butt;stroke-linejoin:miter;stroke-opacity:1\"/>\n<path class=\"bond-4 atom-1 atom-5\" d=\"M 711.9,118.3 L 715.5,117.4\" style=\"fill:none;fill-rule:evenodd;stroke:#0000FF;stroke-width:1.0px;stroke-linecap:butt;stroke-linejoin:miter;stroke-opacity:1\"/>\n<path class=\"bond-4 atom-1 atom-5\" d=\"M 712.4,123.4 L 717.2,122.3\" style=\"fill:none;fill-rule:evenodd;stroke:#0000FF;stroke-width:1.0px;stroke-linecap:butt;stroke-linejoin:miter;stroke-opacity:1\"/>\n<path class=\"bond-4 atom-1 atom-5\" d=\"M 713.0,128.5 L 719.0,127.2\" style=\"fill:none;fill-rule:evenodd;stroke:#0000FF;stroke-width:1.0px;stroke-linecap:butt;stroke-linejoin:miter;stroke-opacity:1\"/>\n<path class=\"bond-2 atom-2 atom-3\" d=\"M 683.9,93.0 L 681.1,80.6\" style=\"fill:none;fill-rule:evenodd;stroke:#000000;stroke-width:2.0px;stroke-linecap:butt;stroke-linejoin:miter;stroke-opacity:1\"/>\n<path class=\"bond-2 atom-2 atom-3\" d=\"M 681.1,80.6 L 678.4,68.2\" style=\"fill:none;fill-rule:evenodd;stroke:#FF0000;stroke-width:2.0px;stroke-linecap:butt;stroke-linejoin:miter;stroke-opacity:1\"/>\n<path class=\"bond-2 atom-2 atom-3\" d=\"M 677.9,94.3 L 675.1,81.9\" style=\"fill:none;fill-rule:evenodd;stroke:#000000;stroke-width:2.0px;stroke-linecap:butt;stroke-linejoin:miter;stroke-opacity:1\"/>\n<path class=\"bond-2 atom-2 atom-3\" d=\"M 675.1,81.9 L 672.3,69.6\" style=\"fill:none;fill-rule:evenodd;stroke:#FF0000;stroke-width:2.0px;stroke-linecap:butt;stroke-linejoin:miter;stroke-opacity:1\"/>\n<path class=\"bond-3 atom-2 atom-4\" d=\"M 680.9,93.7 L 672.0,101.9\" style=\"fill:none;fill-rule:evenodd;stroke:#000000;stroke-width:2.0px;stroke-linecap:butt;stroke-linejoin:miter;stroke-opacity:1\"/>\n<path class=\"bond-3 atom-2 atom-4\" d=\"M 672.0,101.9 L 663.0,110.2\" style=\"fill:none;fill-rule:evenodd;stroke:#FF0000;stroke-width:2.0px;stroke-linecap:butt;stroke-linejoin:miter;stroke-opacity:1\"/>\n<path class=\"atom-3\" d=\"M 670.1 63.6 Q 670.1 61.5, 671.2 60.3 Q 672.2 59.1, 674.2 59.1 Q 676.1 59.1, 677.1 60.3 Q 678.2 61.5, 678.2 63.6 Q 678.2 65.7, 677.1 66.9 Q 676.1 68.1, 674.2 68.1 Q 672.2 68.1, 671.2 66.9 Q 670.1 65.7, 670.1 63.6 M 674.2 67.1 Q 675.5 67.1, 676.2 66.2 Q 676.9 65.3, 676.9 63.6 Q 676.9 61.9, 676.2 61.0 Q 675.5 60.1, 674.2 60.1 Q 672.8 60.1, 672.1 61.0 Q 671.4 61.8, 671.4 63.6 Q 671.4 65.3, 672.1 66.2 Q 672.8 67.1, 674.2 67.1 \" fill=\"#FF0000\"/>\n<path class=\"atom-4\" d=\"M 646.7 110.2 L 647.9 110.2 L 647.9 114.0 L 652.4 114.0 L 652.4 110.2 L 653.6 110.2 L 653.6 119.0 L 652.4 119.0 L 652.4 114.9 L 647.9 114.9 L 647.9 119.0 L 646.7 119.0 L 646.7 110.2 \" fill=\"#FF0000\"/>\n<path class=\"atom-4\" d=\"M 654.2 114.6 Q 654.2 112.5, 655.2 111.3 Q 656.3 110.1, 658.2 110.1 Q 660.1 110.1, 661.2 111.3 Q 662.2 112.5, 662.2 114.6 Q 662.2 116.7, 661.2 117.9 Q 660.1 119.1, 658.2 119.1 Q 656.3 119.1, 655.2 117.9 Q 654.2 116.7, 654.2 114.6 M 658.2 118.1 Q 659.5 118.1, 660.3 117.2 Q 661.0 116.3, 661.0 114.6 Q 661.0 112.9, 660.3 112.0 Q 659.5 111.1, 658.2 111.1 Q 656.9 111.1, 656.1 112.0 Q 655.4 112.9, 655.4 114.6 Q 655.4 116.4, 656.1 117.2 Q 656.9 118.1, 658.2 118.1 \" fill=\"#FF0000\"/>\n<path class=\"atom-5\" d=\"M 715.2 128.6 L 718.0 133.2 Q 718.3 133.7, 718.8 134.5 Q 719.2 135.3, 719.3 135.4 L 719.3 128.6 L 720.4 128.6 L 720.4 137.3 L 719.2 137.3 L 716.2 132.3 Q 715.8 131.7, 715.4 131.0 Q 715.0 130.3, 714.9 130.1 L 714.9 137.3 L 713.8 137.3 L 713.8 128.6 L 715.2 128.6 \" fill=\"#0000FF\"/>\n<path class=\"atom-5\" d=\"M 721.5 128.6 L 722.7 128.6 L 722.7 132.3 L 727.1 132.3 L 727.1 128.6 L 728.3 128.6 L 728.3 137.3 L 727.1 137.3 L 727.1 133.3 L 722.7 133.3 L 722.7 137.3 L 721.5 137.3 L 721.5 128.6 \" fill=\"#0000FF\"/>\n<path class=\"atom-5\" d=\"M 728.7 137.0 Q 729.0 136.5, 729.5 136.2 Q 730.0 135.9, 730.7 135.9 Q 731.5 135.9, 732.0 136.4 Q 732.5 136.8, 732.5 137.7 Q 732.5 138.5, 731.9 139.3 Q 731.2 140.1, 729.9 141.1 L 732.6 141.1 L 732.6 141.7 L 728.7 141.7 L 728.7 141.2 Q 729.8 140.4, 730.4 139.8 Q 731.1 139.3, 731.4 138.7 Q 731.7 138.2, 731.7 137.7 Q 731.7 137.2, 731.4 136.8 Q 731.1 136.5, 730.7 136.5 Q 730.2 136.5, 729.9 136.7 Q 729.6 136.9, 729.4 137.3 L 728.7 137.0 \" fill=\"#0000FF\"/>\n<path class=\"atom-6\" d=\"M 760.0 94.2 Q 760.1 94.2, 760.5 94.4 Q 761.0 94.6, 761.4 94.7 Q 761.9 94.8, 762.3 94.8 Q 763.1 94.8, 763.6 94.4 Q 764.1 94.0, 764.1 93.3 Q 764.1 92.8, 763.8 92.5 Q 763.6 92.2, 763.2 92.0 Q 762.9 91.9, 762.3 91.7 Q 761.5 91.5, 761.0 91.2 Q 760.5 91.0, 760.2 90.5 Q 759.9 90.1, 759.9 89.3 Q 759.9 88.2, 760.6 87.5 Q 761.4 86.8, 762.9 86.8 Q 763.9 86.8, 765.0 87.3 L 764.7 88.3 Q 763.7 87.8, 762.9 87.8 Q 762.1 87.8, 761.6 88.2 Q 761.1 88.5, 761.1 89.1 Q 761.1 89.6, 761.4 89.9 Q 761.6 90.2, 762.0 90.3 Q 762.3 90.5, 762.9 90.7 Q 763.7 90.9, 764.2 91.2 Q 764.6 91.4, 765.0 91.9 Q 765.3 92.4, 765.3 93.3 Q 765.3 94.5, 764.5 95.1 Q 763.7 95.8, 762.4 95.8 Q 761.6 95.8, 761.0 95.6 Q 760.4 95.4, 759.7 95.2 L 760.0 94.2 \" fill=\"#CCCC00\"/>\n<path class=\"atom-6\" d=\"M 766.4 86.8 L 767.5 86.8 L 767.5 90.5 L 772.0 90.5 L 772.0 86.8 L 773.2 86.8 L 773.2 95.5 L 772.0 95.5 L 772.0 91.5 L 767.5 91.5 L 767.5 95.5 L 766.4 95.5 L 766.4 86.8 \" fill=\"#CCCC00\"/>\n</svg>"
          },
          "metadata": {},
          "execution_count": 9
        }
      ]
    },
    {
      "cell_type": "code",
      "metadata": {
        "id": "_u-RUhZ-0xwa"
      },
      "source": [
        "#  function to search pattern in a mol list\n",
        "def match(mol_list,pattern):\n",
        "  for mol in mol_list:\n",
        "    print(\"\")\n",
        "    print(mol.HasSubstructMatch(pattern))"
      ],
      "execution_count": 10,
      "outputs": []
    },
    {
      "cell_type": "code",
      "metadata": {
        "id": "LgJPJogL0_ub"
      },
      "source": [
        "pattern1 = Chem.MolFromSmiles('S')\n",
        "pattern2 = Chem.MolFromSmiles('C(=O)O')\n",
        "pattern3 = Chem.MolFromSmiles('CC(N)C')\n"
      ],
      "execution_count": 11,
      "outputs": []
    },
    {
      "cell_type": "code",
      "metadata": {
        "colab": {
          "base_uri": "https://localhost:8080/"
        },
        "id": "QStlFimBCB2i",
        "outputId": "41936d73-87f6-4218-93f7-102ccc14c042"
      },
      "source": [
        "match(mol_list,pattern1)\n"
      ],
      "execution_count": 12,
      "outputs": [
        {
          "output_type": "stream",
          "name": "stdout",
          "text": [
            "\n",
            "False\n",
            "\n",
            "False\n",
            "\n",
            "False\n",
            "\n",
            "True\n"
          ]
        }
      ]
    },
    {
      "cell_type": "code",
      "metadata": {
        "colab": {
          "base_uri": "https://localhost:8080/"
        },
        "id": "eFNjOh1lCAMi",
        "outputId": "91512f02-2e4a-4df5-e837-41ca0744c957"
      },
      "source": [
        "match(mol_list,pattern2)\n"
      ],
      "execution_count": 13,
      "outputs": [
        {
          "output_type": "stream",
          "name": "stdout",
          "text": [
            "\n",
            "True\n",
            "\n",
            "True\n",
            "\n",
            "True\n",
            "\n",
            "True\n"
          ]
        }
      ]
    },
    {
      "cell_type": "code",
      "metadata": {
        "colab": {
          "base_uri": "https://localhost:8080/"
        },
        "id": "fCTB_vlYCBMt",
        "outputId": "16269896-9871-4ef1-c66a-c1b6974441b0"
      },
      "source": [
        "match(mol_list,pattern3)"
      ],
      "execution_count": 14,
      "outputs": [
        {
          "output_type": "stream",
          "name": "stdout",
          "text": [
            "\n",
            "False\n",
            "\n",
            "True\n",
            "\n",
            "True\n",
            "\n",
            "True\n"
          ]
        }
      ]
    },
    {
      "cell_type": "code",
      "metadata": {
        "id": "ZKqK0Dun1hUr"
      },
      "source": [
        "# to find ring\n",
        "pattern4 = Chem.MolFromSmarts('[r]')\n",
        "# to find ring with corner\n",
        "pattern5 = Chem.MolFromSmarts('[r5]')\n"
      ],
      "execution_count": 15,
      "outputs": []
    },
    {
      "cell_type": "code",
      "metadata": {
        "colab": {
          "base_uri": "https://localhost:8080/"
        },
        "id": "1fIu1dM213_7",
        "outputId": "ed054b2d-31b5-4429-8a1c-2505ab9ccfe8"
      },
      "source": [
        "match(mol_list,pattern4)\n"
      ],
      "execution_count": 16,
      "outputs": [
        {
          "output_type": "stream",
          "name": "stdout",
          "text": [
            "\n",
            "False\n",
            "\n",
            "True\n",
            "\n",
            "True\n",
            "\n",
            "False\n"
          ]
        }
      ]
    },
    {
      "cell_type": "code",
      "metadata": {
        "colab": {
          "base_uri": "https://localhost:8080/"
        },
        "id": "MfEovsxq5Dg7",
        "outputId": "5d2e8a8c-36b1-447f-901a-8a66a65d7e7a"
      },
      "source": [
        "match(mol_list,pattern5)"
      ],
      "execution_count": 17,
      "outputs": [
        {
          "output_type": "stream",
          "name": "stdout",
          "text": [
            "\n",
            "False\n",
            "\n",
            "False\n",
            "\n",
            "True\n",
            "\n",
            "False\n"
          ]
        }
      ]
    },
    {
      "cell_type": "markdown",
      "metadata": {
        "id": "b7iZ0yHJ5cOI"
      },
      "source": [
        "## **fingerprint **"
      ]
    },
    {
      "cell_type": "markdown",
      "metadata": {
        "id": "jyGaebu55a7S"
      },
      "source": [
        "A unique pattern indicating the presence of a particular molecule, based on specialized analytic techniques such as mass- or x-ray-spectroscopy, used to identify a pollutant, drug, contaminant, or other chemical in a test sample."
      ]
    },
    {
      "cell_type": "code",
      "metadata": {
        "id": "jbEmbP3V5EGq"
      },
      "source": [
        "glycine=mol_list[0]"
      ],
      "execution_count": 18,
      "outputs": []
    },
    {
      "cell_type": "code",
      "metadata": {
        "colab": {
          "base_uri": "https://localhost:8080/",
          "height": 171
        },
        "id": "RD64VQyS5nIC",
        "outputId": "9c1e131a-2d09-4c5a-91c2-6ce09d66e950"
      },
      "source": [
        "glycine"
      ],
      "execution_count": 19,
      "outputs": [
        {
          "output_type": "execute_result",
          "data": {
            "image/png": "[encoded data removed]",
            "text/html": [
              "<?xml version='1.0' encoding='iso-8859-1'?>\n",
              "<svg version='1.1' baseProfile='full'\n",
              "              xmlns='http://www.w3.org/2000/svg'\n",
              "                      xmlns:rdkit='http://www.rdkit.org/xml'\n",
              "                      xmlns:xlink='http://www.w3.org/1999/xlink'\n",
              "                  xml:space='preserve'\n",
              "width='450px' height='150px' viewBox='0 0 450 150'>\n",
              "<!-- END OF HEADER -->\n",
              "<rect style='opacity:1.0;fill:#FFFFFF;stroke:none' width='450.0' height='150.0' x='0.0' y='0.0'> </rect>\n",
              "<path class='bond-0 atom-0 atom-1' d='M 196.4,131.9 L 262.4,93.9' style='fill:none;fill-rule:evenodd;stroke:#000000;stroke-width:2.0px;stroke-linecap:butt;stroke-linejoin:miter;stroke-opacity:1' />\n",
              "<path class='bond-3 atom-0 atom-4' d='M 196.4,131.9 L 168.5,115.8' style='fill:none;fill-rule:evenodd;stroke:#000000;stroke-width:2.0px;stroke-linecap:butt;stroke-linejoin:miter;stroke-opacity:1' />\n",
              "<path class='bond-3 atom-0 atom-4' d='M 168.5,115.8 L 140.6,99.7' style='fill:none;fill-rule:evenodd;stroke:#0000FF;stroke-width:2.0px;stroke-linecap:butt;stroke-linejoin:miter;stroke-opacity:1' />\n",
              "<path class='bond-1 atom-1 atom-2' d='M 270.0,93.9 L 270.0,62.4' style='fill:none;fill-rule:evenodd;stroke:#000000;stroke-width:2.0px;stroke-linecap:butt;stroke-linejoin:miter;stroke-opacity:1' />\n",
              "<path class='bond-1 atom-1 atom-2' d='M 270.0,62.4 L 270.0,30.9' style='fill:none;fill-rule:evenodd;stroke:#FF0000;stroke-width:2.0px;stroke-linecap:butt;stroke-linejoin:miter;stroke-opacity:1' />\n",
              "<path class='bond-1 atom-1 atom-2' d='M 254.8,93.9 L 254.8,62.4' style='fill:none;fill-rule:evenodd;stroke:#000000;stroke-width:2.0px;stroke-linecap:butt;stroke-linejoin:miter;stroke-opacity:1' />\n",
              "<path class='bond-1 atom-1 atom-2' d='M 254.8,62.4 L 254.8,30.9' style='fill:none;fill-rule:evenodd;stroke:#FF0000;stroke-width:2.0px;stroke-linecap:butt;stroke-linejoin:miter;stroke-opacity:1' />\n",
              "<path class='bond-2 atom-1 atom-3' d='M 262.4,93.9 L 289.4,109.5' style='fill:none;fill-rule:evenodd;stroke:#000000;stroke-width:2.0px;stroke-linecap:butt;stroke-linejoin:miter;stroke-opacity:1' />\n",
              "<path class='bond-2 atom-1 atom-3' d='M 289.4,109.5 L 316.5,125.1' style='fill:none;fill-rule:evenodd;stroke:#FF0000;stroke-width:2.0px;stroke-linecap:butt;stroke-linejoin:miter;stroke-opacity:1' />\n",
              "<path  class='atom-2' d='M 252.5 17.8\n",
              "Q 252.5 12.6, 255.0 9.7\n",
              "Q 257.6 6.8, 262.4 6.8\n",
              "Q 267.2 6.8, 269.7 9.7\n",
              "Q 272.3 12.6, 272.3 17.8\n",
              "Q 272.3 23.0, 269.7 26.0\n",
              "Q 267.1 29.0, 262.4 29.0\n",
              "Q 257.6 29.0, 255.0 26.0\n",
              "Q 252.5 23.1, 252.5 17.8\n",
              "M 262.4 26.5\n",
              "Q 265.7 26.5, 267.4 24.3\n",
              "Q 269.2 22.1, 269.2 17.8\n",
              "Q 269.2 13.5, 267.4 11.4\n",
              "Q 265.7 9.3, 262.4 9.3\n",
              "Q 259.1 9.3, 257.3 11.4\n",
              "Q 255.5 13.5, 255.5 17.8\n",
              "Q 255.5 22.1, 257.3 24.3\n",
              "Q 259.1 26.5, 262.4 26.5\n",
              "' fill='#FF0000'/>\n",
              "<path  class='atom-3' d='M 318.4 132.0\n",
              "Q 318.4 126.8, 321.0 123.9\n",
              "Q 323.5 121.0, 328.3 121.0\n",
              "Q 333.1 121.0, 335.7 123.9\n",
              "Q 338.2 126.8, 338.2 132.0\n",
              "Q 338.2 137.2, 335.6 140.2\n",
              "Q 333.0 143.2, 328.3 143.2\n",
              "Q 323.6 143.2, 321.0 140.2\n",
              "Q 318.4 137.3, 318.4 132.0\n",
              "M 328.3 140.7\n",
              "Q 331.6 140.7, 333.4 138.6\n",
              "Q 335.2 136.3, 335.2 132.0\n",
              "Q 335.2 127.8, 333.4 125.6\n",
              "Q 331.6 123.5, 328.3 123.5\n",
              "Q 325.0 123.5, 323.2 125.6\n",
              "Q 321.5 127.7, 321.5 132.0\n",
              "Q 321.5 136.4, 323.2 138.6\n",
              "Q 325.0 140.7, 328.3 140.7\n",
              "' fill='#FF0000'/>\n",
              "<path  class='atom-3' d='M 340.8 121.3\n",
              "L 343.7 121.3\n",
              "L 343.7 130.5\n",
              "L 354.8 130.5\n",
              "L 354.8 121.3\n",
              "L 357.7 121.3\n",
              "L 357.7 142.8\n",
              "L 354.8 142.8\n",
              "L 354.8 132.9\n",
              "L 343.7 132.9\n",
              "L 343.7 142.8\n",
              "L 340.8 142.8\n",
              "L 340.8 121.3\n",
              "' fill='#FF0000'/>\n",
              "<path  class='atom-4' d='M 92.3 83.1\n",
              "L 95.2 83.1\n",
              "L 95.2 92.3\n",
              "L 106.3 92.3\n",
              "L 106.3 83.1\n",
              "L 109.2 83.1\n",
              "L 109.2 104.7\n",
              "L 106.3 104.7\n",
              "L 106.3 94.7\n",
              "L 95.2 94.7\n",
              "L 95.2 104.7\n",
              "L 92.3 104.7\n",
              "L 92.3 83.1\n",
              "' fill='#0000FF'/>\n",
              "<path  class='atom-4' d='M 110.2 103.9\n",
              "Q 110.8 102.5, 112.0 101.8\n",
              "Q 113.2 101.0, 115.0 101.0\n",
              "Q 117.1 101.0, 118.3 102.2\n",
              "Q 119.5 103.4, 119.5 105.4\n",
              "Q 119.5 107.6, 118.0 109.5\n",
              "Q 116.4 111.5, 113.2 113.8\n",
              "L 119.8 113.8\n",
              "L 119.8 115.4\n",
              "L 110.2 115.4\n",
              "L 110.2 114.1\n",
              "Q 112.8 112.2, 114.4 110.8\n",
              "Q 116.0 109.4, 116.8 108.1\n",
              "Q 117.5 106.9, 117.5 105.5\n",
              "Q 117.5 104.2, 116.8 103.4\n",
              "Q 116.2 102.6, 115.0 102.6\n",
              "Q 113.8 102.6, 113.1 103.1\n",
              "Q 112.3 103.6, 111.8 104.6\n",
              "L 110.2 103.9\n",
              "' fill='#0000FF'/>\n",
              "<path  class='atom-4' d='M 125.7 83.1\n",
              "L 132.8 94.5\n",
              "Q 133.5 95.6, 134.6 97.7\n",
              "Q 135.7 99.7, 135.8 99.8\n",
              "L 135.8 83.1\n",
              "L 138.7 83.1\n",
              "L 138.7 104.7\n",
              "L 135.7 104.7\n",
              "L 128.1 92.2\n",
              "Q 127.2 90.7, 126.3 89.0\n",
              "Q 125.4 87.4, 125.1 86.8\n",
              "L 125.1 104.7\n",
              "L 122.3 104.7\n",
              "L 122.3 83.1\n",
              "L 125.7 83.1\n",
              "' fill='#0000FF'/>\n",
              "</svg>\n"
            ],
            "text/plain": [
              "<rdkit.Chem.rdchem.Mol at 0x7fbcac6992b0>"
            ],
            "image/svg+xml": "<?xml version='1.0' encoding='iso-8859-1'?>\n<svg version='1.1' baseProfile='full'\n              xmlns='http://www.w3.org/2000/svg'\n                      xmlns:rdkit='http://www.rdkit.org/xml'\n                      xmlns:xlink='http://www.w3.org/1999/xlink'\n                  xml:space='preserve'\nwidth='450px' height='150px' viewBox='0 0 450 150'>\n<!-- END OF HEADER -->\n<rect style='opacity:1.0;fill:#FFFFFF;stroke:none' width='450.0' height='150.0' x='0.0' y='0.0'> </rect>\n<path class='bond-0 atom-0 atom-1' d='M 196.4,131.9 L 262.4,93.9' style='fill:none;fill-rule:evenodd;stroke:#000000;stroke-width:2.0px;stroke-linecap:butt;stroke-linejoin:miter;stroke-opacity:1' />\n<path class='bond-3 atom-0 atom-4' d='M 196.4,131.9 L 168.5,115.8' style='fill:none;fill-rule:evenodd;stroke:#000000;stroke-width:2.0px;stroke-linecap:butt;stroke-linejoin:miter;stroke-opacity:1' />\n<path class='bond-3 atom-0 atom-4' d='M 168.5,115.8 L 140.6,99.7' style='fill:none;fill-rule:evenodd;stroke:#0000FF;stroke-width:2.0px;stroke-linecap:butt;stroke-linejoin:miter;stroke-opacity:1' />\n<path class='bond-1 atom-1 atom-2' d='M 270.0,93.9 L 270.0,62.4' style='fill:none;fill-rule:evenodd;stroke:#000000;stroke-width:2.0px;stroke-linecap:butt;stroke-linejoin:miter;stroke-opacity:1' />\n<path class='bond-1 atom-1 atom-2' d='M 270.0,62.4 L 270.0,30.9' style='fill:none;fill-rule:evenodd;stroke:#FF0000;stroke-width:2.0px;stroke-linecap:butt;stroke-linejoin:miter;stroke-opacity:1' />\n<path class='bond-1 atom-1 atom-2' d='M 254.8,93.9 L 254.8,62.4' style='fill:none;fill-rule:evenodd;stroke:#000000;stroke-width:2.0px;stroke-linecap:butt;stroke-linejoin:miter;stroke-opacity:1' />\n<path class='bond-1 atom-1 atom-2' d='M 254.8,62.4 L 254.8,30.9' style='fill:none;fill-rule:evenodd;stroke:#FF0000;stroke-width:2.0px;stroke-linecap:butt;stroke-linejoin:miter;stroke-opacity:1' />\n<path class='bond-2 atom-1 atom-3' d='M 262.4,93.9 L 289.4,109.5' style='fill:none;fill-rule:evenodd;stroke:#000000;stroke-width:2.0px;stroke-linecap:butt;stroke-linejoin:miter;stroke-opacity:1' />\n<path class='bond-2 atom-1 atom-3' d='M 289.4,109.5 L 316.5,125.1' style='fill:none;fill-rule:evenodd;stroke:#FF0000;stroke-width:2.0px;stroke-linecap:butt;stroke-linejoin:miter;stroke-opacity:1' />\n<path  class='atom-2' d='M 252.5 17.8\nQ 252.5 12.6, 255.0 9.7\nQ 257.6 6.8, 262.4 6.8\nQ 267.2 6.8, 269.7 9.7\nQ 272.3 12.6, 272.3 17.8\nQ 272.3 23.0, 269.7 26.0\nQ 267.1 29.0, 262.4 29.0\nQ 257.6 29.0, 255.0 26.0\nQ 252.5 23.1, 252.5 17.8\nM 262.4 26.5\nQ 265.7 26.5, 267.4 24.3\nQ 269.2 22.1, 269.2 17.8\nQ 269.2 13.5, 267.4 11.4\nQ 265.7 9.3, 262.4 9.3\nQ 259.1 9.3, 257.3 11.4\nQ 255.5 13.5, 255.5 17.8\nQ 255.5 22.1, 257.3 24.3\nQ 259.1 26.5, 262.4 26.5\n' fill='#FF0000'/>\n<path  class='atom-3' d='M 318.4 132.0\nQ 318.4 126.8, 321.0 123.9\nQ 323.5 121.0, 328.3 121.0\nQ 333.1 121.0, 335.7 123.9\nQ 338.2 126.8, 338.2 132.0\nQ 338.2 137.2, 335.6 140.2\nQ 333.0 143.2, 328.3 143.2\nQ 323.6 143.2, 321.0 140.2\nQ 318.4 137.3, 318.4 132.0\nM 328.3 140.7\nQ 331.6 140.7, 333.4 138.6\nQ 335.2 136.3, 335.2 132.0\nQ 335.2 127.8, 333.4 125.6\nQ 331.6 123.5, 328.3 123.5\nQ 325.0 123.5, 323.2 125.6\nQ 321.5 127.7, 321.5 132.0\nQ 321.5 136.4, 323.2 138.6\nQ 325.0 140.7, 328.3 140.7\n' fill='#FF0000'/>\n<path  class='atom-3' d='M 340.8 121.3\nL 343.7 121.3\nL 343.7 130.5\nL 354.8 130.5\nL 354.8 121.3\nL 357.7 121.3\nL 357.7 142.8\nL 354.8 142.8\nL 354.8 132.9\nL 343.7 132.9\nL 343.7 142.8\nL 340.8 142.8\nL 340.8 121.3\n' fill='#FF0000'/>\n<path  class='atom-4' d='M 92.3 83.1\nL 95.2 83.1\nL 95.2 92.3\nL 106.3 92.3\nL 106.3 83.1\nL 109.2 83.1\nL 109.2 104.7\nL 106.3 104.7\nL 106.3 94.7\nL 95.2 94.7\nL 95.2 104.7\nL 92.3 104.7\nL 92.3 83.1\n' fill='#0000FF'/>\n<path  class='atom-4' d='M 110.2 103.9\nQ 110.8 102.5, 112.0 101.8\nQ 113.2 101.0, 115.0 101.0\nQ 117.1 101.0, 118.3 102.2\nQ 119.5 103.4, 119.5 105.4\nQ 119.5 107.6, 118.0 109.5\nQ 116.4 111.5, 113.2 113.8\nL 119.8 113.8\nL 119.8 115.4\nL 110.2 115.4\nL 110.2 114.1\nQ 112.8 112.2, 114.4 110.8\nQ 116.0 109.4, 116.8 108.1\nQ 117.5 106.9, 117.5 105.5\nQ 117.5 104.2, 116.8 103.4\nQ 116.2 102.6, 115.0 102.6\nQ 113.8 102.6, 113.1 103.1\nQ 112.3 103.6, 111.8 104.6\nL 110.2 103.9\n' fill='#0000FF'/>\n<path  class='atom-4' d='M 125.7 83.1\nL 132.8 94.5\nQ 133.5 95.6, 134.6 97.7\nQ 135.7 99.7, 135.8 99.8\nL 135.8 83.1\nL 138.7 83.1\nL 138.7 104.7\nL 135.7 104.7\nL 128.1 92.2\nQ 127.2 90.7, 126.3 89.0\nQ 125.4 87.4, 125.1 86.8\nL 125.1 104.7\nL 122.3 104.7\nL 122.3 83.1\nL 125.7 83.1\n' fill='#0000FF'/>\n</svg>\n"
          },
          "metadata": {},
          "execution_count": 19
        }
      ]
    },
    {
      "cell_type": "code",
      "metadata": {
        "id": "S5HS7J2C5ozq"
      },
      "source": [
        "fp = AllChem.GetMorganFingerprintAsBitVect(glycine,2,nBits=1024)\n",
        "fp_arr = np.zeros((1,))\n"
      ],
      "execution_count": 20,
      "outputs": []
    },
    {
      "cell_type": "code",
      "metadata": {
        "id": "vh00MEld6pAJ"
      },
      "source": [
        "# to see fp first converted to np arrays"
      ],
      "execution_count": 21,
      "outputs": []
    },
    {
      "cell_type": "code",
      "metadata": {
        "id": "M2hBuDXB53Jq"
      },
      "source": [
        "DataStructs.ConvertToNumpyArray(fp,fp_arr)"
      ],
      "execution_count": 22,
      "outputs": []
    },
    {
      "cell_type": "code",
      "metadata": {
        "colab": {
          "base_uri": "https://localhost:8080/"
        },
        "id": "C5aHCAX455hK",
        "outputId": "0675fb39-ea91-428d-bddf-07d29a710c52"
      },
      "source": [
        "# mostly zeros\n",
        "fp_arr"
      ],
      "execution_count": 23,
      "outputs": [
        {
          "output_type": "execute_result",
          "data": {
            "text/plain": [
              "array([0., 0., 0., ..., 0., 0., 0.])"
            ]
          },
          "metadata": {},
          "execution_count": 23
        }
      ]
    },
    {
      "cell_type": "code",
      "metadata": {
        "colab": {
          "base_uri": "https://localhost:8080/"
        },
        "id": "GRXktRId60PS",
        "outputId": "f78a66c1-505b-4309-d3bc-e14ec6adcf62"
      },
      "source": [
        "# find non zeros\n",
        "np.nonzero(fp_arr)\n",
        "# here we are getting the location of the 1s in the fp_arr"
      ],
      "execution_count": 24,
      "outputs": [
        {
          "output_type": "execute_result",
          "data": {
            "text/plain": [
              "(array([ 27,  80, 147, 389, 650, 713, 807, 893, 966, 981]),)"
            ]
          },
          "metadata": {},
          "execution_count": 24
        }
      ]
    },
    {
      "cell_type": "code",
      "metadata": {
        "colab": {
          "base_uri": "https://localhost:8080/"
        },
        "id": "pNbVmEyU7H-6",
        "outputId": "7ac7ba0c-3fbb-4e1f-c88a-3284ba67b99d"
      },
      "source": [
        "fp_arr[27]"
      ],
      "execution_count": 25,
      "outputs": [
        {
          "output_type": "execute_result",
          "data": {
            "text/plain": [
              "1.0"
            ]
          },
          "metadata": {},
          "execution_count": 25
        }
      ]
    },
    {
      "cell_type": "code",
      "metadata": {
        "id": "7VTeeAaY-Opg"
      },
      "source": [
        " bi={}"
      ],
      "execution_count": 30,
      "outputs": []
    },
    {
      "cell_type": "code",
      "metadata": {
        "id": "SYrPefj49xA3"
      },
      "source": [
        "# As the previous section of Fp is a lil bit abstract \n",
        "# here we are using dictionary and  bitInfo\n",
        "def fingerPrint_bits(mol):\n",
        "  bi={}\n",
        "  fp = AllChem.GetMorganFingerprintAsBitVect(mol,2,nBits=1024,bitInfo=bi)\n",
        "  fp_arr = np.zeros((1,))\n",
        "  DataStructs.ConvertToNumpyArray(fp,fp_arr)\n",
        "  return list(fp.GetOnBits())"
      ],
      "execution_count": 26,
      "outputs": []
    },
    {
      "cell_type": "code",
      "metadata": {
        "id": "qG3rfvy5AAco"
      },
      "source": [
        "def fingerPrint(mol):\n",
        " \n",
        "  fp = AllChem.GetMorganFingerprintAsBitVect(mol,2,nBits=1024,bitInfo=bi)\n",
        "  return fp "
      ],
      "execution_count": 27,
      "outputs": []
    },
    {
      "cell_type": "code",
      "metadata": {
        "colab": {
          "base_uri": "https://localhost:8080/"
        },
        "id": "dZyaRf7m-Iiz",
        "outputId": "7373a407-3fd3-4284-8544-dab42276a412"
      },
      "source": [
        "fingerPrint(glycine)"
      ],
      "execution_count": 39,
      "outputs": [
        {
          "output_type": "execute_result",
          "data": {
            "text/plain": [
              "<rdkit.DataStructs.cDataStructs.ExplicitBitVect at 0x7fbcac4b2210>"
            ]
          },
          "metadata": {},
          "execution_count": 39
        }
      ]
    },
    {
      "cell_type": "code",
      "metadata": {
        "id": "OV2FyGZ3C_JQ"
      },
      "source": [
        "bi={}\n",
        "fp = AllChem.GetMorganFingerprintAsBitVect(glycine,2,nBits=1024,bitInfo=bi)\n",
        "fp_arr = np.zeros((1,))\n",
        "DataStructs.ConvertToNumpyArray(fp,fp_arr)"
      ],
      "execution_count": 43,
      "outputs": []
    },
    {
      "cell_type": "code",
      "metadata": {
        "colab": {
          "base_uri": "https://localhost:8080/"
        },
        "id": "JyN9gLAU72SR",
        "outputId": "8b693f95-9e64-40d0-8054-65b116f06b93"
      },
      "source": [
        "prints= [(glycine,x,bi) for x in fp.GetOnBits()]\n",
        "prints"
      ],
      "execution_count": 44,
      "outputs": [
        {
          "output_type": "execute_result",
          "data": {
            "text/plain": [
              "[(<rdkit.Chem.rdchem.Mol at 0x7fbcac6992b0>,\n",
              "  27,\n",
              "  {27: ((0, 1),),\n",
              "   80: ((0, 0),),\n",
              "   147: ((4, 0),),\n",
              "   389: ((3, 1),),\n",
              "   650: ((2, 0),),\n",
              "   713: ((1, 1),),\n",
              "   807: ((1, 0), (3, 0)),\n",
              "   893: ((2, 1),),\n",
              "   966: ((0, 2),),\n",
              "   981: ((4, 1),)}),\n",
              " (<rdkit.Chem.rdchem.Mol at 0x7fbcac6992b0>,\n",
              "  80,\n",
              "  {27: ((0, 1),),\n",
              "   80: ((0, 0),),\n",
              "   147: ((4, 0),),\n",
              "   389: ((3, 1),),\n",
              "   650: ((2, 0),),\n",
              "   713: ((1, 1),),\n",
              "   807: ((1, 0), (3, 0)),\n",
              "   893: ((2, 1),),\n",
              "   966: ((0, 2),),\n",
              "   981: ((4, 1),)}),\n",
              " (<rdkit.Chem.rdchem.Mol at 0x7fbcac6992b0>,\n",
              "  147,\n",
              "  {27: ((0, 1),),\n",
              "   80: ((0, 0),),\n",
              "   147: ((4, 0),),\n",
              "   389: ((3, 1),),\n",
              "   650: ((2, 0),),\n",
              "   713: ((1, 1),),\n",
              "   807: ((1, 0), (3, 0)),\n",
              "   893: ((2, 1),),\n",
              "   966: ((0, 2),),\n",
              "   981: ((4, 1),)}),\n",
              " (<rdkit.Chem.rdchem.Mol at 0x7fbcac6992b0>,\n",
              "  389,\n",
              "  {27: ((0, 1),),\n",
              "   80: ((0, 0),),\n",
              "   147: ((4, 0),),\n",
              "   389: ((3, 1),),\n",
              "   650: ((2, 0),),\n",
              "   713: ((1, 1),),\n",
              "   807: ((1, 0), (3, 0)),\n",
              "   893: ((2, 1),),\n",
              "   966: ((0, 2),),\n",
              "   981: ((4, 1),)}),\n",
              " (<rdkit.Chem.rdchem.Mol at 0x7fbcac6992b0>,\n",
              "  650,\n",
              "  {27: ((0, 1),),\n",
              "   80: ((0, 0),),\n",
              "   147: ((4, 0),),\n",
              "   389: ((3, 1),),\n",
              "   650: ((2, 0),),\n",
              "   713: ((1, 1),),\n",
              "   807: ((1, 0), (3, 0)),\n",
              "   893: ((2, 1),),\n",
              "   966: ((0, 2),),\n",
              "   981: ((4, 1),)}),\n",
              " (<rdkit.Chem.rdchem.Mol at 0x7fbcac6992b0>,\n",
              "  713,\n",
              "  {27: ((0, 1),),\n",
              "   80: ((0, 0),),\n",
              "   147: ((4, 0),),\n",
              "   389: ((3, 1),),\n",
              "   650: ((2, 0),),\n",
              "   713: ((1, 1),),\n",
              "   807: ((1, 0), (3, 0)),\n",
              "   893: ((2, 1),),\n",
              "   966: ((0, 2),),\n",
              "   981: ((4, 1),)}),\n",
              " (<rdkit.Chem.rdchem.Mol at 0x7fbcac6992b0>,\n",
              "  807,\n",
              "  {27: ((0, 1),),\n",
              "   80: ((0, 0),),\n",
              "   147: ((4, 0),),\n",
              "   389: ((3, 1),),\n",
              "   650: ((2, 0),),\n",
              "   713: ((1, 1),),\n",
              "   807: ((1, 0), (3, 0)),\n",
              "   893: ((2, 1),),\n",
              "   966: ((0, 2),),\n",
              "   981: ((4, 1),)}),\n",
              " (<rdkit.Chem.rdchem.Mol at 0x7fbcac6992b0>,\n",
              "  893,\n",
              "  {27: ((0, 1),),\n",
              "   80: ((0, 0),),\n",
              "   147: ((4, 0),),\n",
              "   389: ((3, 1),),\n",
              "   650: ((2, 0),),\n",
              "   713: ((1, 1),),\n",
              "   807: ((1, 0), (3, 0)),\n",
              "   893: ((2, 1),),\n",
              "   966: ((0, 2),),\n",
              "   981: ((4, 1),)}),\n",
              " (<rdkit.Chem.rdchem.Mol at 0x7fbcac6992b0>,\n",
              "  966,\n",
              "  {27: ((0, 1),),\n",
              "   80: ((0, 0),),\n",
              "   147: ((4, 0),),\n",
              "   389: ((3, 1),),\n",
              "   650: ((2, 0),),\n",
              "   713: ((1, 1),),\n",
              "   807: ((1, 0), (3, 0)),\n",
              "   893: ((2, 1),),\n",
              "   966: ((0, 2),),\n",
              "   981: ((4, 1),)}),\n",
              " (<rdkit.Chem.rdchem.Mol at 0x7fbcac6992b0>,\n",
              "  981,\n",
              "  {27: ((0, 1),),\n",
              "   80: ((0, 0),),\n",
              "   147: ((4, 0),),\n",
              "   389: ((3, 1),),\n",
              "   650: ((2, 0),),\n",
              "   713: ((1, 1),),\n",
              "   807: ((1, 0), (3, 0)),\n",
              "   893: ((2, 1),),\n",
              "   966: ((0, 2),),\n",
              "   981: ((4, 1),)})]"
            ]
          },
          "metadata": {},
          "execution_count": 44
        }
      ]
    },
    {
      "cell_type": "code",
      "metadata": {
        "colab": {
          "base_uri": "https://localhost:8080/",
          "height": 322
        },
        "id": "4peIEQVQ8QvK",
        "outputId": "18f19792-321f-4019-896a-2b42ae863004"
      },
      "source": [
        "# now to draw\n",
        "# Morganbits takes an dictionary as input\n",
        "Draw.DrawMorganBits(prints,molsPerRow=5,legends =[str(x)  for x in fingerPrint(glycine).GetOnBits()])"
      ],
      "execution_count": 45,
      "outputs": [
        {
          "output_type": "execute_result",
          "data": {
            "text/plain": [
              "<IPython.core.display.SVG object>"
            ],
            "image/svg+xml": "<svg baseProfile=\"full\" height=\"300px\" version=\"1.1\" viewBox=\"0 0 750 300\" width=\"750px\" xml:space=\"preserve\" xmlns=\"http://www.w3.org/2000/svg\" xmlns:rdkit=\"http://www.rdkit.org/xml\" xmlns:xlink=\"http://www.w3.org/1999/xlink\">\n<!-- END OF HEADER -->\n<rect height=\"300.0\" style=\"opacity:1.0;fill:#FFFFFF;stroke:none\" width=\"750.0\" x=\"0.0\" y=\"0.0\"> </rect>\n<rect height=\"300.0\" style=\"opacity:1.0;fill:#FFFFFF;stroke:none\" width=\"750.0\" x=\"0.0\" y=\"0.0\"> </rect>\n<rect height=\"300.0\" style=\"opacity:1.0;fill:#FFFFFF;stroke:none\" width=\"750.0\" x=\"0.0\" y=\"0.0\"> </rect>\n<rect height=\"300.0\" style=\"opacity:1.0;fill:#FFFFFF;stroke:none\" width=\"750.0\" x=\"0.0\" y=\"0.0\"> </rect>\n<rect height=\"300.0\" style=\"opacity:1.0;fill:#FFFFFF;stroke:none\" width=\"750.0\" x=\"0.0\" y=\"0.0\"> </rect>\n<rect height=\"300.0\" style=\"opacity:1.0;fill:#FFFFFF;stroke:none\" width=\"750.0\" x=\"0.0\" y=\"0.0\"> </rect>\n<rect height=\"300.0\" style=\"opacity:1.0;fill:#FFFFFF;stroke:none\" width=\"750.0\" x=\"0.0\" y=\"0.0\"> </rect>\n<rect height=\"300.0\" style=\"opacity:1.0;fill:#FFFFFF;stroke:none\" width=\"750.0\" x=\"0.0\" y=\"0.0\"> </rect>\n<rect height=\"300.0\" style=\"opacity:1.0;fill:#FFFFFF;stroke:none\" width=\"750.0\" x=\"0.0\" y=\"0.0\"> </rect>\n<rect height=\"300.0\" style=\"opacity:1.0;fill:#FFFFFF;stroke:none\" width=\"750.0\" x=\"0.0\" y=\"0.0\"> </rect>\n<rect height=\"300.0\" style=\"opacity:1.0;fill:#FFFFFF;stroke:none\" width=\"750.0\" x=\"0.0\" y=\"0.0\"> </rect>\n<ellipse cx=\"61.3\" cy=\"83.2\" rx=\"7.6\" ry=\"7.6\" style=\"fill:#9999E5;fill-rule:evenodd;stroke:#9999E5;stroke-width:2.0px;stroke-linecap:butt;stroke-linejoin:miter;stroke-opacity:1\"/>\n<path class=\"bond-0 atom-0 atom-1\" d=\"M 61.3,83.2 L 94.1,64.3\" style=\"fill:none;fill-rule:evenodd;stroke:#000000;stroke-width:2.0px;stroke-linecap:butt;stroke-linejoin:miter;stroke-opacity:1\"/>\n<path class=\"bond-3 atom-0 atom-4\" d=\"M 61.3,83.2 L 47.3,75.2\" style=\"fill:none;fill-rule:evenodd;stroke:#000000;stroke-width:2.0px;stroke-linecap:butt;stroke-linejoin:miter;stroke-opacity:1\"/>\n<path class=\"bond-3 atom-0 atom-4\" d=\"M 47.3,75.2 L 33.4,67.2\" style=\"fill:none;fill-rule:evenodd;stroke:#0000FF;stroke-width:2.0px;stroke-linecap:butt;stroke-linejoin:miter;stroke-opacity:1\"/>\n<path class=\"bond-1 atom-1 atom-2\" d=\"M 97.9,64.3 L 97.9,26.7\" style=\"fill:none;fill-rule:evenodd;stroke:#E5E5E5;stroke-width:2.0px;stroke-linecap:butt;stroke-linejoin:miter;stroke-opacity:1\"/>\n<path class=\"bond-1 atom-1 atom-2\" d=\"M 90.3,64.3 L 90.3,26.7\" style=\"fill:none;fill-rule:evenodd;stroke:#E5E5E5;stroke-width:2.0px;stroke-linecap:butt;stroke-linejoin:miter;stroke-opacity:1\"/>\n<path class=\"bond-2 atom-1 atom-3\" d=\"M 94.1,64.3 L 123.5,81.2\" style=\"fill:none;fill-rule:evenodd;stroke:#E5E5E5;stroke-width:2.0px;stroke-linecap:butt;stroke-linejoin:miter;stroke-opacity:1\"/>\n<path class=\"atom-2\" d=\"M 92.1 25.1 L 93.7 23.5 L 91.6 23.1 L 91.9 22.0 L 93.8 23.0 L 93.5 20.9 L 94.7 20.9 L 94.4 23.0 L 96.3 22.1 L 96.7 23.1 L 94.5 23.5 L 96.1 25.1 L 95.1 25.8 L 94.1 23.8 L 93.0 25.8 L 92.1 25.1 \" fill=\"#191919\"/>\n<path class=\"atom-3\" d=\"M 124.9 82.0 L 126.5 80.4 L 124.4 80.0 L 124.7 78.9 L 126.7 79.9 L 126.4 77.8 L 127.5 77.8 L 127.2 79.9 L 129.2 79.0 L 129.5 80.0 L 127.4 80.4 L 128.9 82.0 L 128.0 82.7 L 126.9 80.7 L 125.9 82.7 L 124.9 82.0 \" fill=\"#191919\"/>\n<path class=\"atom-4\" d=\"M 9.4 58.9 L 10.8 58.9 L 10.8 63.5 L 16.3 63.5 L 16.3 58.9 L 17.8 58.9 L 17.8 69.6 L 16.3 69.6 L 16.3 64.7 L 10.8 64.7 L 10.8 69.6 L 9.4 69.6 L 9.4 58.9 \" fill=\"#0000FF\"/>\n<path class=\"atom-4\" d=\"M 18.3 69.3 Q 18.6 68.6, 19.2 68.2 Q 19.8 67.8, 20.7 67.8 Q 21.7 67.8, 22.4 68.4 Q 23.0 69.0, 23.0 70.0 Q 23.0 71.1, 22.2 72.1 Q 21.4 73.0, 19.8 74.2 L 23.1 74.2 L 23.1 75.0 L 18.3 75.0 L 18.3 74.3 Q 19.6 73.4, 20.4 72.7 Q 21.2 72.0, 21.6 71.4 Q 21.9 70.7, 21.9 70.1 Q 21.9 69.4, 21.6 69.0 Q 21.3 68.6, 20.7 68.6 Q 20.1 68.6, 19.7 68.9 Q 19.3 69.1, 19.1 69.6 L 18.3 69.3 \" fill=\"#0000FF\"/>\n<path class=\"atom-4\" d=\"M 26.0 58.9 L 29.6 64.6 Q 29.9 65.1, 30.5 66.2 Q 31.0 67.2, 31.1 67.2 L 31.1 58.9 L 32.5 58.9 L 32.5 69.6 L 31.0 69.6 L 27.2 63.4 Q 26.8 62.7, 26.3 61.8 Q 25.9 61.0, 25.7 60.8 L 25.7 69.6 L 24.3 69.6 L 24.3 58.9 L 26.0 58.9 \" fill=\"#0000FF\"/>\n<path d=\"M 63.5 135.1 Q 63.9 134.0, 64.9 133.4 Q 65.9 132.8, 67.3 132.8 Q 69.0 132.8, 69.9 133.7 Q 70.9 134.7, 70.9 136.3 Q 70.9 138.0, 69.7 139.6 Q 68.4 141.1, 65.9 143.0 L 71.1 143.0 L 71.1 144.3 L 63.5 144.3 L 63.5 143.2 Q 65.6 141.7, 66.8 140.6 Q 68.1 139.5, 68.7 138.4 Q 69.3 137.4, 69.3 136.4 Q 69.3 135.3, 68.8 134.7 Q 68.2 134.1, 67.3 134.1 Q 66.4 134.1, 65.8 134.5 Q 65.1 134.8, 64.7 135.6 L 63.5 135.1 \" fill=\"#000000\"/>\n<path d=\"M 77.3 134.2 L 71.4 134.2 L 71.4 132.9 L 78.9 132.9 L 78.9 134.1 L 74.3 144.3 L 72.8 144.3 L 77.3 134.2 \" fill=\"#000000\"/>\n<ellipse cx=\"211.3\" cy=\"83.2\" rx=\"7.6\" ry=\"7.6\" style=\"fill:#9999E5;fill-rule:evenodd;stroke:#9999E5;stroke-width:2.0px;stroke-linecap:butt;stroke-linejoin:miter;stroke-opacity:1\"/>\n<path class=\"bond-0 atom-0 atom-1\" d=\"M 211.3,83.2 L 243.4,64.7\" style=\"fill:none;fill-rule:evenodd;stroke:#E5E5E5;stroke-width:2.0px;stroke-linecap:butt;stroke-linejoin:miter;stroke-opacity:1\"/>\n<path class=\"bond-1 atom-0 atom-2\" d=\"M 211.3,83.2 L 179.1,64.7\" style=\"fill:none;fill-rule:evenodd;stroke:#E5E5E5;stroke-width:2.0px;stroke-linecap:butt;stroke-linejoin:miter;stroke-opacity:1\"/>\n<path class=\"atom-1\" d=\"M 242.1 63.1 L 243.7 61.5 L 241.6 61.0 L 241.9 60.0 L 243.8 60.9 L 243.5 58.8 L 244.7 58.8 L 244.4 60.9 L 246.3 60.0 L 246.7 61.0 L 244.5 61.4 L 246.1 63.0 L 245.1 63.7 L 244.1 61.7 L 243.0 63.7 L 242.1 63.1 \" fill=\"#191919\"/>\n<path class=\"atom-2\" d=\"M 176.4 63.1 L 178.0 61.5 L 175.9 61.0 L 176.2 60.0 L 178.1 60.9 L 177.8 58.8 L 179.0 58.8 L 178.7 60.9 L 180.6 60.0 L 180.9 61.0 L 178.8 61.4 L 180.3 63.0 L 179.4 63.7 L 178.4 61.7 L 177.3 63.7 L 176.4 63.1 \" fill=\"#191919\"/>\n<path d=\"M 218.1 138.1 Q 219.2 138.6, 219.8 139.2 Q 220.4 139.9, 220.4 141.0 Q 220.4 142.0, 219.9 142.7 Q 219.4 143.5, 218.5 143.9 Q 217.6 144.3, 216.4 144.3 Q 214.5 144.3, 213.5 143.4 Q 212.4 142.5, 212.4 141.0 Q 212.4 140.1, 212.8 139.4 Q 213.3 138.7, 214.3 138.2 Q 213.6 137.7, 213.2 137.1 Q 212.8 136.5, 212.8 135.6 Q 212.8 134.2, 213.7 133.4 Q 214.7 132.7, 216.4 132.7 Q 218.0 132.7, 219.0 133.4 Q 220.0 134.2, 220.0 135.6 Q 220.0 136.4, 219.5 137.0 Q 219.0 137.6, 218.1 138.1 M 216.4 133.9 Q 215.4 133.9, 214.9 134.3 Q 214.4 134.8, 214.4 135.6 Q 214.4 136.1, 214.7 136.5 Q 215.1 136.9, 215.6 137.2 Q 216.1 137.4, 217.1 137.7 Q 217.8 137.2, 218.0 136.7 Q 218.4 136.2, 218.4 135.6 Q 218.4 134.8, 217.8 134.3 Q 217.3 133.9, 216.4 133.9 M 216.4 143.1 Q 217.5 143.1, 218.1 142.5 Q 218.8 141.9, 218.8 141.0 Q 218.8 140.4, 218.4 140.0 Q 218.1 139.6, 217.6 139.4 Q 217.1 139.2, 216.2 138.9 L 215.5 138.6 Q 214.7 139.1, 214.3 139.7 Q 214.0 140.3, 214.0 141.0 Q 214.0 141.9, 214.6 142.5 Q 215.3 143.1, 216.4 143.1 \" fill=\"#000000\"/>\n<path d=\"M 225.5 144.2 Q 223.4 144.2, 222.4 142.7 Q 221.3 141.2, 221.3 138.4 Q 221.3 135.7, 222.4 134.2 Q 223.4 132.7, 225.5 132.7 Q 227.6 132.7, 228.6 134.2 Q 229.6 135.7, 229.6 138.4 Q 229.6 141.2, 228.6 142.7 Q 227.6 144.2, 225.5 144.2 M 225.5 143.0 Q 226.7 143.0, 227.4 141.8 Q 228.0 140.7, 228.0 138.4 Q 228.0 136.2, 227.4 135.1 Q 226.7 133.9, 225.5 133.9 Q 224.3 133.9, 223.6 135.1 Q 222.9 136.2, 222.9 138.4 Q 222.9 140.7, 223.6 141.8 Q 224.3 143.0, 225.5 143.0 \" fill=\"#000000\"/>\n<ellipse cx=\"328.4\" cy=\"64.3\" rx=\"7.6\" ry=\"7.6\" style=\"fill:#9999E5;fill-rule:evenodd;stroke:#9999E5;stroke-width:2.0px;stroke-linecap:butt;stroke-linejoin:miter;stroke-opacity:1\"/>\n<path class=\"bond-0 atom-0 atom-1\" d=\"M 357.8,81.2 L 333.3,67.1\" style=\"fill:none;fill-rule:evenodd;stroke:#E5E5E5;stroke-width:2.0px;stroke-linecap:butt;stroke-linejoin:miter;stroke-opacity:1\"/>\n<path class=\"atom-0\" d=\"M 359.2 82.0 L 360.8 80.4 L 358.7 80.0 L 359.0 78.9 L 361.0 79.9 L 360.7 77.8 L 361.8 77.8 L 361.5 79.9 L 363.5 79.0 L 363.8 80.0 L 361.7 80.4 L 363.2 82.0 L 362.3 82.7 L 361.2 80.7 L 360.2 82.7 L 359.2 82.0 \" fill=\"#191919\"/>\n<path class=\"atom-1\" d=\"M 309.4 58.9 L 310.8 58.9 L 310.8 63.5 L 316.3 63.5 L 316.3 58.9 L 317.8 58.9 L 317.8 69.6 L 316.3 69.6 L 316.3 64.7 L 310.8 64.7 L 310.8 69.6 L 309.4 69.6 L 309.4 58.9 \" fill=\"#0000FF\"/>\n<path class=\"atom-1\" d=\"M 318.3 69.3 Q 318.6 68.6, 319.2 68.2 Q 319.8 67.8, 320.7 67.8 Q 321.7 67.8, 322.4 68.4 Q 323.0 69.0, 323.0 70.0 Q 323.0 71.1, 322.2 72.1 Q 321.4 73.0, 319.8 74.2 L 323.1 74.2 L 323.1 75.0 L 318.3 75.0 L 318.3 74.3 Q 319.6 73.4, 320.4 72.7 Q 321.2 72.0, 321.6 71.4 Q 321.9 70.7, 321.9 70.1 Q 321.9 69.4, 321.6 69.0 Q 321.3 68.6, 320.7 68.6 Q 320.1 68.6, 319.7 68.9 Q 319.3 69.1, 319.1 69.6 L 318.3 69.3 \" fill=\"#0000FF\"/>\n<path class=\"atom-1\" d=\"M 326.0 58.9 L 329.6 64.6 Q 329.9 65.1, 330.5 66.2 Q 331.0 67.2, 331.1 67.2 L 331.1 58.9 L 332.5 58.9 L 332.5 69.6 L 331.0 69.6 L 327.2 63.4 Q 326.8 62.7, 326.3 61.8 Q 325.9 61.0, 325.7 60.8 L 325.7 69.6 L 324.3 69.6 L 324.3 58.9 L 326.0 58.9 \" fill=\"#0000FF\"/>\n<path d=\"M 360.1 143.0 L 362.5 143.0 L 362.5 134.6 L 359.8 135.4 L 359.4 134.5 L 362.9 132.9 L 364.0 133.1 L 364.0 143.0 L 366.3 143.0 L 366.3 144.3 L 360.1 144.3 L 360.1 143.0 \" fill=\"#000000\"/>\n<path d=\"M 374.1 140.4 L 375.5 140.4 L 375.5 141.7 L 374.1 141.7 L 374.1 144.3 L 372.6 144.3 L 372.6 141.7 L 366.8 141.7 L 366.8 140.7 L 371.7 133.0 L 374.1 133.0 L 374.1 140.4 M 368.6 140.4 L 372.6 140.4 L 372.6 134.0 L 368.6 140.4 \" fill=\"#000000\"/>\n<path d=\"M 381.7 134.3 L 375.8 134.3 L 375.8 133.0 L 383.3 133.0 L 383.3 134.1 L 378.7 144.3 L 377.2 144.3 L 381.7 134.3 \" fill=\"#000000\"/>\n<ellipse cx=\"577.0\" cy=\"83.2\" rx=\"7.6\" ry=\"7.6\" style=\"fill:#9999E5;fill-rule:evenodd;stroke:#9999E5;stroke-width:2.0px;stroke-linecap:butt;stroke-linejoin:miter;stroke-opacity:1\"/>\n<path class=\"bond-0 atom-0 atom-1\" d=\"M 514.8,81.2 L 544.1,64.3\" style=\"fill:none;fill-rule:evenodd;stroke:#E5E5E5;stroke-width:2.0px;stroke-linecap:butt;stroke-linejoin:miter;stroke-opacity:1\"/>\n<path class=\"bond-1 atom-1 atom-2\" d=\"M 547.9,64.3 L 547.9,26.7\" style=\"fill:none;fill-rule:evenodd;stroke:#E5E5E5;stroke-width:2.0px;stroke-linecap:butt;stroke-linejoin:miter;stroke-opacity:1\"/>\n<path class=\"bond-1 atom-1 atom-2\" d=\"M 540.3,64.3 L 540.3,26.7\" style=\"fill:none;fill-rule:evenodd;stroke:#E5E5E5;stroke-width:2.0px;stroke-linecap:butt;stroke-linejoin:miter;stroke-opacity:1\"/>\n<path class=\"bond-2 atom-1 atom-3\" d=\"M 544.1,64.3 L 557.6,72.0\" style=\"fill:none;fill-rule:evenodd;stroke:#000000;stroke-width:2.0px;stroke-linecap:butt;stroke-linejoin:miter;stroke-opacity:1\"/>\n<path class=\"bond-2 atom-1 atom-3\" d=\"M 557.6,72.0 L 571.1,79.8\" style=\"fill:none;fill-rule:evenodd;stroke:#FF0000;stroke-width:2.0px;stroke-linecap:butt;stroke-linejoin:miter;stroke-opacity:1\"/>\n<path class=\"atom-0\" d=\"M 509.2 82.0 L 510.8 80.4 L 508.7 80.0 L 509.0 78.9 L 511.0 79.9 L 510.7 77.8 L 511.8 77.8 L 511.5 79.9 L 513.5 79.0 L 513.8 80.0 L 511.7 80.4 L 513.2 82.0 L 512.3 82.7 L 511.2 80.7 L 510.2 82.7 L 509.2 82.0 \" fill=\"#191919\"/>\n<path class=\"atom-2\" d=\"M 542.1 25.1 L 543.7 23.5 L 541.6 23.1 L 541.9 22.0 L 543.8 23.0 L 543.5 20.9 L 544.7 20.9 L 544.4 23.0 L 546.3 22.1 L 546.7 23.1 L 544.5 23.5 L 546.1 25.1 L 545.1 25.8 L 544.1 23.8 L 543.0 25.8 L 542.1 25.1 \" fill=\"#191919\"/>\n<path class=\"atom-3\" d=\"M 572.0 83.3 Q 572.0 80.7, 573.3 79.2 Q 574.6 77.8, 577.0 77.8 Q 579.4 77.8, 580.6 79.2 Q 581.9 80.7, 581.9 83.3 Q 581.9 85.9, 580.6 87.4 Q 579.3 88.8, 577.0 88.8 Q 574.6 88.8, 573.3 87.4 Q 572.0 85.9, 572.0 83.3 M 577.0 87.6 Q 578.6 87.6, 579.5 86.5 Q 580.4 85.4, 580.4 83.3 Q 580.4 81.2, 579.5 80.1 Q 578.6 79.0, 577.0 79.0 Q 575.3 79.0, 574.4 80.1 Q 573.6 81.1, 573.6 83.3 Q 573.6 85.4, 574.4 86.5 Q 575.3 87.6, 577.0 87.6 \" fill=\"#FF0000\"/>\n<path class=\"atom-3\" d=\"M 583.2 77.9 L 584.7 77.9 L 584.7 82.5 L 590.1 82.5 L 590.1 77.9 L 591.6 77.9 L 591.6 88.7 L 590.1 88.7 L 590.1 83.7 L 584.7 83.7 L 584.7 88.7 L 583.2 88.7 L 583.2 77.9 \" fill=\"#FF0000\"/>\n<path d=\"M 513.8 138.1 Q 514.9 138.5, 515.5 139.2 Q 516.0 139.9, 516.0 141.0 Q 516.0 142.0, 515.5 142.7 Q 515.1 143.5, 514.2 143.9 Q 513.3 144.3, 512.1 144.3 Q 510.9 144.3, 510.0 143.9 Q 509.1 143.4, 508.4 142.6 L 509.3 141.6 Q 510.0 142.4, 510.6 142.7 Q 511.2 143.0, 512.1 143.0 Q 513.2 143.0, 513.8 142.4 Q 514.4 141.9, 514.4 141.0 Q 514.4 139.8, 513.8 139.3 Q 513.1 138.8, 511.7 138.8 L 510.9 138.8 L 510.9 137.6 L 511.6 137.6 Q 512.9 137.6, 513.5 137.1 Q 514.2 136.6, 514.2 135.6 Q 514.2 134.8, 513.6 134.4 Q 513.1 133.9, 512.2 133.9 Q 511.2 133.9, 510.6 134.3 Q 510.1 134.6, 509.6 135.5 L 508.5 134.9 Q 508.9 133.9, 509.9 133.3 Q 510.8 132.7, 512.2 132.7 Q 513.8 132.7, 514.8 133.4 Q 515.8 134.2, 515.8 135.6 Q 515.8 136.5, 515.3 137.1 Q 514.8 137.8, 513.8 138.1 \" fill=\"#000000\"/>\n<path d=\"M 522.8 138.1 Q 523.8 138.6, 524.4 139.2 Q 525.0 139.9, 525.0 141.0 Q 525.0 142.0, 524.5 142.7 Q 524.0 143.5, 523.1 143.9 Q 522.2 144.3, 521.1 144.3 Q 519.2 144.3, 518.1 143.4 Q 517.0 142.5, 517.0 141.0 Q 517.0 140.1, 517.5 139.4 Q 518.0 138.7, 519.0 138.2 Q 518.2 137.7, 517.8 137.1 Q 517.4 136.5, 517.4 135.6 Q 517.4 134.2, 518.4 133.4 Q 519.4 132.7, 521.0 132.7 Q 522.7 132.7, 523.6 133.4 Q 524.6 134.2, 524.6 135.6 Q 524.6 136.4, 524.1 137.0 Q 523.7 137.6, 522.8 138.1 M 521.0 133.9 Q 520.1 133.9, 519.5 134.3 Q 519.0 134.8, 519.0 135.6 Q 519.0 136.1, 519.4 136.5 Q 519.7 136.9, 520.2 137.2 Q 520.7 137.4, 521.7 137.7 Q 522.4 137.2, 522.7 136.7 Q 523.0 136.2, 523.0 135.6 Q 523.0 134.8, 522.5 134.3 Q 522.0 133.9, 521.0 133.9 M 521.1 143.1 Q 522.1 143.1, 522.8 142.5 Q 523.4 141.9, 523.4 141.0 Q 523.4 140.4, 523.1 140.0 Q 522.7 139.6, 522.2 139.4 Q 521.7 139.2, 520.8 138.9 L 520.1 138.6 Q 519.3 139.1, 519.0 139.7 Q 518.6 140.3, 518.6 141.0 Q 518.6 141.9, 519.3 142.5 Q 520.0 143.1, 521.1 143.1 \" fill=\"#000000\"/>\n<path d=\"M 529.7 132.7 Q 531.7 132.7, 532.7 134.0 Q 533.7 135.4, 533.7 138.1 Q 533.7 141.1, 532.5 142.7 Q 531.2 144.2, 528.8 144.2 Q 528.1 144.2, 527.5 144.1 Q 526.9 143.9, 526.3 143.6 L 527.0 142.5 Q 527.8 143.0, 528.8 143.0 Q 530.4 143.0, 531.2 141.9 Q 532.0 140.9, 532.1 138.8 Q 531.6 139.3, 530.8 139.6 Q 530.1 139.9, 529.3 139.9 Q 528.3 139.9, 527.5 139.4 Q 526.8 139.0, 526.3 138.2 Q 525.9 137.4, 525.9 136.4 Q 525.9 135.3, 526.4 134.5 Q 526.9 133.6, 527.7 133.1 Q 528.6 132.7, 529.7 132.7 M 527.5 136.4 Q 527.5 137.4, 528.1 138.0 Q 528.6 138.6, 529.6 138.6 Q 530.3 138.6, 531.0 138.3 Q 531.7 138.0, 532.1 137.5 Q 532.1 135.7, 531.5 134.8 Q 530.9 134.0, 529.7 134.0 Q 529.1 134.0, 528.6 134.3 Q 528.1 134.6, 527.8 135.2 Q 527.5 135.7, 527.5 136.4 \" fill=\"#000000\"/>\n<ellipse cx=\"694.1\" cy=\"26.3\" rx=\"7.6\" ry=\"7.6\" style=\"fill:#9999E5;fill-rule:evenodd;stroke:#9999E5;stroke-width:2.0px;stroke-linecap:butt;stroke-linejoin:miter;stroke-opacity:1\"/>\n<path class=\"bond-0 atom-0 atom-1\" d=\"M 697.9,57.8 L 697.9,32.7\" style=\"fill:none;fill-rule:evenodd;stroke:#E5E5E5;stroke-width:2.0px;stroke-linecap:butt;stroke-linejoin:miter;stroke-opacity:1\"/>\n<path class=\"bond-0 atom-0 atom-1\" d=\"M 690.3,57.8 L 690.3,32.7\" style=\"fill:none;fill-rule:evenodd;stroke:#E5E5E5;stroke-width:2.0px;stroke-linecap:butt;stroke-linejoin:miter;stroke-opacity:1\"/>\n<path class=\"atom-0\" d=\"M 692.1 63.1 L 693.7 61.5 L 691.6 61.0 L 691.9 60.0 L 693.8 60.9 L 693.5 58.8 L 694.7 58.8 L 694.4 60.9 L 696.3 60.0 L 696.7 61.0 L 694.5 61.4 L 696.1 63.0 L 695.1 63.7 L 694.1 61.7 L 693.0 63.7 L 692.1 63.1 \" fill=\"#191919\"/>\n<path class=\"atom-1\" d=\"M 689.2 26.4 Q 689.2 23.8, 690.5 22.3 Q 691.7 20.9, 694.1 20.9 Q 696.5 20.9, 697.8 22.3 Q 699.0 23.8, 699.0 26.4 Q 699.0 29.0, 697.8 30.4 Q 696.5 31.9, 694.1 31.9 Q 691.7 31.9, 690.5 30.4 Q 689.2 29.0, 689.2 26.4 M 694.1 30.7 Q 695.8 30.7, 696.6 29.6 Q 697.5 28.5, 697.5 26.4 Q 697.5 24.2, 696.6 23.2 Q 695.8 22.1, 694.1 22.1 Q 692.5 22.1, 691.6 23.2 Q 690.7 24.2, 690.7 26.4 Q 690.7 28.5, 691.6 29.6 Q 692.5 30.7, 694.1 30.7 \" fill=\"#FF0000\"/>\n<path d=\"M 662.9 137.1 Q 663.9 137.1, 664.7 137.5 Q 665.5 137.9, 665.9 138.7 Q 666.3 139.5, 666.3 140.5 Q 666.3 141.6, 665.8 142.5 Q 665.4 143.3, 664.5 143.8 Q 663.6 144.3, 662.5 144.3 Q 660.5 144.3, 659.5 142.9 Q 658.5 141.5, 658.5 138.8 Q 658.5 135.8, 659.7 134.3 Q 661.0 132.7, 663.4 132.7 Q 664.1 132.7, 664.7 132.8 Q 665.3 133.0, 665.9 133.3 L 665.3 134.4 Q 664.4 134.0, 663.4 134.0 Q 661.8 134.0, 661.0 135.0 Q 660.2 136.0, 660.1 138.2 Q 660.7 137.6, 661.4 137.4 Q 662.1 137.1, 662.9 137.1 M 662.5 143.0 Q 663.2 143.0, 663.6 142.6 Q 664.2 142.3, 664.4 141.8 Q 664.7 141.2, 664.7 140.5 Q 664.7 139.5, 664.2 138.9 Q 663.6 138.4, 662.6 138.4 Q 661.9 138.4, 661.2 138.6 Q 660.6 138.9, 660.1 139.4 Q 660.2 141.3, 660.8 142.1 Q 661.3 143.0, 662.5 143.0 \" fill=\"#000000\"/>\n<path d=\"M 671.2 137.1 Q 672.2 137.1, 673.0 137.5 Q 673.8 137.9, 674.3 138.7 Q 674.7 139.5, 674.7 140.6 Q 674.7 141.7, 674.2 142.6 Q 673.6 143.4, 672.7 143.8 Q 671.7 144.3, 670.7 144.3 Q 669.6 144.3, 668.7 143.9 Q 667.7 143.5, 667.1 142.8 L 668.0 141.8 Q 668.6 142.4, 669.3 142.7 Q 670.0 143.0, 670.7 143.0 Q 671.7 143.0, 672.4 142.4 Q 673.1 141.7, 673.1 140.6 Q 673.1 139.4, 672.4 138.8 Q 671.7 138.3, 670.6 138.3 Q 669.6 138.3, 668.5 138.7 L 667.7 138.3 L 668.2 132.8 L 674.0 132.8 L 673.9 134.1 L 669.5 134.1 L 669.2 137.5 Q 670.2 137.1, 671.2 137.1 \" fill=\"#000000\"/>\n<path d=\"M 679.9 144.3 Q 677.8 144.3, 676.7 142.7 Q 675.7 141.2, 675.7 138.5 Q 675.7 135.7, 676.7 134.2 Q 677.8 132.7, 679.9 132.7 Q 682.0 132.7, 683.0 134.2 Q 684.0 135.7, 684.0 138.5 Q 684.0 141.2, 683.0 142.7 Q 681.9 144.3, 679.9 144.3 M 679.9 143.0 Q 681.1 143.0, 681.7 141.9 Q 682.4 140.7, 682.4 138.5 Q 682.4 136.2, 681.7 135.1 Q 681.1 134.0, 679.9 134.0 Q 678.6 134.0, 678.0 135.1 Q 677.3 136.2, 677.3 138.5 Q 677.3 140.7, 678.0 141.9 Q 678.6 143.0, 679.9 143.0 \" fill=\"#000000\"/>\n<ellipse cx=\"94.1\" cy=\"214.3\" rx=\"7.6\" ry=\"7.6\" style=\"fill:#9999E5;fill-rule:evenodd;stroke:#9999E5;stroke-width:2.0px;stroke-linecap:butt;stroke-linejoin:miter;stroke-opacity:1\"/>\n<path class=\"bond-0 atom-0 atom-1\" d=\"M 61.3,233.2 L 94.1,214.3\" style=\"fill:none;fill-rule:evenodd;stroke:#000000;stroke-width:2.0px;stroke-linecap:butt;stroke-linejoin:miter;stroke-opacity:1\"/>\n<path class=\"bond-3 atom-0 atom-4\" d=\"M 61.3,233.2 L 29.1,214.7\" style=\"fill:none;fill-rule:evenodd;stroke:#E5E5E5;stroke-width:2.0px;stroke-linecap:butt;stroke-linejoin:miter;stroke-opacity:1\"/>\n<path class=\"bond-1 atom-1 atom-2\" d=\"M 97.9,214.3 L 97.9,198.6\" style=\"fill:none;fill-rule:evenodd;stroke:#000000;stroke-width:2.0px;stroke-linecap:butt;stroke-linejoin:miter;stroke-opacity:1\"/>\n<path class=\"bond-1 atom-1 atom-2\" d=\"M 97.9,198.6 L 97.9,182.9\" style=\"fill:none;fill-rule:evenodd;stroke:#FF0000;stroke-width:2.0px;stroke-linecap:butt;stroke-linejoin:miter;stroke-opacity:1\"/>\n<path class=\"bond-1 atom-1 atom-2\" d=\"M 90.3,214.3 L 90.3,198.6\" style=\"fill:none;fill-rule:evenodd;stroke:#000000;stroke-width:2.0px;stroke-linecap:butt;stroke-linejoin:miter;stroke-opacity:1\"/>\n<path class=\"bond-1 atom-1 atom-2\" d=\"M 90.3,198.6 L 90.3,182.9\" style=\"fill:none;fill-rule:evenodd;stroke:#FF0000;stroke-width:2.0px;stroke-linecap:butt;stroke-linejoin:miter;stroke-opacity:1\"/>\n<path class=\"bond-2 atom-1 atom-3\" d=\"M 94.1,214.3 L 107.6,222.0\" style=\"fill:none;fill-rule:evenodd;stroke:#000000;stroke-width:2.0px;stroke-linecap:butt;stroke-linejoin:miter;stroke-opacity:1\"/>\n<path class=\"bond-2 atom-1 atom-3\" d=\"M 107.6,222.0 L 121.1,229.8\" style=\"fill:none;fill-rule:evenodd;stroke:#FF0000;stroke-width:2.0px;stroke-linecap:butt;stroke-linejoin:miter;stroke-opacity:1\"/>\n<path class=\"atom-2\" d=\"M 89.2 176.4 Q 89.2 173.8, 90.5 172.3 Q 91.7 170.9, 94.1 170.9 Q 96.5 170.9, 97.8 172.3 Q 99.0 173.8, 99.0 176.4 Q 99.0 179.0, 97.8 180.4 Q 96.5 181.9, 94.1 181.9 Q 91.7 181.9, 90.5 180.4 Q 89.2 179.0, 89.2 176.4 M 94.1 180.7 Q 95.8 180.7, 96.6 179.6 Q 97.5 178.5, 97.5 176.4 Q 97.5 174.2, 96.6 173.2 Q 95.8 172.1, 94.1 172.1 Q 92.5 172.1, 91.6 173.2 Q 90.7 174.2, 90.7 176.4 Q 90.7 178.5, 91.6 179.6 Q 92.5 180.7, 94.1 180.7 \" fill=\"#FF0000\"/>\n<path class=\"atom-3\" d=\"M 122.0 233.3 Q 122.0 230.7, 123.3 229.2 Q 124.6 227.8, 127.0 227.8 Q 129.4 227.8, 130.6 229.2 Q 131.9 230.7, 131.9 233.3 Q 131.9 235.9, 130.6 237.4 Q 129.3 238.8, 127.0 238.8 Q 124.6 238.8, 123.3 237.4 Q 122.0 235.9, 122.0 233.3 M 127.0 237.6 Q 128.6 237.6, 129.5 236.5 Q 130.4 235.4, 130.4 233.3 Q 130.4 231.2, 129.5 230.1 Q 128.6 229.0, 127.0 229.0 Q 125.3 229.0, 124.4 230.1 Q 123.6 231.1, 123.6 233.3 Q 123.6 235.4, 124.4 236.5 Q 125.3 237.6, 127.0 237.6 \" fill=\"#FF0000\"/>\n<path class=\"atom-3\" d=\"M 133.2 227.9 L 134.7 227.9 L 134.7 232.5 L 140.1 232.5 L 140.1 227.9 L 141.6 227.9 L 141.6 238.7 L 140.1 238.7 L 140.1 233.7 L 134.7 233.7 L 134.7 238.7 L 133.2 238.7 L 133.2 227.9 \" fill=\"#FF0000\"/>\n<path class=\"atom-4\" d=\"M 26.4 213.1 L 28.0 211.5 L 25.9 211.0 L 26.2 210.0 L 28.1 210.9 L 27.8 208.8 L 29.0 208.8 L 28.7 210.9 L 30.6 210.0 L 30.9 211.0 L 28.8 211.4 L 30.3 213.0 L 29.4 213.7 L 28.4 211.7 L 27.3 213.7 L 26.4 213.1 \" fill=\"#191919\"/>\n<path d=\"M 65.4 284.1 L 59.5 284.1 L 59.5 282.8 L 67.0 282.8 L 67.0 283.9 L 62.4 294.1 L 60.9 294.1 L 65.4 284.1 \" fill=\"#000000\"/>\n<path d=\"M 68.5 292.8 L 71.0 292.8 L 71.0 284.4 L 68.2 285.2 L 67.9 284.3 L 71.3 282.7 L 72.5 282.9 L 72.5 292.8 L 74.7 292.8 L 74.7 294.1 L 68.5 294.1 L 68.5 292.8 \" fill=\"#000000\"/>\n<path d=\"M 80.8 288.1 Q 81.9 288.5, 82.4 289.2 Q 83.0 289.9, 83.0 291.0 Q 83.0 292.0, 82.5 292.7 Q 82.0 293.5, 81.1 293.9 Q 80.3 294.3, 79.1 294.3 Q 77.9 294.3, 77.0 293.9 Q 76.1 293.4, 75.4 292.6 L 76.3 291.6 Q 77.0 292.4, 77.6 292.7 Q 78.2 293.0, 79.1 293.0 Q 80.1 293.0, 80.8 292.4 Q 81.4 291.9, 81.4 291.0 Q 81.4 289.8, 80.7 289.3 Q 80.1 288.8, 78.7 288.8 L 77.9 288.8 L 77.9 287.6 L 78.6 287.6 Q 79.8 287.6, 80.5 287.1 Q 81.1 286.6, 81.1 285.6 Q 81.1 284.8, 80.6 284.4 Q 80.1 283.9, 79.1 283.9 Q 78.2 283.9, 77.6 284.3 Q 77.0 284.6, 76.6 285.5 L 75.5 284.9 Q 75.9 283.9, 76.8 283.3 Q 77.8 282.7, 79.1 282.7 Q 80.8 282.7, 81.8 283.4 Q 82.7 284.2, 82.7 285.6 Q 82.7 286.5, 82.3 287.1 Q 81.8 287.8, 80.8 288.1 \" fill=\"#000000\"/>\n<ellipse cx=\"244.1\" cy=\"214.3\" rx=\"7.6\" ry=\"7.6\" style=\"fill:#9999E5;fill-rule:evenodd;stroke:#9999E5;stroke-width:2.0px;stroke-linecap:butt;stroke-linejoin:miter;stroke-opacity:1\"/>\n<path class=\"bond-0 atom-0 atom-1\" d=\"M 214.8,231.2 L 244.1,214.3\" style=\"fill:none;fill-rule:evenodd;stroke:#E5E5E5;stroke-width:2.0px;stroke-linecap:butt;stroke-linejoin:miter;stroke-opacity:1\"/>\n<path class=\"bond-1 atom-1 atom-2\" d=\"M 247.9,214.3 L 247.9,176.7\" style=\"fill:none;fill-rule:evenodd;stroke:#E5E5E5;stroke-width:2.0px;stroke-linecap:butt;stroke-linejoin:miter;stroke-opacity:1\"/>\n<path class=\"bond-1 atom-1 atom-2\" d=\"M 240.3,214.3 L 240.3,176.7\" style=\"fill:none;fill-rule:evenodd;stroke:#E5E5E5;stroke-width:2.0px;stroke-linecap:butt;stroke-linejoin:miter;stroke-opacity:1\"/>\n<path class=\"bond-2 atom-1 atom-3\" d=\"M 244.1,214.3 L 273.5,231.2\" style=\"fill:none;fill-rule:evenodd;stroke:#E5E5E5;stroke-width:2.0px;stroke-linecap:butt;stroke-linejoin:miter;stroke-opacity:1\"/>\n<path class=\"atom-0\" d=\"M 209.2 232.0 L 210.8 230.4 L 208.7 230.0 L 209.0 228.9 L 211.0 229.9 L 210.7 227.8 L 211.8 227.8 L 211.5 229.9 L 213.5 229.0 L 213.8 230.0 L 211.7 230.4 L 213.2 232.0 L 212.3 232.7 L 211.2 230.7 L 210.2 232.7 L 209.2 232.0 \" fill=\"#191919\"/>\n<path class=\"atom-2\" d=\"M 242.1 175.1 L 243.7 173.5 L 241.6 173.1 L 241.9 172.0 L 243.8 173.0 L 243.5 170.9 L 244.7 170.9 L 244.4 173.0 L 246.3 172.1 L 246.7 173.1 L 244.5 173.5 L 246.1 175.1 L 245.1 175.8 L 244.1 173.8 L 243.0 175.8 L 242.1 175.1 \" fill=\"#191919\"/>\n<path class=\"atom-3\" d=\"M 274.9 232.0 L 276.5 230.4 L 274.4 230.0 L 274.7 228.9 L 276.7 229.9 L 276.4 227.8 L 277.5 227.8 L 277.2 229.9 L 279.2 229.0 L 279.5 230.0 L 277.4 230.4 L 278.9 232.0 L 278.0 232.7 L 276.9 230.7 L 275.9 232.7 L 274.9 232.0 \" fill=\"#191919\"/>\n<path d=\"M 214.0 288.1 Q 215.1 288.6, 215.7 289.2 Q 216.3 289.9, 216.3 291.0 Q 216.3 292.0, 215.8 292.7 Q 215.3 293.5, 214.4 293.9 Q 213.5 294.3, 212.3 294.3 Q 210.4 294.3, 209.4 293.4 Q 208.3 292.5, 208.3 291.0 Q 208.3 290.1, 208.7 289.4 Q 209.2 288.7, 210.2 288.2 Q 209.5 287.7, 209.1 287.1 Q 208.7 286.5, 208.7 285.6 Q 208.7 284.2, 209.6 283.4 Q 210.6 282.7, 212.3 282.7 Q 213.9 282.7, 214.9 283.4 Q 215.8 284.2, 215.8 285.6 Q 215.8 286.4, 215.4 287.0 Q 214.9 287.6, 214.0 288.1 M 212.3 283.9 Q 211.3 283.9, 210.8 284.3 Q 210.3 284.8, 210.3 285.6 Q 210.3 286.1, 210.6 286.5 Q 211.0 286.9, 211.5 287.2 Q 212.0 287.4, 213.0 287.7 Q 213.7 287.2, 213.9 286.7 Q 214.2 286.2, 214.2 285.6 Q 214.2 284.8, 213.7 284.3 Q 213.2 283.9, 212.3 283.9 M 212.3 293.1 Q 213.4 293.1, 214.0 292.5 Q 214.7 291.9, 214.7 291.0 Q 214.7 290.4, 214.3 290.0 Q 214.0 289.6, 213.5 289.4 Q 213.0 289.2, 212.1 288.9 L 211.4 288.6 Q 210.6 289.1, 210.2 289.7 Q 209.9 290.3, 209.9 291.0 Q 209.9 291.9, 210.5 292.5 Q 211.2 293.1, 212.3 293.1 \" fill=\"#000000\"/>\n<path d=\"M 221.4 294.2 Q 219.3 294.2, 218.3 292.7 Q 217.2 291.2, 217.2 288.4 Q 217.2 285.7, 218.3 284.2 Q 219.3 282.7, 221.4 282.7 Q 223.5 282.7, 224.5 284.2 Q 225.5 285.7, 225.5 288.4 Q 225.5 291.2, 224.5 292.7 Q 223.5 294.2, 221.4 294.2 M 221.4 293.0 Q 222.6 293.0, 223.3 291.8 Q 223.9 290.7, 223.9 288.4 Q 223.9 286.2, 223.3 285.1 Q 222.6 283.9, 221.4 283.9 Q 220.2 283.9, 219.5 285.1 Q 218.8 286.2, 218.8 288.4 Q 218.8 290.7, 219.5 291.8 Q 220.2 293.0, 221.4 293.0 \" fill=\"#000000\"/>\n<path d=\"M 231.8 284.1 L 225.8 284.1 L 225.8 282.8 L 233.3 282.8 L 233.3 283.9 L 228.8 294.1 L 227.2 294.1 L 231.8 284.1 \" fill=\"#000000\"/>\n<ellipse cx=\"394.1\" cy=\"176.3\" rx=\"7.6\" ry=\"7.6\" style=\"fill:#9999E5;fill-rule:evenodd;stroke:#9999E5;stroke-width:2.0px;stroke-linecap:butt;stroke-linejoin:miter;stroke-opacity:1\"/>\n<path class=\"bond-0 atom-0 atom-1\" d=\"M 364.8,231.2 L 394.1,214.3\" style=\"fill:none;fill-rule:evenodd;stroke:#E5E5E5;stroke-width:2.0px;stroke-linecap:butt;stroke-linejoin:miter;stroke-opacity:1\"/>\n<path class=\"bond-1 atom-1 atom-2\" d=\"M 397.9,214.3 L 397.9,198.6\" style=\"fill:none;fill-rule:evenodd;stroke:#000000;stroke-width:2.0px;stroke-linecap:butt;stroke-linejoin:miter;stroke-opacity:1\"/>\n<path class=\"bond-1 atom-1 atom-2\" d=\"M 397.9,198.6 L 397.9,182.9\" style=\"fill:none;fill-rule:evenodd;stroke:#FF0000;stroke-width:2.0px;stroke-linecap:butt;stroke-linejoin:miter;stroke-opacity:1\"/>\n<path class=\"bond-1 atom-1 atom-2\" d=\"M 390.3,214.3 L 390.3,198.6\" style=\"fill:none;fill-rule:evenodd;stroke:#000000;stroke-width:2.0px;stroke-linecap:butt;stroke-linejoin:miter;stroke-opacity:1\"/>\n<path class=\"bond-1 atom-1 atom-2\" d=\"M 390.3,198.6 L 390.3,182.9\" style=\"fill:none;fill-rule:evenodd;stroke:#FF0000;stroke-width:2.0px;stroke-linecap:butt;stroke-linejoin:miter;stroke-opacity:1\"/>\n<path class=\"bond-2 atom-1 atom-3\" d=\"M 394.1,214.3 L 423.5,231.2\" style=\"fill:none;fill-rule:evenodd;stroke:#E5E5E5;stroke-width:2.0px;stroke-linecap:butt;stroke-linejoin:miter;stroke-opacity:1\"/>\n<path class=\"atom-0\" d=\"M 359.2 232.0 L 360.8 230.4 L 358.7 230.0 L 359.0 228.9 L 361.0 229.9 L 360.7 227.8 L 361.8 227.8 L 361.5 229.9 L 363.5 229.0 L 363.8 230.0 L 361.7 230.4 L 363.2 232.0 L 362.3 232.7 L 361.2 230.7 L 360.2 232.7 L 359.2 232.0 \" fill=\"#191919\"/>\n<path class=\"atom-2\" d=\"M 389.2 176.4 Q 389.2 173.8, 390.5 172.3 Q 391.7 170.9, 394.1 170.9 Q 396.5 170.9, 397.8 172.3 Q 399.0 173.8, 399.0 176.4 Q 399.0 179.0, 397.8 180.4 Q 396.5 181.9, 394.1 181.9 Q 391.7 181.9, 390.5 180.4 Q 389.2 179.0, 389.2 176.4 M 394.1 180.7 Q 395.8 180.7, 396.6 179.6 Q 397.5 178.5, 397.5 176.4 Q 397.5 174.2, 396.6 173.2 Q 395.8 172.1, 394.1 172.1 Q 392.5 172.1, 391.6 173.2 Q 390.7 174.2, 390.7 176.4 Q 390.7 178.5, 391.6 179.6 Q 392.5 180.7, 394.1 180.7 \" fill=\"#FF0000\"/>\n<path class=\"atom-3\" d=\"M 424.9 232.0 L 426.5 230.4 L 424.4 230.0 L 424.7 228.9 L 426.7 229.9 L 426.4 227.8 L 427.5 227.8 L 427.2 229.9 L 429.2 229.0 L 429.5 230.0 L 427.4 230.4 L 428.9 232.0 L 428.0 232.7 L 426.9 230.7 L 425.9 232.7 L 424.9 232.0 \" fill=\"#191919\"/>\n<path d=\"M 364.2 288.1 Q 365.3 288.6, 365.9 289.2 Q 366.5 289.9, 366.5 291.0 Q 366.5 292.0, 366.0 292.7 Q 365.5 293.5, 364.6 293.9 Q 363.7 294.3, 362.5 294.3 Q 360.6 294.3, 359.6 293.4 Q 358.5 292.5, 358.5 291.0 Q 358.5 290.1, 358.9 289.4 Q 359.4 288.7, 360.4 288.2 Q 359.7 287.7, 359.3 287.1 Q 358.9 286.5, 358.9 285.6 Q 358.9 284.2, 359.8 283.4 Q 360.8 282.7, 362.5 282.7 Q 364.1 282.7, 365.1 283.4 Q 366.0 284.2, 366.0 285.6 Q 366.0 286.4, 365.6 287.0 Q 365.1 287.6, 364.2 288.1 M 362.5 283.9 Q 361.5 283.9, 361.0 284.3 Q 360.5 284.8, 360.5 285.6 Q 360.5 286.1, 360.8 286.5 Q 361.2 286.9, 361.7 287.2 Q 362.2 287.4, 363.2 287.7 Q 363.9 287.2, 364.1 286.7 Q 364.4 286.2, 364.4 285.6 Q 364.4 284.8, 363.9 284.3 Q 363.4 283.9, 362.5 283.9 M 362.5 293.1 Q 363.6 293.1, 364.2 292.5 Q 364.9 291.9, 364.9 291.0 Q 364.9 290.4, 364.5 290.0 Q 364.2 289.6, 363.7 289.4 Q 363.2 289.2, 362.3 288.9 L 361.6 288.6 Q 360.8 289.1, 360.4 289.7 Q 360.1 290.3, 360.1 291.0 Q 360.1 291.9, 360.7 292.5 Q 361.4 293.1, 362.5 293.1 \" fill=\"#000000\"/>\n<path d=\"M 371.2 282.7 Q 373.2 282.7, 374.2 284.0 Q 375.2 285.4, 375.2 288.1 Q 375.2 291.1, 373.9 292.7 Q 372.7 294.2, 370.3 294.2 Q 369.6 294.2, 369.0 294.1 Q 368.4 293.9, 367.8 293.6 L 368.4 292.5 Q 369.2 293.0, 370.3 293.0 Q 371.9 293.0, 372.7 291.9 Q 373.5 290.9, 373.6 288.8 Q 373.0 289.3, 372.3 289.6 Q 371.6 289.9, 370.8 289.9 Q 369.8 289.9, 369.0 289.4 Q 368.2 289.0, 367.8 288.2 Q 367.3 287.4, 367.3 286.4 Q 367.3 285.3, 367.8 284.5 Q 368.3 283.6, 369.2 283.1 Q 370.0 282.7, 371.2 282.7 M 368.9 286.4 Q 368.9 287.4, 369.5 288.0 Q 370.1 288.6, 371.1 288.6 Q 371.7 288.6, 372.4 288.3 Q 373.1 288.0, 373.6 287.5 Q 373.5 285.7, 372.9 284.8 Q 372.3 284.0, 371.1 284.0 Q 370.5 284.0, 370.0 284.3 Q 369.5 284.6, 369.2 285.2 Q 368.9 285.7, 368.9 286.4 \" fill=\"#000000\"/>\n<path d=\"M 381.3 288.1 Q 382.4 288.5, 382.9 289.2 Q 383.5 289.9, 383.5 291.0 Q 383.5 292.0, 383.0 292.7 Q 382.5 293.5, 381.6 293.9 Q 380.8 294.3, 379.6 294.3 Q 378.4 294.3, 377.5 293.9 Q 376.6 293.4, 375.9 292.6 L 376.8 291.6 Q 377.5 292.4, 378.1 292.7 Q 378.7 293.0, 379.6 293.0 Q 380.6 293.0, 381.3 292.4 Q 381.9 291.9, 381.9 291.0 Q 381.9 289.8, 381.2 289.3 Q 380.6 288.8, 379.2 288.8 L 378.4 288.8 L 378.4 287.6 L 379.1 287.6 Q 380.3 287.6, 381.0 287.1 Q 381.6 286.6, 381.6 285.6 Q 381.6 284.8, 381.1 284.4 Q 380.6 283.9, 379.6 283.9 Q 378.7 283.9, 378.1 284.3 Q 377.5 284.6, 377.1 285.5 L 376.0 284.9 Q 376.4 283.9, 377.3 283.3 Q 378.3 282.7, 379.6 282.7 Q 381.3 282.7, 382.3 283.4 Q 383.2 284.2, 383.2 285.6 Q 383.2 286.5, 382.8 287.1 Q 382.3 287.8, 381.3 288.1 \" fill=\"#000000\"/>\n<ellipse cx=\"511.3\" cy=\"233.2\" rx=\"7.6\" ry=\"7.6\" style=\"fill:#9999E5;fill-rule:evenodd;stroke:#9999E5;stroke-width:2.0px;stroke-linecap:butt;stroke-linejoin:miter;stroke-opacity:1\"/>\n<path class=\"bond-0 atom-0 atom-1\" d=\"M 511.3,233.2 L 544.1,214.3\" style=\"fill:none;fill-rule:evenodd;stroke:#000000;stroke-width:2.0px;stroke-linecap:butt;stroke-linejoin:miter;stroke-opacity:1\"/>\n<path class=\"bond-3 atom-0 atom-4\" d=\"M 511.3,233.2 L 497.3,225.2\" style=\"fill:none;fill-rule:evenodd;stroke:#000000;stroke-width:2.0px;stroke-linecap:butt;stroke-linejoin:miter;stroke-opacity:1\"/>\n<path class=\"bond-3 atom-0 atom-4\" d=\"M 497.3,225.2 L 483.4,217.2\" style=\"fill:none;fill-rule:evenodd;stroke:#0000FF;stroke-width:2.0px;stroke-linecap:butt;stroke-linejoin:miter;stroke-opacity:1\"/>\n<path class=\"bond-1 atom-1 atom-2\" d=\"M 547.9,214.3 L 547.9,198.6\" style=\"fill:none;fill-rule:evenodd;stroke:#000000;stroke-width:2.0px;stroke-linecap:butt;stroke-linejoin:miter;stroke-opacity:1\"/>\n<path class=\"bond-1 atom-1 atom-2\" d=\"M 547.9,198.6 L 547.9,182.9\" style=\"fill:none;fill-rule:evenodd;stroke:#FF0000;stroke-width:2.0px;stroke-linecap:butt;stroke-linejoin:miter;stroke-opacity:1\"/>\n<path class=\"bond-1 atom-1 atom-2\" d=\"M 540.3,214.3 L 540.3,198.6\" style=\"fill:none;fill-rule:evenodd;stroke:#000000;stroke-width:2.0px;stroke-linecap:butt;stroke-linejoin:miter;stroke-opacity:1\"/>\n<path class=\"bond-1 atom-1 atom-2\" d=\"M 540.3,198.6 L 540.3,182.9\" style=\"fill:none;fill-rule:evenodd;stroke:#FF0000;stroke-width:2.0px;stroke-linecap:butt;stroke-linejoin:miter;stroke-opacity:1\"/>\n<path class=\"bond-2 atom-1 atom-3\" d=\"M 544.1,214.3 L 557.6,222.0\" style=\"fill:none;fill-rule:evenodd;stroke:#000000;stroke-width:2.0px;stroke-linecap:butt;stroke-linejoin:miter;stroke-opacity:1\"/>\n<path class=\"bond-2 atom-1 atom-3\" d=\"M 557.6,222.0 L 571.1,229.8\" style=\"fill:none;fill-rule:evenodd;stroke:#FF0000;stroke-width:2.0px;stroke-linecap:butt;stroke-linejoin:miter;stroke-opacity:1\"/>\n<path class=\"atom-2\" d=\"M 539.2 176.4 Q 539.2 173.8, 540.5 172.3 Q 541.7 170.9, 544.1 170.9 Q 546.5 170.9, 547.8 172.3 Q 549.0 173.8, 549.0 176.4 Q 549.0 179.0, 547.8 180.4 Q 546.5 181.9, 544.1 181.9 Q 541.7 181.9, 540.5 180.4 Q 539.2 179.0, 539.2 176.4 M 544.1 180.7 Q 545.8 180.7, 546.6 179.6 Q 547.5 178.5, 547.5 176.4 Q 547.5 174.2, 546.6 173.2 Q 545.8 172.1, 544.1 172.1 Q 542.5 172.1, 541.6 173.2 Q 540.7 174.2, 540.7 176.4 Q 540.7 178.5, 541.6 179.6 Q 542.5 180.7, 544.1 180.7 \" fill=\"#FF0000\"/>\n<path class=\"atom-3\" d=\"M 572.0 233.3 Q 572.0 230.7, 573.3 229.2 Q 574.6 227.8, 577.0 227.8 Q 579.4 227.8, 580.6 229.2 Q 581.9 230.7, 581.9 233.3 Q 581.9 235.9, 580.6 237.4 Q 579.3 238.8, 577.0 238.8 Q 574.6 238.8, 573.3 237.4 Q 572.0 235.9, 572.0 233.3 M 577.0 237.6 Q 578.6 237.6, 579.5 236.5 Q 580.4 235.4, 580.4 233.3 Q 580.4 231.2, 579.5 230.1 Q 578.6 229.0, 577.0 229.0 Q 575.3 229.0, 574.4 230.1 Q 573.6 231.1, 573.6 233.3 Q 573.6 235.4, 574.4 236.5 Q 575.3 237.6, 577.0 237.6 \" fill=\"#FF0000\"/>\n<path class=\"atom-3\" d=\"M 583.2 227.9 L 584.7 227.9 L 584.7 232.5 L 590.1 232.5 L 590.1 227.9 L 591.6 227.9 L 591.6 238.7 L 590.1 238.7 L 590.1 233.7 L 584.7 233.7 L 584.7 238.7 L 583.2 238.7 L 583.2 227.9 \" fill=\"#FF0000\"/>\n<path class=\"atom-4\" d=\"M 459.4 208.9 L 460.8 208.9 L 460.8 213.5 L 466.3 213.5 L 466.3 208.9 L 467.8 208.9 L 467.8 219.6 L 466.3 219.6 L 466.3 214.7 L 460.8 214.7 L 460.8 219.6 L 459.4 219.6 L 459.4 208.9 \" fill=\"#0000FF\"/>\n<path class=\"atom-4\" d=\"M 468.3 219.3 Q 468.6 218.6, 469.2 218.2 Q 469.8 217.8, 470.7 217.8 Q 471.7 217.8, 472.4 218.4 Q 473.0 219.0, 473.0 220.0 Q 473.0 221.1, 472.2 222.1 Q 471.4 223.0, 469.8 224.2 L 473.1 224.2 L 473.1 225.0 L 468.3 225.0 L 468.3 224.3 Q 469.6 223.4, 470.4 222.7 Q 471.2 222.0, 471.6 221.4 Q 471.9 220.7, 471.9 220.1 Q 471.9 219.4, 471.6 219.0 Q 471.3 218.6, 470.7 218.6 Q 470.1 218.6, 469.7 218.9 Q 469.3 219.1, 469.1 219.6 L 468.3 219.3 \" fill=\"#0000FF\"/>\n<path class=\"atom-4\" d=\"M 476.0 208.9 L 479.6 214.6 Q 479.9 215.1, 480.5 216.2 Q 481.0 217.2, 481.1 217.2 L 481.1 208.9 L 482.5 208.9 L 482.5 219.6 L 481.0 219.6 L 477.2 213.4 Q 476.8 212.7, 476.3 211.8 Q 475.9 211.0, 475.7 210.8 L 475.7 219.6 L 474.3 219.6 L 474.3 208.9 L 476.0 208.9 \" fill=\"#0000FF\"/>\n<path d=\"M 512.0 282.7 Q 514.0 282.7, 515.0 284.1 Q 516.0 285.4, 516.0 288.1 Q 516.0 291.2, 514.8 292.7 Q 513.5 294.3, 511.1 294.3 Q 510.4 294.3, 509.8 294.1 Q 509.2 294.0, 508.6 293.6 L 509.2 292.5 Q 510.1 293.0, 511.1 293.0 Q 512.7 293.0, 513.5 292.0 Q 514.3 290.9, 514.4 288.8 Q 513.8 289.3, 513.1 289.6 Q 512.4 289.9, 511.6 289.9 Q 510.6 289.9, 509.8 289.5 Q 509.0 289.0, 508.6 288.2 Q 508.2 287.5, 508.2 286.5 Q 508.2 285.4, 508.6 284.5 Q 509.1 283.6, 510.0 283.2 Q 510.9 282.7, 512.0 282.7 M 509.8 286.4 Q 509.8 287.5, 510.3 288.0 Q 510.9 288.6, 511.9 288.6 Q 512.6 288.6, 513.2 288.3 Q 513.9 288.0, 514.4 287.6 Q 514.3 285.7, 513.7 284.8 Q 513.2 284.0, 512.0 284.0 Q 511.3 284.0, 510.8 284.3 Q 510.3 284.6, 510.1 285.2 Q 509.8 285.8, 509.8 286.4 \" fill=\"#000000\"/>\n<path d=\"M 521.5 287.1 Q 522.5 287.1, 523.3 287.5 Q 524.1 287.9, 524.5 288.7 Q 525.0 289.5, 525.0 290.5 Q 525.0 291.6, 524.5 292.5 Q 524.0 293.3, 523.1 293.8 Q 522.3 294.3, 521.2 294.3 Q 519.1 294.3, 518.1 292.9 Q 517.1 291.5, 517.1 288.8 Q 517.1 285.8, 518.4 284.3 Q 519.6 282.7, 522.0 282.7 Q 522.7 282.7, 523.3 282.8 Q 523.9 283.0, 524.5 283.3 L 523.9 284.4 Q 523.1 284.0, 522.1 284.0 Q 520.5 284.0, 519.6 285.0 Q 518.8 286.0, 518.7 288.2 Q 519.3 287.6, 520.0 287.4 Q 520.8 287.1, 521.5 287.1 M 521.2 293.0 Q 521.8 293.0, 522.3 292.6 Q 522.8 292.3, 523.1 291.8 Q 523.4 291.2, 523.4 290.5 Q 523.4 289.5, 522.8 288.9 Q 522.2 288.4, 521.3 288.4 Q 520.6 288.4, 519.9 288.6 Q 519.2 288.9, 518.7 289.4 Q 518.8 291.3, 519.4 292.1 Q 520.0 293.0, 521.2 293.0 \" fill=\"#000000\"/>\n<path d=\"M 530.5 287.1 Q 531.5 287.1, 532.3 287.5 Q 533.0 287.9, 533.5 288.7 Q 533.9 289.5, 533.9 290.5 Q 533.9 291.6, 533.4 292.5 Q 532.9 293.3, 532.1 293.8 Q 531.2 294.3, 530.1 294.3 Q 528.1 294.3, 527.1 292.9 Q 526.1 291.5, 526.1 288.8 Q 526.1 285.8, 527.3 284.3 Q 528.6 282.7, 531.0 282.7 Q 531.7 282.7, 532.3 282.8 Q 532.9 283.0, 533.5 283.3 L 532.8 284.4 Q 532.0 284.0, 531.0 284.0 Q 529.4 284.0, 528.6 285.0 Q 527.8 286.0, 527.7 288.2 Q 528.2 287.6, 529.0 287.4 Q 529.7 287.1, 530.5 287.1 M 530.1 293.0 Q 530.7 293.0, 531.2 292.6 Q 531.7 292.3, 532.0 291.8 Q 532.3 291.2, 532.3 290.5 Q 532.3 289.5, 531.7 288.9 Q 531.2 288.4, 530.2 288.4 Q 529.5 288.4, 528.8 288.6 Q 528.1 288.9, 527.7 289.4 Q 527.7 291.3, 528.3 292.1 Q 528.9 293.0, 530.1 293.0 \" fill=\"#000000\"/>\n<ellipse cx=\"628.4\" cy=\"214.3\" rx=\"7.6\" ry=\"7.6\" style=\"fill:#9999E5;fill-rule:evenodd;stroke:#9999E5;stroke-width:2.0px;stroke-linecap:butt;stroke-linejoin:miter;stroke-opacity:1\"/>\n<path class=\"bond-0 atom-0 atom-1\" d=\"M 661.3,233.2 L 693.4,214.7\" style=\"fill:none;fill-rule:evenodd;stroke:#E5E5E5;stroke-width:2.0px;stroke-linecap:butt;stroke-linejoin:miter;stroke-opacity:1\"/>\n<path class=\"bond-1 atom-0 atom-2\" d=\"M 661.3,233.2 L 647.3,225.2\" style=\"fill:none;fill-rule:evenodd;stroke:#000000;stroke-width:2.0px;stroke-linecap:butt;stroke-linejoin:miter;stroke-opacity:1\"/>\n<path class=\"bond-1 atom-0 atom-2\" d=\"M 647.3,225.2 L 633.4,217.2\" style=\"fill:none;fill-rule:evenodd;stroke:#0000FF;stroke-width:2.0px;stroke-linecap:butt;stroke-linejoin:miter;stroke-opacity:1\"/>\n<path class=\"atom-1\" d=\"M 692.1 213.1 L 693.7 211.5 L 691.6 211.0 L 691.9 210.0 L 693.8 210.9 L 693.5 208.8 L 694.7 208.8 L 694.4 210.9 L 696.3 210.0 L 696.7 211.0 L 694.5 211.4 L 696.1 213.0 L 695.1 213.7 L 694.1 211.7 L 693.0 213.7 L 692.1 213.1 \" fill=\"#191919\"/>\n<path class=\"atom-2\" d=\"M 609.4 208.9 L 610.8 208.9 L 610.8 213.5 L 616.3 213.5 L 616.3 208.9 L 617.8 208.9 L 617.8 219.6 L 616.3 219.6 L 616.3 214.7 L 610.8 214.7 L 610.8 219.6 L 609.4 219.6 L 609.4 208.9 \" fill=\"#0000FF\"/>\n<path class=\"atom-2\" d=\"M 618.3 219.3 Q 618.6 218.6, 619.2 218.2 Q 619.8 217.8, 620.7 217.8 Q 621.7 217.8, 622.4 218.4 Q 623.0 219.0, 623.0 220.0 Q 623.0 221.1, 622.2 222.1 Q 621.4 223.0, 619.8 224.2 L 623.1 224.2 L 623.1 225.0 L 618.3 225.0 L 618.3 224.3 Q 619.6 223.4, 620.4 222.7 Q 621.2 222.0, 621.6 221.4 Q 621.9 220.7, 621.9 220.1 Q 621.9 219.4, 621.6 219.0 Q 621.3 218.6, 620.7 218.6 Q 620.1 218.6, 619.7 218.9 Q 619.3 219.1, 619.1 219.6 L 618.3 219.3 \" fill=\"#0000FF\"/>\n<path class=\"atom-2\" d=\"M 626.0 208.9 L 629.6 214.6 Q 629.9 215.1, 630.5 216.2 Q 631.0 217.2, 631.1 217.2 L 631.1 208.9 L 632.5 208.9 L 632.5 219.6 L 631.0 219.6 L 627.2 213.4 Q 626.8 212.7, 626.3 211.8 Q 625.9 211.0, 625.7 210.8 L 625.7 219.6 L 624.3 219.6 L 624.3 208.9 L 626.0 208.9 \" fill=\"#0000FF\"/>\n<path d=\"M 662.5 282.7 Q 664.5 282.7, 665.5 284.0 Q 666.5 285.4, 666.5 288.1 Q 666.5 291.1, 665.2 292.7 Q 664.0 294.2, 661.6 294.2 Q 660.9 294.2, 660.3 294.1 Q 659.7 293.9, 659.1 293.6 L 659.7 292.5 Q 660.6 293.0, 661.6 293.0 Q 663.2 293.0, 664.0 291.9 Q 664.8 290.9, 664.9 288.8 Q 664.3 289.3, 663.6 289.6 Q 662.9 289.9, 662.1 289.9 Q 661.1 289.9, 660.3 289.4 Q 659.5 289.0, 659.1 288.2 Q 658.7 287.4, 658.7 286.4 Q 658.7 285.3, 659.1 284.5 Q 659.6 283.6, 660.5 283.1 Q 661.4 282.7, 662.5 282.7 M 660.3 286.4 Q 660.3 287.4, 660.8 288.0 Q 661.4 288.6, 662.4 288.6 Q 663.1 288.6, 663.7 288.3 Q 664.4 288.0, 664.9 287.5 Q 664.8 285.7, 664.2 284.8 Q 663.6 284.0, 662.4 284.0 Q 661.8 284.0, 661.3 284.3 Q 660.8 284.6, 660.5 285.2 Q 660.3 285.7, 660.3 286.4 \" fill=\"#000000\"/>\n<path d=\"M 673.3 288.1 Q 674.3 288.6, 674.9 289.2 Q 675.5 289.9, 675.5 291.0 Q 675.5 292.0, 675.0 292.7 Q 674.5 293.5, 673.6 293.9 Q 672.7 294.3, 671.6 294.3 Q 669.7 294.3, 668.6 293.4 Q 667.5 292.5, 667.5 291.0 Q 667.5 290.1, 668.0 289.4 Q 668.5 288.7, 669.5 288.2 Q 668.7 287.7, 668.3 287.1 Q 667.9 286.5, 667.9 285.6 Q 667.9 284.2, 668.9 283.4 Q 669.9 282.7, 671.5 282.7 Q 673.1 282.7, 674.1 283.4 Q 675.1 284.2, 675.1 285.6 Q 675.1 286.4, 674.6 287.0 Q 674.2 287.6, 673.3 288.1 M 671.5 283.9 Q 670.6 283.9, 670.0 284.3 Q 669.5 284.8, 669.5 285.6 Q 669.5 286.1, 669.9 286.5 Q 670.2 286.9, 670.7 287.2 Q 671.2 287.4, 672.2 287.7 Q 672.9 287.2, 673.2 286.7 Q 673.5 286.2, 673.5 285.6 Q 673.5 284.8, 673.0 284.3 Q 672.4 283.9, 671.5 283.9 M 671.6 293.1 Q 672.6 293.1, 673.3 292.5 Q 673.9 291.9, 673.9 291.0 Q 673.9 290.4, 673.6 290.0 Q 673.2 289.6, 672.7 289.4 Q 672.2 289.2, 671.3 288.9 L 670.6 288.6 Q 669.8 289.1, 669.5 289.7 Q 669.1 290.3, 669.1 291.0 Q 669.1 291.9, 669.8 292.5 Q 670.4 293.1, 671.6 293.1 \" fill=\"#000000\"/>\n<path d=\"M 677.0 292.8 L 679.5 292.8 L 679.5 284.4 L 676.7 285.2 L 676.4 284.3 L 679.8 282.7 L 681.0 282.9 L 681.0 292.8 L 683.2 292.8 L 683.2 294.1 L 677.0 294.1 L 677.0 292.8 \" fill=\"#000000\"/>\n</svg>"
          },
          "metadata": {},
          "execution_count": 45
        }
      ]
    },
    {
      "cell_type": "code",
      "metadata": {
        "id": "CdUEhV0U8ohS"
      },
      "source": [
        "cysteine = mol_list[3]\n",
        "img = Draw.MolsToGridImage([glycine,cysteine],molsPerRow=5)"
      ],
      "execution_count": 46,
      "outputs": []
    },
    {
      "cell_type": "code",
      "metadata": {
        "colab": {
          "base_uri": "https://localhost:8080/",
          "height": 222
        },
        "id": "awrx2KhY9i_K",
        "outputId": "29a29f75-cbd0-4630-d8f1-e833392d04d7"
      },
      "source": [
        "img"
      ],
      "execution_count": 47,
      "outputs": [
        {
          "output_type": "execute_result",
          "data": {
            "text/plain": [
              "<IPython.core.display.SVG object>"
            ],
            "image/svg+xml": "<svg baseProfile=\"full\" height=\"200px\" version=\"1.1\" viewBox=\"0 0 1000 200\" width=\"1000px\" xml:space=\"preserve\" xmlns=\"http://www.w3.org/2000/svg\" xmlns:rdkit=\"http://www.rdkit.org/xml\" xmlns:xlink=\"http://www.w3.org/1999/xlink\">\n<!-- END OF HEADER -->\n<rect height=\"200.0\" style=\"opacity:1.0;fill:#FFFFFF;stroke:none\" width=\"1000.0\" x=\"0.0\" y=\"0.0\"> </rect>\n<rect height=\"200.0\" style=\"opacity:1.0;fill:#FFFFFF;stroke:none\" width=\"1000.0\" x=\"0.0\" y=\"0.0\"> </rect>\n<rect height=\"200.0\" style=\"opacity:1.0;fill:#FFFFFF;stroke:none\" width=\"1000.0\" x=\"0.0\" y=\"0.0\"> </rect>\n<path class=\"bond-0 atom-0 atom-1\" d=\"M 70.1,117.6 L 108.5,95.4\" style=\"fill:none;fill-rule:evenodd;stroke:#000000;stroke-width:2.0px;stroke-linecap:butt;stroke-linejoin:miter;stroke-opacity:1\"/>\n<path class=\"bond-3 atom-0 atom-4\" d=\"M 70.1,117.6 L 53.8,108.2\" style=\"fill:none;fill-rule:evenodd;stroke:#000000;stroke-width:2.0px;stroke-linecap:butt;stroke-linejoin:miter;stroke-opacity:1\"/>\n<path class=\"bond-3 atom-0 atom-4\" d=\"M 53.8,108.2 L 37.5,98.8\" style=\"fill:none;fill-rule:evenodd;stroke:#0000FF;stroke-width:2.0px;stroke-linecap:butt;stroke-linejoin:miter;stroke-opacity:1\"/>\n<path class=\"bond-1 atom-1 atom-2\" d=\"M 112.9,95.4 L 112.9,77.1\" style=\"fill:none;fill-rule:evenodd;stroke:#000000;stroke-width:2.0px;stroke-linecap:butt;stroke-linejoin:miter;stroke-opacity:1\"/>\n<path class=\"bond-1 atom-1 atom-2\" d=\"M 112.9,77.1 L 112.9,58.7\" style=\"fill:none;fill-rule:evenodd;stroke:#FF0000;stroke-width:2.0px;stroke-linecap:butt;stroke-linejoin:miter;stroke-opacity:1\"/>\n<path class=\"bond-1 atom-1 atom-2\" d=\"M 104.1,95.4 L 104.1,77.1\" style=\"fill:none;fill-rule:evenodd;stroke:#000000;stroke-width:2.0px;stroke-linecap:butt;stroke-linejoin:miter;stroke-opacity:1\"/>\n<path class=\"bond-1 atom-1 atom-2\" d=\"M 104.1,77.1 L 104.1,58.7\" style=\"fill:none;fill-rule:evenodd;stroke:#FF0000;stroke-width:2.0px;stroke-linecap:butt;stroke-linejoin:miter;stroke-opacity:1\"/>\n<path class=\"bond-2 atom-1 atom-3\" d=\"M 108.5,95.4 L 124.3,104.5\" style=\"fill:none;fill-rule:evenodd;stroke:#000000;stroke-width:2.0px;stroke-linecap:butt;stroke-linejoin:miter;stroke-opacity:1\"/>\n<path class=\"bond-2 atom-1 atom-3\" d=\"M 124.3,104.5 L 140.0,113.6\" style=\"fill:none;fill-rule:evenodd;stroke:#FF0000;stroke-width:2.0px;stroke-linecap:butt;stroke-linejoin:miter;stroke-opacity:1\"/>\n<path class=\"atom-2\" d=\"M 102.7 51.1 Q 102.7 48.1, 104.2 46.4 Q 105.7 44.7, 108.5 44.7 Q 111.3 44.7, 112.8 46.4 Q 114.3 48.1, 114.3 51.1 Q 114.3 54.2, 112.8 55.9 Q 111.2 57.6, 108.5 57.6 Q 105.7 57.6, 104.2 55.9 Q 102.7 54.2, 102.7 51.1 M 108.5 56.2 Q 110.4 56.2, 111.4 54.9 Q 112.5 53.6, 112.5 51.1 Q 112.5 48.6, 111.4 47.4 Q 110.4 46.1, 108.5 46.1 Q 106.6 46.1, 105.5 47.4 Q 104.5 48.6, 104.5 51.1 Q 104.5 53.6, 105.5 54.9 Q 106.6 56.2, 108.5 56.2 \" fill=\"#FF0000\"/>\n<path class=\"atom-3\" d=\"M 141.1 117.7 Q 141.1 114.6, 142.6 113.0 Q 144.1 111.3, 146.9 111.3 Q 149.7 111.3, 151.2 113.0 Q 152.7 114.6, 152.7 117.7 Q 152.7 120.7, 151.2 122.4 Q 149.7 124.2, 146.9 124.2 Q 144.1 124.2, 142.6 122.4 Q 141.1 120.7, 141.1 117.7 M 146.9 122.7 Q 148.8 122.7, 149.9 121.5 Q 150.9 120.2, 150.9 117.7 Q 150.9 115.2, 149.9 113.9 Q 148.8 112.7, 146.9 112.7 Q 145.0 112.7, 144.0 113.9 Q 142.9 115.2, 142.9 117.7 Q 142.9 120.2, 144.0 121.5 Q 145.0 122.7, 146.9 122.7 \" fill=\"#FF0000\"/>\n<path class=\"atom-3\" d=\"M 154.2 111.4 L 155.9 111.4 L 155.9 116.8 L 162.3 116.8 L 162.3 111.4 L 164.0 111.4 L 164.0 124.0 L 162.3 124.0 L 162.3 118.2 L 155.9 118.2 L 155.9 124.0 L 154.2 124.0 L 154.2 111.4 \" fill=\"#FF0000\"/>\n<path class=\"atom-4\" d=\"M 9.4 89.2 L 11.1 89.2 L 11.1 94.5 L 17.5 94.5 L 17.5 89.2 L 19.2 89.2 L 19.2 101.7 L 17.5 101.7 L 17.5 95.9 L 11.1 95.9 L 11.1 101.7 L 9.4 101.7 L 9.4 89.2 \" fill=\"#0000FF\"/>\n<path class=\"atom-4\" d=\"M 19.8 101.3 Q 20.1 100.5, 20.9 100.1 Q 21.6 99.6, 22.6 99.6 Q 23.9 99.6, 24.6 100.3 Q 25.3 101.0, 25.3 102.2 Q 25.3 103.4, 24.4 104.6 Q 23.5 105.7, 21.6 107.1 L 25.4 107.1 L 25.4 108.0 L 19.8 108.0 L 19.8 107.2 Q 21.4 106.1, 22.3 105.3 Q 23.2 104.5, 23.7 103.7 Q 24.1 103.0, 24.1 102.2 Q 24.1 101.4, 23.7 101.0 Q 23.3 100.6, 22.6 100.6 Q 21.9 100.6, 21.5 100.8 Q 21.1 101.1, 20.7 101.7 L 19.8 101.3 \" fill=\"#0000FF\"/>\n<path class=\"atom-4\" d=\"M 28.9 89.2 L 33.0 95.8 Q 33.4 96.5, 34.1 97.7 Q 34.7 98.8, 34.7 98.9 L 34.7 89.2 L 36.4 89.2 L 36.4 101.7 L 34.7 101.7 L 30.3 94.4 Q 29.8 93.6, 29.2 92.6 Q 28.7 91.6, 28.5 91.3 L 28.5 101.7 L 26.9 101.7 L 26.9 89.2 L 28.9 89.2 \" fill=\"#0000FF\"/>\n<path class=\"bond-0 atom-0 atom-1\" d=\"M 333.2,73.5 L 300.6,103.5\" style=\"fill:none;fill-rule:evenodd;stroke:#000000;stroke-width:2.0px;stroke-linecap:butt;stroke-linejoin:miter;stroke-opacity:1\"/>\n<path class=\"bond-5 atom-0 atom-6\" d=\"M 333.2,73.5 L 351.8,79.3\" style=\"fill:none;fill-rule:evenodd;stroke:#000000;stroke-width:2.0px;stroke-linecap:butt;stroke-linejoin:miter;stroke-opacity:1\"/>\n<path class=\"bond-5 atom-0 atom-6\" d=\"M 351.8,79.3 L 370.4,85.1\" style=\"fill:none;fill-rule:evenodd;stroke:#CCCC00;stroke-width:2.0px;stroke-linecap:butt;stroke-linejoin:miter;stroke-opacity:1\"/>\n<path class=\"bond-1 atom-1 atom-2\" d=\"M 300.6,103.5 L 258.2,90.3\" style=\"fill:none;fill-rule:evenodd;stroke:#000000;stroke-width:2.0px;stroke-linecap:butt;stroke-linejoin:miter;stroke-opacity:1\"/>\n<path class=\"bond-4 atom-1 atom-5\" d=\"M 301.2,109.7 L 302.6,109.3\" style=\"fill:none;fill-rule:evenodd;stroke:#000000;stroke-width:1.0px;stroke-linecap:butt;stroke-linejoin:miter;stroke-opacity:1\"/>\n<path class=\"bond-4 atom-1 atom-5\" d=\"M 301.8,115.8 L 304.7,115.2\" style=\"fill:none;fill-rule:evenodd;stroke:#000000;stroke-width:1.0px;stroke-linecap:butt;stroke-linejoin:miter;stroke-opacity:1\"/>\n<path class=\"bond-4 atom-1 atom-5\" d=\"M 302.4,121.9 L 306.7,121.0\" style=\"fill:none;fill-rule:evenodd;stroke:#000000;stroke-width:1.0px;stroke-linecap:butt;stroke-linejoin:miter;stroke-opacity:1\"/>\n<path class=\"bond-4 atom-1 atom-5\" d=\"M 303.0,128.1 L 308.8,126.8\" style=\"fill:none;fill-rule:evenodd;stroke:#0000FF;stroke-width:1.0px;stroke-linecap:butt;stroke-linejoin:miter;stroke-opacity:1\"/>\n<path class=\"bond-4 atom-1 atom-5\" d=\"M 303.7,134.2 L 310.9,132.6\" style=\"fill:none;fill-rule:evenodd;stroke:#0000FF;stroke-width:1.0px;stroke-linecap:butt;stroke-linejoin:miter;stroke-opacity:1\"/>\n<path class=\"bond-4 atom-1 atom-5\" d=\"M 304.3,140.4 L 312.9,138.4\" style=\"fill:none;fill-rule:evenodd;stroke:#0000FF;stroke-width:1.0px;stroke-linecap:butt;stroke-linejoin:miter;stroke-opacity:1\"/>\n<path class=\"bond-2 atom-2 atom-3\" d=\"M 262.5,89.3 L 258.5,71.5\" style=\"fill:none;fill-rule:evenodd;stroke:#000000;stroke-width:2.0px;stroke-linecap:butt;stroke-linejoin:miter;stroke-opacity:1\"/>\n<path class=\"bond-2 atom-2 atom-3\" d=\"M 258.5,71.5 L 254.5,53.7\" style=\"fill:none;fill-rule:evenodd;stroke:#FF0000;stroke-width:2.0px;stroke-linecap:butt;stroke-linejoin:miter;stroke-opacity:1\"/>\n<path class=\"bond-2 atom-2 atom-3\" d=\"M 253.9,91.2 L 249.9,73.4\" style=\"fill:none;fill-rule:evenodd;stroke:#000000;stroke-width:2.0px;stroke-linecap:butt;stroke-linejoin:miter;stroke-opacity:1\"/>\n<path class=\"bond-2 atom-2 atom-3\" d=\"M 249.9,73.4 L 245.9,55.6\" style=\"fill:none;fill-rule:evenodd;stroke:#FF0000;stroke-width:2.0px;stroke-linecap:butt;stroke-linejoin:miter;stroke-opacity:1\"/>\n<path class=\"bond-3 atom-2 atom-4\" d=\"M 258.2,90.3 L 245.3,102.1\" style=\"fill:none;fill-rule:evenodd;stroke:#000000;stroke-width:2.0px;stroke-linecap:butt;stroke-linejoin:miter;stroke-opacity:1\"/>\n<path class=\"bond-3 atom-2 atom-4\" d=\"M 245.3,102.1 L 232.5,114.0\" style=\"fill:none;fill-rule:evenodd;stroke:#FF0000;stroke-width:2.0px;stroke-linecap:butt;stroke-linejoin:miter;stroke-opacity:1\"/>\n<path class=\"atom-3\" d=\"M 242.7 47.0 Q 242.7 44.0, 244.2 42.3 Q 245.7 40.6, 248.5 40.6 Q 251.3 40.6, 252.8 42.3 Q 254.3 44.0, 254.3 47.0 Q 254.3 50.1, 252.8 51.8 Q 251.3 53.5, 248.5 53.5 Q 245.7 53.5, 244.2 51.8 Q 242.7 50.1, 242.7 47.0 M 248.5 52.1 Q 250.4 52.1, 251.4 50.8 Q 252.5 49.5, 252.5 47.0 Q 252.5 44.6, 251.4 43.3 Q 250.4 42.1, 248.5 42.1 Q 246.6 42.1, 245.5 43.3 Q 244.5 44.5, 244.5 47.0 Q 244.5 49.6, 245.5 50.8 Q 246.6 52.1, 248.5 52.1 \" fill=\"#FF0000\"/>\n<path class=\"atom-4\" d=\"M 209.1 114.1 L 210.8 114.1 L 210.8 119.5 L 217.2 119.5 L 217.2 114.1 L 218.9 114.1 L 218.9 126.7 L 217.2 126.7 L 217.2 120.9 L 210.8 120.9 L 210.8 126.7 L 209.1 126.7 L 209.1 114.1 \" fill=\"#FF0000\"/>\n<path class=\"atom-4\" d=\"M 219.8 120.4 Q 219.8 117.3, 221.3 115.7 Q 222.8 114.0, 225.6 114.0 Q 228.4 114.0, 229.9 115.7 Q 231.3 117.3, 231.3 120.4 Q 231.3 123.4, 229.8 125.2 Q 228.3 126.9, 225.6 126.9 Q 222.8 126.9, 221.3 125.2 Q 219.8 123.4, 219.8 120.4 M 225.6 125.5 Q 227.5 125.5, 228.5 124.2 Q 229.6 122.9, 229.6 120.4 Q 229.6 117.9, 228.5 116.7 Q 227.5 115.4, 225.6 115.4 Q 223.7 115.4, 222.6 116.6 Q 221.6 117.9, 221.6 120.4 Q 221.6 122.9, 222.6 124.2 Q 223.7 125.5, 225.6 125.5 \" fill=\"#FF0000\"/>\n<path class=\"atom-5\" d=\"M 307.5 140.5 L 311.6 147.2 Q 312.0 147.8, 312.7 149.0 Q 313.3 150.2, 313.4 150.3 L 313.4 140.5 L 315.0 140.5 L 315.0 153.1 L 313.3 153.1 L 308.9 145.8 Q 308.4 145.0, 307.8 144.0 Q 307.3 143.0, 307.1 142.7 L 307.1 153.1 L 305.5 153.1 L 305.5 140.5 L 307.5 140.5 \" fill=\"#0000FF\"/>\n<path class=\"atom-5\" d=\"M 316.5 140.5 L 318.2 140.5 L 318.2 145.9 L 324.7 145.9 L 324.7 140.5 L 326.4 140.5 L 326.4 153.1 L 324.7 153.1 L 324.7 147.3 L 318.2 147.3 L 318.2 153.1 L 316.5 153.1 L 316.5 140.5 \" fill=\"#0000FF\"/>\n<path class=\"atom-5\" d=\"M 327.0 152.6 Q 327.3 151.9, 328.0 151.4 Q 328.7 151.0, 329.7 151.0 Q 331.0 151.0, 331.7 151.7 Q 332.4 152.3, 332.4 153.5 Q 332.4 154.8, 331.5 155.9 Q 330.6 157.1, 328.7 158.4 L 332.5 158.4 L 332.5 159.4 L 327.0 159.4 L 327.0 158.6 Q 328.5 157.5, 329.4 156.7 Q 330.3 155.8, 330.8 155.1 Q 331.2 154.4, 331.2 153.6 Q 331.2 152.8, 330.8 152.4 Q 330.4 151.9, 329.7 151.9 Q 329.1 151.9, 328.6 152.2 Q 328.2 152.5, 327.9 153.1 L 327.0 152.6 \" fill=\"#0000FF\"/>\n<path class=\"atom-6\" d=\"M 372.0 91.0 Q 372.1 91.1, 372.7 91.3 Q 373.3 91.6, 373.9 91.7 Q 374.6 91.9, 375.2 91.9 Q 376.4 91.9, 377.1 91.3 Q 377.8 90.7, 377.8 89.7 Q 377.8 89.0, 377.5 88.6 Q 377.1 88.2, 376.6 87.9 Q 376.1 87.7, 375.2 87.4 Q 374.0 87.1, 373.4 86.8 Q 372.7 86.5, 372.2 85.8 Q 371.8 85.1, 371.8 84.0 Q 371.8 82.4, 372.8 81.4 Q 373.9 80.4, 376.1 80.4 Q 377.5 80.4, 379.2 81.1 L 378.8 82.5 Q 377.2 81.9, 376.1 81.9 Q 374.9 81.9, 374.2 82.4 Q 373.5 82.9, 373.6 83.8 Q 373.6 84.4, 373.9 84.8 Q 374.2 85.3, 374.7 85.5 Q 375.3 85.7, 376.1 86.0 Q 377.2 86.3, 377.9 86.7 Q 378.6 87.0, 379.1 87.8 Q 379.6 88.5, 379.6 89.7 Q 379.6 91.4, 378.4 92.4 Q 377.2 93.3, 375.3 93.3 Q 374.2 93.3, 373.3 93.1 Q 372.5 92.8, 371.5 92.4 L 372.0 91.0 \" fill=\"#CCCC00\"/>\n<path class=\"atom-6\" d=\"M 381.1 80.4 L 382.8 80.4 L 382.8 85.8 L 389.2 85.8 L 389.2 80.4 L 390.9 80.4 L 390.9 93.0 L 389.2 93.0 L 389.2 87.2 L 382.8 87.2 L 382.8 93.0 L 381.1 93.0 L 381.1 80.4 \" fill=\"#CCCC00\"/>\n</svg>"
          },
          "metadata": {},
          "execution_count": 47
        }
      ]
    },
    {
      "cell_type": "code",
      "metadata": {
        "colab": {
          "base_uri": "https://localhost:8080/"
        },
        "id": "V2xWeu3m9kQ6",
        "outputId": "68aa293f-9ffa-4b8c-8ec9-b36a919bac8a"
      },
      "source": [
        "print('cycteine',fingerPrint_bits(cysteine))\n",
        "print('glycine',fingerPrint_bits(glycine))"
      ],
      "execution_count": 48,
      "outputs": [
        {
          "output_type": "stream",
          "name": "stdout",
          "text": [
            "cycteine [1, 48, 80, 147, 229, 321, 389, 403, 435, 650, 786, 807, 820, 825, 893, 902]\n",
            "glycine [27, 80, 147, 389, 650, 713, 807, 893, 966, 981]\n"
          ]
        }
      ]
    },
    {
      "cell_type": "code",
      "metadata": {
        "id": "KqlHSyWy-Xry"
      },
      "source": [
        "# Common \n",
        "common = set(fingerPrint_bits(cysteine)) & set(fingerPrint_bits(glycine))\n",
        "# Union\n",
        "combined = set(fingerPrint_bits(cysteine)) | set(fingerPrint_bits(glycine))"
      ],
      "execution_count": 49,
      "outputs": []
    },
    {
      "cell_type": "code",
      "metadata": {
        "colab": {
          "base_uri": "https://localhost:8080/"
        },
        "id": "OSBmqdp7-1kq",
        "outputId": "9e0146a8-3a4f-457b-85e8-71b6427d7ce5"
      },
      "source": [
        "print('Common',common)\n",
        "print('combined',combined)\n",
        "\n",
        "\n"
      ],
      "execution_count": 50,
      "outputs": [
        {
          "output_type": "stream",
          "name": "stdout",
          "text": [
            "Common {389, 807, 650, 80, 147, 893}\n",
            "combined {1, 321, 389, 902, 966, 713, 650, 80, 786, 147, 403, 981, 27, 229, 807, 48, 435, 820, 825, 893}\n"
          ]
        }
      ]
    },
    {
      "cell_type": "code",
      "metadata": {
        "colab": {
          "base_uri": "https://localhost:8080/"
        },
        "id": "OjMtPa9R_wEJ",
        "outputId": "c4edb019-6e7e-41b0-8c71-aac6d4214379"
      },
      "source": [
        "# check similarity\n",
        "similarity = len(common)/len(combined)\n",
        "print('similarity',similarity)"
      ],
      "execution_count": 51,
      "outputs": [
        {
          "output_type": "stream",
          "name": "stdout",
          "text": [
            "similarity 0.3\n"
          ]
        }
      ]
    },
    {
      "cell_type": "code",
      "metadata": {
        "colab": {
          "base_uri": "https://localhost:8080/"
        },
        "id": "Td4AbSIq-95S",
        "outputId": "21de2701-2811-4dac-91bf-e8d061f35bcd"
      },
      "source": [
        "# built in function for similarity\n",
        "print(DataStructs.TanimotoSimilarity(fingerPrint(cysteine),fingerPrint(glycine)))"
      ],
      "execution_count": 52,
      "outputs": [
        {
          "output_type": "stream",
          "name": "stdout",
          "text": [
            "0.3\n"
          ]
        }
      ]
    }
  ]
}