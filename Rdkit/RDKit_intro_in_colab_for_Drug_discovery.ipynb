{
  "nbformat": 4,
  "nbformat_minor": 0,
  "metadata": {
    "colab": {
      "name": "RDKit intro in colab for Drug discovery",
      "provenance": [],
      "collapsed_sections": []
    },
    "kernelspec": {
      "name": "python3",
      "display_name": "Python 3"
    },
    "language_info": {
      "name": "python"
    }
  },
  "cells": [
    {
      "cell_type": "code",
      "metadata": {
        "id": "s4yUUTmTt73k"
      },
      "source": [
        "First install Miniconda to install RDKIT in colab "
      ],
      "execution_count": null,
      "outputs": []
    },
    {
      "cell_type": "code",
      "metadata": {
        "colab": {
          "base_uri": "https://localhost:8080/"
        },
        "id": "ZbkHx3UWiZPw",
        "outputId": "e58c1096-bca2-4a59-f61b-d523af1ffd96"
      },
      "source": [
        "! wget https://repo.anaconda.com/miniconda/Miniconda3-py37_4.8.2-Linux-x86_64.sh\n",
        "! chmod +x Miniconda3-py37_4.8.2-Linux-x86_64.sh\n",
        "! bash ./Miniconda3-py37_4.8.2-Linux-x86_64.sh -b -f -p /usr/local\n"
      ],
      "execution_count": 1,
      "outputs": [
        {
          "output_type": "stream",
          "name": "stdout",
          "text": [
            "--2021-11-23 11:24:56--  https://repo.anaconda.com/miniconda/Miniconda3-py37_4.8.2-Linux-x86_64.sh\n",
            "Resolving repo.anaconda.com (repo.anaconda.com)... 104.16.130.3, 104.16.131.3, 2606:4700::6810:8203, ...\n",
            "Connecting to repo.anaconda.com (repo.anaconda.com)|104.16.130.3|:443... connected.\n",
            "HTTP request sent, awaiting response... 200 OK\n",
            "Length: 85055499 (81M) [application/x-sh]\n",
            "Saving to: ‘Miniconda3-py37_4.8.2-Linux-x86_64.sh’\n",
            "\n",
            "Miniconda3-py37_4.8 100%[===================>]  81.12M  61.5MB/s    in 1.3s    \n",
            "\n",
            "2021-11-23 11:24:58 (61.5 MB/s) - ‘Miniconda3-py37_4.8.2-Linux-x86_64.sh’ saved [85055499/85055499]\n",
            "\n",
            "PREFIX=/usr/local\n",
            "Unpacking payload ...\n",
            "Collecting package metadata (current_repodata.json): - \b\b\\ \b\b| \b\bdone\n",
            "Solving environment: - \b\b\\ \b\bdone\n",
            "\n",
            "## Package Plan ##\n",
            "\n",
            "  environment location: /usr/local\n",
            "\n",
            "  added / updated specs:\n",
            "    - _libgcc_mutex==0.1=main\n",
            "    - asn1crypto==1.3.0=py37_0\n",
            "    - ca-certificates==2020.1.1=0\n",
            "    - certifi==2019.11.28=py37_0\n",
            "    - cffi==1.14.0=py37h2e261b9_0\n",
            "    - chardet==3.0.4=py37_1003\n",
            "    - conda-package-handling==1.6.0=py37h7b6447c_0\n",
            "    - conda==4.8.2=py37_0\n",
            "    - cryptography==2.8=py37h1ba5d50_0\n",
            "    - idna==2.8=py37_0\n",
            "    - ld_impl_linux-64==2.33.1=h53a641e_7\n",
            "    - libedit==3.1.20181209=hc058e9b_0\n",
            "    - libffi==3.2.1=hd88cf55_4\n",
            "    - libgcc-ng==9.1.0=hdf63c60_0\n",
            "    - libstdcxx-ng==9.1.0=hdf63c60_0\n",
            "    - ncurses==6.2=he6710b0_0\n",
            "    - openssl==1.1.1d=h7b6447c_4\n",
            "    - pip==20.0.2=py37_1\n",
            "    - pycosat==0.6.3=py37h7b6447c_0\n",
            "    - pycparser==2.19=py37_0\n",
            "    - pyopenssl==19.1.0=py37_0\n",
            "    - pysocks==1.7.1=py37_0\n",
            "    - python==3.7.6=h0371630_2\n",
            "    - readline==7.0=h7b6447c_5\n",
            "    - requests==2.22.0=py37_1\n",
            "    - ruamel_yaml==0.15.87=py37h7b6447c_0\n",
            "    - setuptools==45.2.0=py37_0\n",
            "    - six==1.14.0=py37_0\n",
            "    - sqlite==3.31.1=h7b6447c_0\n",
            "    - tk==8.6.8=hbc83047_0\n",
            "    - tqdm==4.42.1=py_0\n",
            "    - urllib3==1.25.8=py37_0\n",
            "    - wheel==0.34.2=py37_0\n",
            "    - xz==5.2.4=h14c3975_4\n",
            "    - yaml==0.1.7=had09818_2\n",
            "    - zlib==1.2.11=h7b6447c_3\n",
            "\n",
            "\n",
            "The following NEW packages will be INSTALLED:\n",
            "\n",
            "  _libgcc_mutex      pkgs/main/linux-64::_libgcc_mutex-0.1-main\n",
            "  asn1crypto         pkgs/main/linux-64::asn1crypto-1.3.0-py37_0\n",
            "  ca-certificates    pkgs/main/linux-64::ca-certificates-2020.1.1-0\n",
            "  certifi            pkgs/main/linux-64::certifi-2019.11.28-py37_0\n",
            "  cffi               pkgs/main/linux-64::cffi-1.14.0-py37h2e261b9_0\n",
            "  chardet            pkgs/main/linux-64::chardet-3.0.4-py37_1003\n",
            "  conda              pkgs/main/linux-64::conda-4.8.2-py37_0\n",
            "  conda-package-han~ pkgs/main/linux-64::conda-package-handling-1.6.0-py37h7b6447c_0\n",
            "  cryptography       pkgs/main/linux-64::cryptography-2.8-py37h1ba5d50_0\n",
            "  idna               pkgs/main/linux-64::idna-2.8-py37_0\n",
            "  ld_impl_linux-64   pkgs/main/linux-64::ld_impl_linux-64-2.33.1-h53a641e_7\n",
            "  libedit            pkgs/main/linux-64::libedit-3.1.20181209-hc058e9b_0\n",
            "  libffi             pkgs/main/linux-64::libffi-3.2.1-hd88cf55_4\n",
            "  libgcc-ng          pkgs/main/linux-64::libgcc-ng-9.1.0-hdf63c60_0\n",
            "  libstdcxx-ng       pkgs/main/linux-64::libstdcxx-ng-9.1.0-hdf63c60_0\n",
            "  ncurses            pkgs/main/linux-64::ncurses-6.2-he6710b0_0\n",
            "  openssl            pkgs/main/linux-64::openssl-1.1.1d-h7b6447c_4\n",
            "  pip                pkgs/main/linux-64::pip-20.0.2-py37_1\n",
            "  pycosat            pkgs/main/linux-64::pycosat-0.6.3-py37h7b6447c_0\n",
            "  pycparser          pkgs/main/linux-64::pycparser-2.19-py37_0\n",
            "  pyopenssl          pkgs/main/linux-64::pyopenssl-19.1.0-py37_0\n",
            "  pysocks            pkgs/main/linux-64::pysocks-1.7.1-py37_0\n",
            "  python             pkgs/main/linux-64::python-3.7.6-h0371630_2\n",
            "  readline           pkgs/main/linux-64::readline-7.0-h7b6447c_5\n",
            "  requests           pkgs/main/linux-64::requests-2.22.0-py37_1\n",
            "  ruamel_yaml        pkgs/main/linux-64::ruamel_yaml-0.15.87-py37h7b6447c_0\n",
            "  setuptools         pkgs/main/linux-64::setuptools-45.2.0-py37_0\n",
            "  six                pkgs/main/linux-64::six-1.14.0-py37_0\n",
            "  sqlite             pkgs/main/linux-64::sqlite-3.31.1-h7b6447c_0\n",
            "  tk                 pkgs/main/linux-64::tk-8.6.8-hbc83047_0\n",
            "  tqdm               pkgs/main/noarch::tqdm-4.42.1-py_0\n",
            "  urllib3            pkgs/main/linux-64::urllib3-1.25.8-py37_0\n",
            "  wheel              pkgs/main/linux-64::wheel-0.34.2-py37_0\n",
            "  xz                 pkgs/main/linux-64::xz-5.2.4-h14c3975_4\n",
            "  yaml               pkgs/main/linux-64::yaml-0.1.7-had09818_2\n",
            "  zlib               pkgs/main/linux-64::zlib-1.2.11-h7b6447c_3\n",
            "\n",
            "\n",
            "Preparing transaction: / \b\b- \b\b\\ \b\b| \b\bdone\n",
            "Executing transaction: - \b\b\\ \b\b| \b\b/ \b\b- \b\b\\ \b\b| \b\b/ \b\b- \b\b\\ \b\b| \b\b/ \b\b- \b\b\\ \b\b| \b\b/ \b\bdone\n",
            "installation finished.\n",
            "WARNING:\n",
            "    You currently have a PYTHONPATH environment variable set. This may cause\n",
            "    unexpected behavior when running the Python interpreter in Miniconda3.\n",
            "    For best results, please verify that your PYTHONPATH only points to\n",
            "    directories of packages that are compatible with the Python interpreter\n",
            "    in Miniconda3: /usr/local\n"
          ]
        }
      ]
    },
    {
      "cell_type": "code",
      "metadata": {
        "colab": {
          "base_uri": "https://localhost:8080/"
        },
        "id": "BzVcu2REinUy",
        "outputId": "113b3421-670b-4b48-ab24-abca8f19df22"
      },
      "source": [
        "! conda install -c rdkit rdkit -y"
      ],
      "execution_count": 2,
      "outputs": [
        {
          "output_type": "stream",
          "name": "stdout",
          "text": [
            "Collecting package metadata (current_repodata.json): - \b\b\\ \b\b| \b\b/ \b\b- \b\b\\ \b\b| \b\b/ \b\b- \b\b\\ \b\b| \b\b/ \b\b- \b\b\\ \b\b| \b\b/ \b\b- \b\b\\ \b\b| \b\b/ \b\bdone\n",
            "Solving environment: \\ \b\b| \b\b/ \b\b- \b\b\\ \b\b| \b\b/ \b\b- \b\b\\ \b\b| \b\b/ \b\b- \b\bdone\n",
            "\n",
            "## Package Plan ##\n",
            "\n",
            "  environment location: /usr/local\n",
            "\n",
            "  added / updated specs:\n",
            "    - rdkit\n",
            "\n",
            "\n",
            "The following packages will be downloaded:\n",
            "\n",
            "    package                    |            build\n",
            "    ---------------------------|-----------------\n",
            "    _openmp_mutex-4.5          |            1_gnu          22 KB\n",
            "    blas-1.0                   |              mkl           6 KB\n",
            "    bottleneck-1.3.2           |   py37heb32a55_1         125 KB\n",
            "    bzip2-1.0.8                |       h7b6447c_0          78 KB\n",
            "    ca-certificates-2021.10.26 |       h06a4308_2         115 KB\n",
            "    cairo-1.16.0               |       hf32fb01_1         1.0 MB\n",
            "    certifi-2021.10.8          |   py37h06a4308_0         151 KB\n",
            "    conda-4.10.3               |   py37h06a4308_0         2.9 MB\n",
            "    fontconfig-2.13.1          |       h6c09931_0         250 KB\n",
            "    freetype-2.11.0            |       h70c0345_0         618 KB\n",
            "    giflib-5.2.1               |       h7b6447c_0          78 KB\n",
            "    glib-2.69.1                |       h5202010_0         1.7 MB\n",
            "    icu-58.2                   |       he6710b0_3        10.5 MB\n",
            "    intel-openmp-2021.4.0      |    h06a4308_3561         4.2 MB\n",
            "    jpeg-9d                    |       h7f8727e_0         232 KB\n",
            "    lcms2-2.12                 |       h3be6417_0         312 KB\n",
            "    libboost-1.73.0            |      h3ff78a5_11        13.9 MB\n",
            "    libffi-3.3                 |       he6710b0_2          50 KB\n",
            "    libgcc-ng-9.3.0            |      h5101ec6_17         4.8 MB\n",
            "    libgomp-9.3.0              |      h5101ec6_17         311 KB\n",
            "    libpng-1.6.37              |       hbc83047_0         278 KB\n",
            "    libtiff-4.2.0              |       h85742a9_0         502 KB\n",
            "    libuuid-1.0.3              |       h7f8727e_2          17 KB\n",
            "    libwebp-1.2.0              |       h89dd481_0         493 KB\n",
            "    libwebp-base-1.2.0         |       h27cfd23_0         437 KB\n",
            "    libxcb-1.14                |       h7b6447c_0         505 KB\n",
            "    libxml2-2.9.12             |       h03d6c58_0         1.2 MB\n",
            "    lz4-c-1.9.3                |       h295c915_1         185 KB\n",
            "    mkl-2021.4.0               |     h06a4308_640       142.6 MB\n",
            "    mkl-service-2.4.0          |   py37h7f8727e_0          56 KB\n",
            "    mkl_fft-1.3.1              |   py37hd3c417c_0         172 KB\n",
            "    mkl_random-1.2.2           |   py37h51133e4_0         287 KB\n",
            "    numexpr-2.7.3              |   py37h22e1b3c_1         188 KB\n",
            "    numpy-1.21.2               |   py37h20f2e39_0          23 KB\n",
            "    numpy-base-1.21.2          |   py37h79a1101_0         4.8 MB\n",
            "    olefile-0.46               |           py37_0          50 KB\n",
            "    openssl-1.1.1l             |       h7f8727e_0         2.5 MB\n",
            "    pandas-1.3.4               |   py37h8c16a72_0         9.2 MB\n",
            "    pcre-8.45                  |       h295c915_0         207 KB\n",
            "    pillow-8.4.0               |   py37h5aabda8_0         644 KB\n",
            "    pixman-0.40.0              |       h7f8727e_1         373 KB\n",
            "    py-boost-1.73.0            |  py37ha9443f7_11         204 KB\n",
            "    python-dateutil-2.8.2      |     pyhd3eb1b0_0         233 KB\n",
            "    pytz-2021.3                |     pyhd3eb1b0_0         171 KB\n",
            "    rdkit-2020.09.1.0          |   py37hd50e099_1        25.8 MB  rdkit\n",
            "    xz-5.2.5                   |       h7b6447c_0         341 KB\n",
            "    zstd-1.4.9                 |       haebb681_0         480 KB\n",
            "    ------------------------------------------------------------\n",
            "                                           Total:       233.1 MB\n",
            "\n",
            "The following NEW packages will be INSTALLED:\n",
            "\n",
            "  _openmp_mutex      pkgs/main/linux-64::_openmp_mutex-4.5-1_gnu\n",
            "  blas               pkgs/main/linux-64::blas-1.0-mkl\n",
            "  bottleneck         pkgs/main/linux-64::bottleneck-1.3.2-py37heb32a55_1\n",
            "  bzip2              pkgs/main/linux-64::bzip2-1.0.8-h7b6447c_0\n",
            "  cairo              pkgs/main/linux-64::cairo-1.16.0-hf32fb01_1\n",
            "  fontconfig         pkgs/main/linux-64::fontconfig-2.13.1-h6c09931_0\n",
            "  freetype           pkgs/main/linux-64::freetype-2.11.0-h70c0345_0\n",
            "  giflib             pkgs/main/linux-64::giflib-5.2.1-h7b6447c_0\n",
            "  glib               pkgs/main/linux-64::glib-2.69.1-h5202010_0\n",
            "  icu                pkgs/main/linux-64::icu-58.2-he6710b0_3\n",
            "  intel-openmp       pkgs/main/linux-64::intel-openmp-2021.4.0-h06a4308_3561\n",
            "  jpeg               pkgs/main/linux-64::jpeg-9d-h7f8727e_0\n",
            "  lcms2              pkgs/main/linux-64::lcms2-2.12-h3be6417_0\n",
            "  libboost           pkgs/main/linux-64::libboost-1.73.0-h3ff78a5_11\n",
            "  libgomp            pkgs/main/linux-64::libgomp-9.3.0-h5101ec6_17\n",
            "  libpng             pkgs/main/linux-64::libpng-1.6.37-hbc83047_0\n",
            "  libtiff            pkgs/main/linux-64::libtiff-4.2.0-h85742a9_0\n",
            "  libuuid            pkgs/main/linux-64::libuuid-1.0.3-h7f8727e_2\n",
            "  libwebp            pkgs/main/linux-64::libwebp-1.2.0-h89dd481_0\n",
            "  libwebp-base       pkgs/main/linux-64::libwebp-base-1.2.0-h27cfd23_0\n",
            "  libxcb             pkgs/main/linux-64::libxcb-1.14-h7b6447c_0\n",
            "  libxml2            pkgs/main/linux-64::libxml2-2.9.12-h03d6c58_0\n",
            "  lz4-c              pkgs/main/linux-64::lz4-c-1.9.3-h295c915_1\n",
            "  mkl                pkgs/main/linux-64::mkl-2021.4.0-h06a4308_640\n",
            "  mkl-service        pkgs/main/linux-64::mkl-service-2.4.0-py37h7f8727e_0\n",
            "  mkl_fft            pkgs/main/linux-64::mkl_fft-1.3.1-py37hd3c417c_0\n",
            "  mkl_random         pkgs/main/linux-64::mkl_random-1.2.2-py37h51133e4_0\n",
            "  numexpr            pkgs/main/linux-64::numexpr-2.7.3-py37h22e1b3c_1\n",
            "  numpy              pkgs/main/linux-64::numpy-1.21.2-py37h20f2e39_0\n",
            "  numpy-base         pkgs/main/linux-64::numpy-base-1.21.2-py37h79a1101_0\n",
            "  olefile            pkgs/main/linux-64::olefile-0.46-py37_0\n",
            "  pandas             pkgs/main/linux-64::pandas-1.3.4-py37h8c16a72_0\n",
            "  pcre               pkgs/main/linux-64::pcre-8.45-h295c915_0\n",
            "  pillow             pkgs/main/linux-64::pillow-8.4.0-py37h5aabda8_0\n",
            "  pixman             pkgs/main/linux-64::pixman-0.40.0-h7f8727e_1\n",
            "  py-boost           pkgs/main/linux-64::py-boost-1.73.0-py37ha9443f7_11\n",
            "  python-dateutil    pkgs/main/noarch::python-dateutil-2.8.2-pyhd3eb1b0_0\n",
            "  pytz               pkgs/main/noarch::pytz-2021.3-pyhd3eb1b0_0\n",
            "  rdkit              rdkit/linux-64::rdkit-2020.09.1.0-py37hd50e099_1\n",
            "  zstd               pkgs/main/linux-64::zstd-1.4.9-haebb681_0\n",
            "\n",
            "The following packages will be UPDATED:\n",
            "\n",
            "  ca-certificates                                2020.1.1-0 --> 2021.10.26-h06a4308_2\n",
            "  certifi                                 2019.11.28-py37_0 --> 2021.10.8-py37h06a4308_0\n",
            "  conda                                        4.8.2-py37_0 --> 4.10.3-py37h06a4308_0\n",
            "  libffi                                   3.2.1-hd88cf55_4 --> 3.3-he6710b0_2\n",
            "  libgcc-ng                                9.1.0-hdf63c60_0 --> 9.3.0-h5101ec6_17\n",
            "  openssl                                 1.1.1d-h7b6447c_4 --> 1.1.1l-h7f8727e_0\n",
            "  xz                                       5.2.4-h14c3975_4 --> 5.2.5-h7b6447c_0\n",
            "\n",
            "\n",
            "\n",
            "Downloading and Extracting Packages\n",
            "bzip2-1.0.8          | 78 KB     | : 100% 1.0/1 [00:00<00:00,  7.20it/s]               \n",
            "libxml2-2.9.12       | 1.2 MB    | : 100% 1.0/1 [00:00<00:00,  5.21it/s]               \n",
            "bottleneck-1.3.2     | 125 KB    | : 100% 1.0/1 [00:00<00:00, 13.03it/s]\n",
            "pcre-8.45            | 207 KB    | : 100% 1.0/1 [00:00<00:00, 11.22it/s]\n",
            "_openmp_mutex-4.5    | 22 KB     | : 100% 1.0/1 [00:00<00:00, 25.84it/s]\n",
            "pandas-1.3.4         | 9.2 MB    | : 100% 1.0/1 [00:00<00:00,  2.16it/s]                \n",
            "jpeg-9d              | 232 KB    | : 100% 1.0/1 [00:00<00:00, 14.52it/s]\n",
            "mkl_random-1.2.2     | 287 KB    | : 100% 1.0/1 [00:00<00:00, 13.73it/s]\n",
            "olefile-0.46         | 50 KB     | : 100% 1.0/1 [00:00<00:00, 13.91it/s]\n",
            "libgomp-9.3.0        | 311 KB    | : 100% 1.0/1 [00:00<00:00, 11.40it/s]\n",
            "libuuid-1.0.3        | 17 KB     | : 100% 1.0/1 [00:00<00:00, 16.35it/s]\n",
            "numpy-base-1.21.2    | 4.8 MB    | : 100% 1.0/1 [00:00<00:00,  2.37it/s]\n",
            "pytz-2021.3          | 171 KB    | : 100% 1.0/1 [00:00<00:00,  7.90it/s]\n",
            "rdkit-2020.09.1.0    | 25.8 MB   | : 100% 1.0/1 [00:05<00:00,  5.78s/it]\n",
            "freetype-2.11.0      | 618 KB    | : 100% 1.0/1 [00:00<00:00, 10.45it/s]\n",
            "cairo-1.16.0         | 1.0 MB    | : 100% 1.0/1 [00:00<00:00,  5.11it/s]               \n",
            "python-dateutil-2.8. | 233 KB    | : 100% 1.0/1 [00:00<00:00, 14.50it/s]\n",
            "ca-certificates-2021 | 115 KB    | : 100% 1.0/1 [00:00<00:00, 16.26it/s]\n",
            "libgcc-ng-9.3.0      | 4.8 MB    | : 100% 1.0/1 [00:00<00:00,  3.68it/s]\n",
            "fontconfig-2.13.1    | 250 KB    | : 100% 1.0/1 [00:00<00:00, 12.59it/s]\n",
            "icu-58.2             | 10.5 MB   | : 100% 1.0/1 [00:00<00:00,  2.71it/s]               \n",
            "libboost-1.73.0      | 13.9 MB   | : 100% 1.0/1 [00:02<00:00,  2.87s/it]               \n",
            "libwebp-1.2.0        | 493 KB    | : 100% 1.0/1 [00:00<00:00,  9.91it/s]\n",
            "libtiff-4.2.0        | 502 KB    | : 100% 1.0/1 [00:00<00:00,  9.27it/s]\n",
            "lcms2-2.12           | 312 KB    | : 100% 1.0/1 [00:00<00:00, 12.42it/s]\n",
            "lz4-c-1.9.3          | 185 KB    | : 100% 1.0/1 [00:00<00:00, 12.90it/s]\n",
            "py-boost-1.73.0      | 204 KB    | : 100% 1.0/1 [00:00<00:00, 11.16it/s]\n",
            "libpng-1.6.37        | 278 KB    | : 100% 1.0/1 [00:00<00:00, 12.82it/s]\n",
            "libxcb-1.14          | 505 KB    | : 100% 1.0/1 [00:00<00:00,  9.06it/s]\n",
            "numpy-1.21.2         | 23 KB     | : 100% 1.0/1 [00:00<00:00, 11.35it/s]\n",
            "pixman-0.40.0        | 373 KB    | : 100% 1.0/1 [00:00<00:00, 11.09it/s]\n",
            "blas-1.0             | 6 KB      | : 100% 1.0/1 [00:00<00:00, 14.16it/s]\n",
            "glib-2.69.1          | 1.7 MB    | : 100% 1.0/1 [00:00<00:00,  6.04it/s]\n",
            "libwebp-base-1.2.0   | 437 KB    | : 100% 1.0/1 [00:00<00:00,  9.33it/s]\n",
            "intel-openmp-2021.4. | 4.2 MB    | : 100% 1.0/1 [00:00<00:00,  4.82it/s]\n",
            "openssl-1.1.1l       | 2.5 MB    | : 100% 1.0/1 [00:00<00:00,  5.27it/s]\n",
            "mkl-service-2.4.0    | 56 KB     | : 100% 1.0/1 [00:00<00:00, 13.46it/s]\n",
            "numexpr-2.7.3        | 188 KB    | : 100% 1.0/1 [00:00<00:00, 13.03it/s]\n",
            "libffi-3.3           | 50 KB     | : 100% 1.0/1 [00:00<00:00, 13.34it/s]\n",
            "mkl-2021.4.0         | 142.6 MB  | : 100% 1.0/1 [00:05<00:00, 24.78s/it]               \n",
            "giflib-5.2.1         | 78 KB     | : 100% 1.0/1 [00:00<00:00, 13.77it/s]\n",
            "zstd-1.4.9           | 480 KB    | : 100% 1.0/1 [00:00<00:00, 12.07it/s]\n",
            "conda-4.10.3         | 2.9 MB    | : 100% 1.0/1 [00:00<00:00,  4.64it/s]\n",
            "mkl_fft-1.3.1        | 172 KB    | : 100% 1.0/1 [00:00<00:00, 14.53it/s]\n",
            "xz-5.2.5             | 341 KB    | : 100% 1.0/1 [00:00<00:00, 12.12it/s]\n",
            "certifi-2021.10.8    | 151 KB    | : 100% 1.0/1 [00:00<00:00, 14.41it/s]\n",
            "pillow-8.4.0         | 644 KB    | : 100% 1.0/1 [00:00<00:00, 10.27it/s]\n",
            "Preparing transaction: | \b\b/ \b\b- \b\b\\ \b\b| \b\b/ \b\b- \b\b\\ \b\b| \b\b/ \b\bdone\n",
            "Verifying transaction: \\ \b\b| \b\b/ \b\b- \b\b\\ \b\b| \b\b/ \b\b- \b\b\\ \b\b| \b\b/ \b\b- \b\b\\ \b\b| \b\b/ \b\b- \b\b\\ \b\b| \b\b/ \b\b- \b\b\\ \b\b| \b\b/ \b\b- \b\b\\ \b\b| \b\b/ \b\b- \b\b\\ \b\bdone\n",
            "Executing transaction: / \b\b- \b\b\\ \b\b| \b\b/ \b\b- \b\b\\ \b\b| \b\b/ \b\b- \b\b\\ \b\b| \b\b/ \b\b- \b\b\\ \b\b| \b\b/ \b\b- \b\b\\ \b\b| \b\b/ \b\b- \b\b\\ \b\b| \b\b/ \b\b- \b\b\\ \b\b| \b\b/ \b\b- \b\b\\ \b\b| \b\b/ \b\b- \b\b\\ \b\b| \b\b/ \b\b- \b\b\\ \b\b| \b\b/ \b\b- \b\b\\ \b\b| \b\b/ \b\b- \b\b\\ \b\b| \b\b/ \b\b- \b\b\\ \b\b| \b\b/ \b\b- \b\b\\ \b\b| \b\b/ \b\b- \b\b\\ \b\b| \b\b/ \b\b- \b\b\\ \b\b| \b\b/ \b\b- \b\b\\ \b\b| \b\b/ \b\b- \b\b\\ \b\b| \b\b/ \b\b- \b\b\\ \b\b| \b\b/ \b\b- \b\b\\ \b\b| \b\b/ \b\b- \b\b\\ \b\b| \b\b/ \b\b- \b\b\\ \b\b| \b\b/ \b\b- \b\b\\ \b\b| \b\b/ \b\b- \b\b\\ \b\b| \b\b/ \b\b- \b\b\\ \b\b| \b\b/ \b\b- \b\b\\ \b\b| \b\b/ \b\b- \b\b\\ \b\b| \b\b/ \b\b- \b\b\\ \b\b| \b\b/ \b\b- \b\b\\ \b\b| \b\b/ \b\b- \b\bdone\n"
          ]
        }
      ]
    },
    {
      "cell_type": "code",
      "metadata": {
        "id": "hr6R-Uowisv2"
      },
      "source": [
        "import sys\n",
        "sys.path.append('/usr/local/lib/python3.7/site-packages/')"
      ],
      "execution_count": 3,
      "outputs": []
    },
    {
      "cell_type": "code",
      "metadata": {
        "id": "KjpmwpGPjFER"
      },
      "source": [
        "# from drugbank\n",
        "import requests\n",
        "from rdkit import Chem\n",
        "from rdkit.Chem.Draw import IPythonConsole\n",
        "from rdkit.Chem import Draw\n",
        "from rdkit.Chem import AllChem\n",
        "from rdkit.Chem import Descriptors\n",
        "\n",
        "IPythonConsole.ipython_useSVG=True  "
      ],
      "execution_count": 52,
      "outputs": []
    },
    {
      "cell_type": "code",
      "metadata": {
        "id": "eLw2XtW8nmjR"
      },
      "source": [
        ""
      ],
      "execution_count": 18,
      "outputs": []
    },
    {
      "cell_type": "code",
      "metadata": {
        "colab": {
          "base_uri": "https://localhost:8080/",
          "height": 171
        },
        "id": "3S58vKrsjJP5",
        "outputId": "fc0f0040-92af-45bc-d716-1364cc403eb3"
      },
      "source": [
        "mol = Chem.MolFromSmiles(\"C1CC2=C3C(=CC=C2)C(=CN3C1)[C@H]4[C@@H](C(=O)NC4=O)C5=CNC6=CC=CC=C65\")\n",
        "# Default\n",
        "mol"
      ],
      "execution_count": 24,
      "outputs": [
        {
          "output_type": "execute_result",
          "data": {
            "image/png": "[encoded data removed]",
            "text/plain": [
              "<rdkit.Chem.rdchem.Mol at 0x7f2f0b99c3a0>"
            ],
            "image/svg+xml": "<?xml version='1.0' encoding='iso-8859-1'?>\n<svg version='1.1' baseProfile='full'\n              xmlns='http://www.w3.org/2000/svg'\n                      xmlns:rdkit='http://www.rdkit.org/xml'\n                      xmlns:xlink='http://www.w3.org/1999/xlink'\n                  xml:space='preserve'\nwidth='450px' height='150px' viewBox='0 0 450 150'>\n<!-- END OF HEADER -->\n<rect style='opacity:1.0;fill:#FFFFFF;stroke:none' width='450' height='150' x='0' y='0'> </rect>\n<path class='bond-0' d='M 326.959,104.76 L 310.838,125.713' style='fill:none;fill-rule:evenodd;stroke:#000000;stroke-width:2.0px;stroke-linecap:butt;stroke-linejoin:miter;stroke-opacity:1' />\n<path class='bond-27' d='M 326.959,104.76 L 316.873,80.3222' style='fill:none;fill-rule:evenodd;stroke:#000000;stroke-width:2.0px;stroke-linecap:butt;stroke-linejoin:miter;stroke-opacity:1' />\n<path class='bond-1' d='M 310.838,125.713 L 284.631,122.229' style='fill:none;fill-rule:evenodd;stroke:#000000;stroke-width:2.0px;stroke-linecap:butt;stroke-linejoin:miter;stroke-opacity:1' />\n<path class='bond-2' d='M 284.631,122.229 L 274.546,97.7909' style='fill:none;fill-rule:evenodd;stroke:#000000;stroke-width:2.0px;stroke-linecap:butt;stroke-linejoin:miter;stroke-opacity:1' />\n<path class='bond-2' d='M 278.231,120.58 L 271.171,103.474' style='fill:none;fill-rule:evenodd;stroke:#000000;stroke-width:2.0px;stroke-linecap:butt;stroke-linejoin:miter;stroke-opacity:1' />\n<path class='bond-28' d='M 284.631,122.229 L 268.51,143.182' style='fill:none;fill-rule:evenodd;stroke:#000000;stroke-width:2.0px;stroke-linecap:butt;stroke-linejoin:miter;stroke-opacity:1' />\n<path class='bond-3' d='M 274.546,97.7909 L 248.339,94.3064' style='fill:none;fill-rule:evenodd;stroke:#000000;stroke-width:2.0px;stroke-linecap:butt;stroke-linejoin:miter;stroke-opacity:1' />\n<path class='bond-29' d='M 274.546,97.7909 L 280.912,89.5165' style='fill:none;fill-rule:evenodd;stroke:#000000;stroke-width:2.0px;stroke-linecap:butt;stroke-linejoin:miter;stroke-opacity:1' />\n<path class='bond-29' d='M 280.912,89.5165 L 287.278,81.2421' style='fill:none;fill-rule:evenodd;stroke:#0000FF;stroke-width:2.0px;stroke-linecap:butt;stroke-linejoin:miter;stroke-opacity:1' />\n<path class='bond-4' d='M 248.339,94.3064 L 232.218,115.26' style='fill:none;fill-rule:evenodd;stroke:#000000;stroke-width:2.0px;stroke-linecap:butt;stroke-linejoin:miter;stroke-opacity:1' />\n<path class='bond-4' d='M 250.112,100.674 L 238.827,115.341' style='fill:none;fill-rule:evenodd;stroke:#000000;stroke-width:2.0px;stroke-linecap:butt;stroke-linejoin:miter;stroke-opacity:1' />\n<path class='bond-7' d='M 248.339,94.3064 L 246.299,67.9482' style='fill:none;fill-rule:evenodd;stroke:#000000;stroke-width:2.0px;stroke-linecap:butt;stroke-linejoin:miter;stroke-opacity:1' />\n<path class='bond-5' d='M 232.218,115.26 L 242.304,139.697' style='fill:none;fill-rule:evenodd;stroke:#000000;stroke-width:2.0px;stroke-linecap:butt;stroke-linejoin:miter;stroke-opacity:1' />\n<path class='bond-6' d='M 242.304,139.697 L 268.51,143.182' style='fill:none;fill-rule:evenodd;stroke:#000000;stroke-width:2.0px;stroke-linecap:butt;stroke-linejoin:miter;stroke-opacity:1' />\n<path class='bond-6' d='M 246.932,134.979 L 265.276,137.418' style='fill:none;fill-rule:evenodd;stroke:#000000;stroke-width:2.0px;stroke-linecap:butt;stroke-linejoin:miter;stroke-opacity:1' />\n<path class='bond-8' d='M 246.299,67.9482 L 270.737,57.8626' style='fill:none;fill-rule:evenodd;stroke:#000000;stroke-width:2.0px;stroke-linecap:butt;stroke-linejoin:miter;stroke-opacity:1' />\n<path class='bond-8' d='M 251.982,71.3229 L 269.088,64.263' style='fill:none;fill-rule:evenodd;stroke:#000000;stroke-width:2.0px;stroke-linecap:butt;stroke-linejoin:miter;stroke-opacity:1' />\n<path class='bond-11' d='M 223.775,54.1058 L 244.915,70.2005 L 247.683,65.6958 Z' style='fill:#000000;fill-rule:evenodd;fill-opacity:1;stroke:#000000;stroke-width:2px;stroke-linecap:butt;stroke-linejoin:miter;stroke-opacity:1;' />\n<path class='bond-9' d='M 270.737,57.8626 L 278.938,65.671' style='fill:none;fill-rule:evenodd;stroke:#000000;stroke-width:2.0px;stroke-linecap:butt;stroke-linejoin:miter;stroke-opacity:1' />\n<path class='bond-9' d='M 278.938,65.671 L 287.139,73.4794' style='fill:none;fill-rule:evenodd;stroke:#0000FF;stroke-width:2.0px;stroke-linecap:butt;stroke-linejoin:miter;stroke-opacity:1' />\n<path class='bond-10' d='M 294.167,77.3031 L 305.52,78.8127' style='fill:none;fill-rule:evenodd;stroke:#0000FF;stroke-width:2.0px;stroke-linecap:butt;stroke-linejoin:miter;stroke-opacity:1' />\n<path class='bond-10' d='M 305.52,78.8127 L 316.873,80.3222' style='fill:none;fill-rule:evenodd;stroke:#000000;stroke-width:2.0px;stroke-linecap:butt;stroke-linejoin:miter;stroke-opacity:1' />\n<path class='bond-12' d='M 223.775,54.1058 L 199.338,64.1914' style='fill:none;fill-rule:evenodd;stroke:#000000;stroke-width:2.0px;stroke-linecap:butt;stroke-linejoin:miter;stroke-opacity:1' />\n<path class='bond-30' d='M 223.775,54.1058 L 221.735,27.7476' style='fill:none;fill-rule:evenodd;stroke:#000000;stroke-width:2.0px;stroke-linecap:butt;stroke-linejoin:miter;stroke-opacity:1' />\n<path class='bond-13' d='M 199.338,64.1914 L 182.194,44.0664' style='fill:none;fill-rule:evenodd;stroke:#000000;stroke-width:2.0px;stroke-linecap:butt;stroke-linejoin:miter;stroke-opacity:1' />\n<path class='bond-18' d='M 197.583,69.207 L 198.611,69.4552' style='fill:none;fill-rule:evenodd;stroke:#000000;stroke-width:1.0px;stroke-linecap:butt;stroke-linejoin:miter;stroke-opacity:1' />\n<path class='bond-18' d='M 195.828,74.2227 L 197.884,74.719' style='fill:none;fill-rule:evenodd;stroke:#000000;stroke-width:1.0px;stroke-linecap:butt;stroke-linejoin:miter;stroke-opacity:1' />\n<path class='bond-18' d='M 194.073,79.2383 L 197.157,79.9829' style='fill:none;fill-rule:evenodd;stroke:#000000;stroke-width:1.0px;stroke-linecap:butt;stroke-linejoin:miter;stroke-opacity:1' />\n<path class='bond-18' d='M 192.318,84.2539 L 196.43,85.2467' style='fill:none;fill-rule:evenodd;stroke:#000000;stroke-width:1.0px;stroke-linecap:butt;stroke-linejoin:miter;stroke-opacity:1' />\n<path class='bond-18' d='M 190.563,89.2696 L 195.703,90.5105' style='fill:none;fill-rule:evenodd;stroke:#000000;stroke-width:1.0px;stroke-linecap:butt;stroke-linejoin:miter;stroke-opacity:1' />\n<path class='bond-14' d='M 181.99,41.4305 L 170.86,42.2921' style='fill:none;fill-rule:evenodd;stroke:#000000;stroke-width:2.0px;stroke-linecap:butt;stroke-linejoin:miter;stroke-opacity:1' />\n<path class='bond-14' d='M 170.86,42.2921 L 159.73,43.1536' style='fill:none;fill-rule:evenodd;stroke:#FF0000;stroke-width:2.0px;stroke-linecap:butt;stroke-linejoin:miter;stroke-opacity:1' />\n<path class='bond-14' d='M 182.398,46.7022 L 171.268,47.5637' style='fill:none;fill-rule:evenodd;stroke:#000000;stroke-width:2.0px;stroke-linecap:butt;stroke-linejoin:miter;stroke-opacity:1' />\n<path class='bond-14' d='M 171.268,47.5637 L 160.138,48.4253' style='fill:none;fill-rule:evenodd;stroke:#FF0000;stroke-width:2.0px;stroke-linecap:butt;stroke-linejoin:miter;stroke-opacity:1' />\n<path class='bond-15' d='M 182.194,44.0664 L 187.762,35.0068' style='fill:none;fill-rule:evenodd;stroke:#000000;stroke-width:2.0px;stroke-linecap:butt;stroke-linejoin:miter;stroke-opacity:1' />\n<path class='bond-15' d='M 187.762,35.0068 L 193.33,25.9473' style='fill:none;fill-rule:evenodd;stroke:#0000FF;stroke-width:2.0px;stroke-linecap:butt;stroke-linejoin:miter;stroke-opacity:1' />\n<path class='bond-16' d='M 199.537,22.388 L 210.636,25.0678' style='fill:none;fill-rule:evenodd;stroke:#0000FF;stroke-width:2.0px;stroke-linecap:butt;stroke-linejoin:miter;stroke-opacity:1' />\n<path class='bond-16' d='M 210.636,25.0678 L 221.735,27.7476' style='fill:none;fill-rule:evenodd;stroke:#000000;stroke-width:2.0px;stroke-linecap:butt;stroke-linejoin:miter;stroke-opacity:1' />\n<path class='bond-17' d='M 223.449,29.7601 L 231.463,22.9336' style='fill:none;fill-rule:evenodd;stroke:#000000;stroke-width:2.0px;stroke-linecap:butt;stroke-linejoin:miter;stroke-opacity:1' />\n<path class='bond-17' d='M 231.463,22.9336 L 239.477,16.1072' style='fill:none;fill-rule:evenodd;stroke:#FF0000;stroke-width:2.0px;stroke-linecap:butt;stroke-linejoin:miter;stroke-opacity:1' />\n<path class='bond-17' d='M 220.021,25.7351 L 228.034,18.9086' style='fill:none;fill-rule:evenodd;stroke:#000000;stroke-width:2.0px;stroke-linecap:butt;stroke-linejoin:miter;stroke-opacity:1' />\n<path class='bond-17' d='M 228.034,18.9086 L 236.048,12.0822' style='fill:none;fill-rule:evenodd;stroke:#FF0000;stroke-width:2.0px;stroke-linecap:butt;stroke-linejoin:miter;stroke-opacity:1' />\n<path class='bond-19' d='M 193.133,89.89 L 210.277,110.015' style='fill:none;fill-rule:evenodd;stroke:#000000;stroke-width:2.0px;stroke-linecap:butt;stroke-linejoin:miter;stroke-opacity:1' />\n<path class='bond-19' d='M 191.68,96.3375 L 203.68,110.425' style='fill:none;fill-rule:evenodd;stroke:#000000;stroke-width:2.0px;stroke-linecap:butt;stroke-linejoin:miter;stroke-opacity:1' />\n<path class='bond-31' d='M 193.133,89.89 L 168.695,99.9756' style='fill:none;fill-rule:evenodd;stroke:#000000;stroke-width:2.0px;stroke-linecap:butt;stroke-linejoin:miter;stroke-opacity:1' />\n<path class='bond-20' d='M 210.277,110.015 L 204.709,119.075' style='fill:none;fill-rule:evenodd;stroke:#000000;stroke-width:2.0px;stroke-linecap:butt;stroke-linejoin:miter;stroke-opacity:1' />\n<path class='bond-20' d='M 204.709,119.075 L 199.141,128.134' style='fill:none;fill-rule:evenodd;stroke:#0000FF;stroke-width:2.0px;stroke-linecap:butt;stroke-linejoin:miter;stroke-opacity:1' />\n<path class='bond-21' d='M 192.934,131.693 L 181.835,129.014' style='fill:none;fill-rule:evenodd;stroke:#0000FF;stroke-width:2.0px;stroke-linecap:butt;stroke-linejoin:miter;stroke-opacity:1' />\n<path class='bond-21' d='M 181.835,129.014 L 170.736,126.334' style='fill:none;fill-rule:evenodd;stroke:#000000;stroke-width:2.0px;stroke-linecap:butt;stroke-linejoin:miter;stroke-opacity:1' />\n<path class='bond-22' d='M 170.736,126.334 L 148.929,141.28' style='fill:none;fill-rule:evenodd;stroke:#000000;stroke-width:2.0px;stroke-linecap:butt;stroke-linejoin:miter;stroke-opacity:1' />\n<path class='bond-22' d='M 164.475,124.214 L 149.211,134.677' style='fill:none;fill-rule:evenodd;stroke:#000000;stroke-width:2.0px;stroke-linecap:butt;stroke-linejoin:miter;stroke-opacity:1' />\n<path class='bond-32' d='M 170.736,126.334 L 168.695,99.9756' style='fill:none;fill-rule:evenodd;stroke:#000000;stroke-width:2.0px;stroke-linecap:butt;stroke-linejoin:miter;stroke-opacity:1' />\n<path class='bond-23' d='M 148.929,141.28 L 125.082,129.868' style='fill:none;fill-rule:evenodd;stroke:#000000;stroke-width:2.0px;stroke-linecap:butt;stroke-linejoin:miter;stroke-opacity:1' />\n<path class='bond-24' d='M 125.082,129.868 L 123.041,103.509' style='fill:none;fill-rule:evenodd;stroke:#000000;stroke-width:2.0px;stroke-linecap:butt;stroke-linejoin:miter;stroke-opacity:1' />\n<path class='bond-24' d='M 130.047,125.506 L 128.619,107.055' style='fill:none;fill-rule:evenodd;stroke:#000000;stroke-width:2.0px;stroke-linecap:butt;stroke-linejoin:miter;stroke-opacity:1' />\n<path class='bond-25' d='M 123.041,103.509 L 144.848,88.5634' style='fill:none;fill-rule:evenodd;stroke:#000000;stroke-width:2.0px;stroke-linecap:butt;stroke-linejoin:miter;stroke-opacity:1' />\n<path class='bond-26' d='M 144.848,88.5634 L 168.695,99.9756' style='fill:none;fill-rule:evenodd;stroke:#000000;stroke-width:2.0px;stroke-linecap:butt;stroke-linejoin:miter;stroke-opacity:1' />\n<path class='bond-26' d='M 146.143,95.0447 L 162.836,103.033' style='fill:none;fill-rule:evenodd;stroke:#000000;stroke-width:2.0px;stroke-linecap:butt;stroke-linejoin:miter;stroke-opacity:1' />\n<path  class='atom-10' d='M 289.012 73.0942\nL 291.465 77.0598\nQ 291.708 77.4511, 292.099 78.1596\nQ 292.491 78.8681, 292.512 78.9104\nL 292.512 73.0942\nL 293.506 73.0942\nL 293.506 80.5812\nL 292.48 80.5812\nL 289.847 76.2455\nQ 289.54 75.7379, 289.212 75.1563\nQ 288.895 74.5747, 288.8 74.3949\nL 288.8 80.5812\nL 287.827 80.5812\nL 287.827 73.0942\nL 289.012 73.0942\n' fill='#0000FF'/>\n<path  class='atom-15' d='M 152.399 46.1278\nQ 152.399 44.3301, 153.287 43.3255\nQ 154.176 42.3209, 155.836 42.3209\nQ 157.496 42.3209, 158.384 43.3255\nQ 159.273 44.3301, 159.273 46.1278\nQ 159.273 47.9467, 158.374 48.983\nQ 157.475 50.0088, 155.836 50.0088\nQ 154.186 50.0088, 153.287 48.983\nQ 152.399 47.9572, 152.399 46.1278\nM 155.836 49.1628\nQ 156.978 49.1628, 157.591 48.4014\nQ 158.215 47.6294, 158.215 46.1278\nQ 158.215 44.6579, 157.591 43.9177\nQ 156.978 43.1668, 155.836 43.1668\nQ 154.694 43.1668, 154.07 43.9071\nQ 153.457 44.6473, 153.457 46.1278\nQ 153.457 47.64, 154.07 48.4014\nQ 154.694 49.1628, 155.836 49.1628\n' fill='#FF0000'/>\n<path  class='atom-16' d='M 186.461 17.7994\nL 187.476 17.7994\nL 187.476 20.9824\nL 191.304 20.9824\nL 191.304 17.7994\nL 192.319 17.7994\nL 192.319 25.2863\nL 191.304 25.2863\nL 191.304 21.8284\nL 187.476 21.8284\nL 187.476 25.2863\nL 186.461 25.2863\nL 186.461 17.7994\n' fill='#0000FF'/>\n<path  class='atom-16' d='M 194.381 17.7994\nL 196.835 21.7649\nQ 197.078 22.1562, 197.469 22.8647\nQ 197.861 23.5732, 197.882 23.6155\nL 197.882 17.7994\nL 198.876 17.7994\nL 198.876 25.2863\nL 197.85 25.2863\nL 195.217 20.9507\nQ 194.91 20.4431, 194.582 19.8615\nQ 194.265 19.2798, 194.17 19.1001\nL 194.17 25.2863\nL 193.197 25.2863\nL 193.197 17.7994\nL 194.381 17.7994\n' fill='#0000FF'/>\n<path  class='atom-18' d='M 238.423 10.6251\nQ 238.423 8.8274, 239.312 7.82279\nQ 240.2 6.81818, 241.86 6.81818\nQ 243.52 6.81818, 244.409 7.82279\nQ 245.297 8.8274, 245.297 10.6251\nQ 245.297 12.444, 244.398 13.4803\nQ 243.499 14.5061, 241.86 14.5061\nQ 240.21 14.5061, 239.312 13.4803\nQ 238.423 12.4546, 238.423 10.6251\nM 241.86 13.6601\nQ 243.002 13.6601, 243.616 12.8987\nQ 244.239 12.1267, 244.239 10.6251\nQ 244.239 9.15522, 243.616 8.41498\nQ 243.002 7.66417, 241.86 7.66417\nQ 240.718 7.66417, 240.094 8.40441\nQ 239.481 9.14465, 239.481 10.6251\nQ 239.481 12.1373, 240.094 12.8987\nQ 240.718 13.6601, 241.86 13.6601\n' fill='#FF0000'/>\n<path  class='atom-21' d='M 194.779 128.795\nL 197.233 132.761\nQ 197.476 133.152, 197.867 133.86\nQ 198.258 134.569, 198.28 134.611\nL 198.28 128.795\nL 199.274 128.795\nL 199.274 136.282\nL 198.248 136.282\nL 195.615 131.946\nQ 195.308 131.439, 194.98 130.857\nQ 194.663 130.276, 194.568 130.096\nL 194.568 136.282\nL 193.595 136.282\nL 193.595 128.795\nL 194.779 128.795\n' fill='#0000FF'/>\n<path  class='atom-21' d='M 200.172 128.795\nL 201.188 128.795\nL 201.188 131.978\nL 205.016 131.978\nL 205.016 128.795\nL 206.031 128.795\nL 206.031 136.282\nL 205.016 136.282\nL 205.016 132.824\nL 201.188 132.824\nL 201.188 136.282\nL 200.172 136.282\nL 200.172 128.795\n' fill='#0000FF'/>\n</svg>\n"
          },
          "metadata": {},
          "execution_count": 24
        }
      ]
    },
    {
      "cell_type": "markdown",
      "metadata": {
        "id": "rBtZcrQ6o55v"
      },
      "source": [
        "Here by using RDkit Chem lib mol from block function and draw a morphine mol "
      ]
    },
    {
      "cell_type": "code",
      "metadata": {
        "colab": {
          "base_uri": "https://localhost:8080/",
          "height": 171
        },
        "id": "7F16q4i7ma07",
        "outputId": "a5cd98a4-25e3-4005-bd6e-2f09d9dbeaee"
      },
      "source": [
        "# url\n",
        "morphine_url= 'https://go.drugbank.com/structures/small_molecule_drugs/DB00295.mol'\n",
        "# API request\n",
        "morphine_mol = requests.get(morphine_url).text\n",
        "# conversion MOL From Block \n",
        "morphine_mol = Chem.MolFromMolBlock(morphine_mol)\n",
        "morphine_mol"
      ],
      "execution_count": 32,
      "outputs": [
        {
          "output_type": "execute_result",
          "data": {
            "image/png": "[encoded data removed]",
            "text/plain": [
              "<rdkit.Chem.rdchem.Mol at 0x7f2f0ae676c0>"
            ],
            "image/svg+xml": "<?xml version='1.0' encoding='iso-8859-1'?>\n<svg version='1.1' baseProfile='full'\n              xmlns='http://www.w3.org/2000/svg'\n                      xmlns:rdkit='http://www.rdkit.org/xml'\n                      xmlns:xlink='http://www.w3.org/1999/xlink'\n                  xml:space='preserve'\nwidth='450px' height='150px' viewBox='0 0 450 150'>\n<!-- END OF HEADER -->\n<rect style='opacity:1.0;fill:#FFFFFF;stroke:none' width='450' height='150' x='0' y='0'> </rect>\n<path class='bond-0' d='M 181.626,80.8696 L 187.463,90.1037' style='fill:none;fill-rule:evenodd;stroke:#FF0000;stroke-width:2.0px;stroke-linecap:butt;stroke-linejoin:miter;stroke-opacity:1' />\n<path class='bond-0' d='M 187.463,90.1037 L 193.3,99.3377' style='fill:none;fill-rule:evenodd;stroke:#000000;stroke-width:2.0px;stroke-linecap:butt;stroke-linejoin:miter;stroke-opacity:1' />\n<path class='bond-1' d='M 181.99,66.4792 L 187.643,58.473' style='fill:none;fill-rule:evenodd;stroke:#FF0000;stroke-width:2.0px;stroke-linecap:butt;stroke-linejoin:miter;stroke-opacity:1' />\n<path class='bond-1' d='M 187.643,58.473 L 193.297,50.4667' style='fill:none;fill-rule:evenodd;stroke:#000000;stroke-width:2.0px;stroke-linecap:butt;stroke-linejoin:miter;stroke-opacity:1' />\n<path class='bond-2' d='M 187.281,125.543 L 188.762,128.108' style='fill:none;fill-rule:evenodd;stroke:#000000;stroke-width:1.0px;stroke-linecap:butt;stroke-linejoin:miter;stroke-opacity:1' />\n<path class='bond-2' d='M 181.263,127.307 L 184.225,132.438' style='fill:none;fill-rule:evenodd;stroke:#FF0000;stroke-width:1.0px;stroke-linecap:butt;stroke-linejoin:miter;stroke-opacity:1' />\n<path class='bond-2' d='M 175.245,129.07 L 179.687,136.767' style='fill:none;fill-rule:evenodd;stroke:#FF0000;stroke-width:1.0px;stroke-linecap:butt;stroke-linejoin:miter;stroke-opacity:1' />\n<path class='bond-3' d='M 177.466,16.8869 L 185.383,21.4576' style='fill:none;fill-rule:evenodd;stroke:#FF0000;stroke-width:2.0px;stroke-linecap:butt;stroke-linejoin:miter;stroke-opacity:1' />\n<path class='bond-3' d='M 185.383,21.4576 L 193.3,26.0283' style='fill:none;fill-rule:evenodd;stroke:#000000;stroke-width:2.0px;stroke-linecap:butt;stroke-linejoin:miter;stroke-opacity:1' />\n<path class='bond-4' d='M 272.571,96.2295 L 264.682,91.674' style='fill:none;fill-rule:evenodd;stroke:#0000FF;stroke-width:2.0px;stroke-linecap:butt;stroke-linejoin:miter;stroke-opacity:1' />\n<path class='bond-4' d='M 264.682,91.674 L 256.792,87.1185' style='fill:none;fill-rule:evenodd;stroke:#000000;stroke-width:2.0px;stroke-linecap:butt;stroke-linejoin:miter;stroke-opacity:1' />\n<path class='bond-5' d='M 274.497,92.2086 L 268.918,80.7043' style='fill:none;fill-rule:evenodd;stroke:#0000FF;stroke-width:2.0px;stroke-linecap:butt;stroke-linejoin:miter;stroke-opacity:1' />\n<path class='bond-5' d='M 268.918,80.7043 L 263.339,69.1999' style='fill:none;fill-rule:evenodd;stroke:#000000;stroke-width:2.0px;stroke-linecap:butt;stroke-linejoin:miter;stroke-opacity:1' />\n<path class='bond-6' d='M 283.369,105.155 L 289.417,111.651' style='fill:none;fill-rule:evenodd;stroke:#0000FF;stroke-width:2.0px;stroke-linecap:butt;stroke-linejoin:miter;stroke-opacity:1' />\n<path class='bond-6' d='M 289.417,111.651 L 295.464,118.148' style='fill:none;fill-rule:evenodd;stroke:#000000;stroke-width:2.0px;stroke-linecap:butt;stroke-linejoin:miter;stroke-opacity:1' />\n<path class='bond-7' d='M 214.465,87.1215 L 235.63,99.3377' style='fill:none;fill-rule:evenodd;stroke:#000000;stroke-width:2.0px;stroke-linecap:butt;stroke-linejoin:miter;stroke-opacity:1' />\n<path class='bond-8' d='M 214.465,87.1215 L 193.3,99.3377' style='fill:none;fill-rule:evenodd;stroke:#000000;stroke-width:2.0px;stroke-linecap:butt;stroke-linejoin:miter;stroke-opacity:1' />\n<path class='bond-9' d='M 214.465,87.1215 L 232.073,71.9528 L 225.093,66.453 Z' style='fill:#000000;fill-rule:evenodd;fill-opacity:1;stroke:#000000;stroke-width:2px;stroke-linecap:butt;stroke-linejoin:miter;stroke-opacity:1;' />\n<path class='bond-10' d='M 214.465,87.1215 L 214.465,62.686' style='fill:none;fill-rule:evenodd;stroke:#000000;stroke-width:2.0px;stroke-linecap:butt;stroke-linejoin:miter;stroke-opacity:1' />\n<path class='bond-11' d='M 235.63,99.3377 L 256.792,87.1185' style='fill:none;fill-rule:evenodd;stroke:#000000;stroke-width:2.0px;stroke-linecap:butt;stroke-linejoin:miter;stroke-opacity:1' />\n<path class='bond-12' d='M 235.63,99.3377 L 235.63,123.776' style='fill:none;fill-rule:evenodd;stroke:#000000;stroke-width:2.0px;stroke-linecap:butt;stroke-linejoin:miter;stroke-opacity:1' />\n<path class='bond-25' d='M 235.63,99.3377 L 240.071,76.7474 L 231.185,76.7481 Z' style='fill:#000000;fill-rule:evenodd;fill-opacity:1;stroke:#000000;stroke-width:2px;stroke-linecap:butt;stroke-linejoin:miter;stroke-opacity:1;' />\n<path class='bond-13' d='M 256.792,87.1185 L 256.795,62.6889' style='fill:none;fill-rule:evenodd;stroke:#000000;stroke-width:2.0px;stroke-linecap:butt;stroke-linejoin:miter;stroke-opacity:1' />\n<path class='bond-26' d='M 250.87,81.9886 L 249.388,84.5539' style='fill:none;fill-rule:evenodd;stroke:#000000;stroke-width:1.0px;stroke-linecap:butt;stroke-linejoin:miter;stroke-opacity:1' />\n<path class='bond-26' d='M 244.947,76.8586 L 241.985,81.9892' style='fill:none;fill-rule:evenodd;stroke:#000000;stroke-width:1.0px;stroke-linecap:butt;stroke-linejoin:miter;stroke-opacity:1' />\n<path class='bond-26' d='M 239.025,71.7286 L 234.581,79.4246' style='fill:none;fill-rule:evenodd;stroke:#000000;stroke-width:1.0px;stroke-linecap:butt;stroke-linejoin:miter;stroke-opacity:1' />\n<path class='bond-14' d='M 193.3,99.3377 L 193.3,123.779' style='fill:none;fill-rule:evenodd;stroke:#000000;stroke-width:2.0px;stroke-linecap:butt;stroke-linejoin:miter;stroke-opacity:1' />\n<path class='bond-27' d='M 193.3,99.3377 L 169.274,101.668 L 171.746,110.205 Z' style='fill:#000000;fill-rule:evenodd;fill-opacity:1;stroke:#000000;stroke-width:2px;stroke-linecap:butt;stroke-linejoin:miter;stroke-opacity:1;' />\n<path class='bond-15' d='M 228.583,69.2029 L 263.339,69.1999' style='fill:none;fill-rule:evenodd;stroke:#000000;stroke-width:2.0px;stroke-linecap:butt;stroke-linejoin:miter;stroke-opacity:1' />\n<path class='bond-16' d='M 214.465,62.686 L 235.627,50.4667' style='fill:none;fill-rule:evenodd;stroke:#000000;stroke-width:2.0px;stroke-linecap:butt;stroke-linejoin:miter;stroke-opacity:1' />\n<path class='bond-16' d='M 214.973,56.2355 L 229.786,47.6821' style='fill:none;fill-rule:evenodd;stroke:#000000;stroke-width:2.0px;stroke-linecap:butt;stroke-linejoin:miter;stroke-opacity:1' />\n<path class='bond-17' d='M 214.465,62.686 L 193.297,50.4667' style='fill:none;fill-rule:evenodd;stroke:#000000;stroke-width:2.0px;stroke-linecap:butt;stroke-linejoin:miter;stroke-opacity:1' />\n<path class='bond-18' d='M 256.795,62.6889 L 235.627,50.4667' style='fill:none;fill-rule:evenodd;stroke:#000000;stroke-width:2.0px;stroke-linecap:butt;stroke-linejoin:miter;stroke-opacity:1' />\n<path class='bond-19' d='M 235.627,50.4667 L 235.63,26.0313' style='fill:none;fill-rule:evenodd;stroke:#000000;stroke-width:2.0px;stroke-linecap:butt;stroke-linejoin:miter;stroke-opacity:1' />\n<path class='bond-20' d='M 193.3,123.779 L 214.465,135.995' style='fill:none;fill-rule:evenodd;stroke:#000000;stroke-width:2.0px;stroke-linecap:butt;stroke-linejoin:miter;stroke-opacity:1' />\n<path class='bond-21' d='M 235.63,123.776 L 214.465,135.995' style='fill:none;fill-rule:evenodd;stroke:#000000;stroke-width:2.0px;stroke-linecap:butt;stroke-linejoin:miter;stroke-opacity:1' />\n<path class='bond-21' d='M 229.789,120.991 L 214.974,129.545' style='fill:none;fill-rule:evenodd;stroke:#000000;stroke-width:2.0px;stroke-linecap:butt;stroke-linejoin:miter;stroke-opacity:1' />\n<path class='bond-22' d='M 193.297,50.4667 L 193.3,26.0283' style='fill:none;fill-rule:evenodd;stroke:#000000;stroke-width:2.0px;stroke-linecap:butt;stroke-linejoin:miter;stroke-opacity:1' />\n<path class='bond-22' d='M 198.629,46.8016 L 198.631,29.6947' style='fill:none;fill-rule:evenodd;stroke:#000000;stroke-width:2.0px;stroke-linecap:butt;stroke-linejoin:miter;stroke-opacity:1' />\n<path class='bond-23' d='M 235.63,26.0313 L 214.462,13.815' style='fill:none;fill-rule:evenodd;stroke:#000000;stroke-width:2.0px;stroke-linecap:butt;stroke-linejoin:miter;stroke-opacity:1' />\n<path class='bond-23' d='M 229.79,28.817 L 214.972,20.2656' style='fill:none;fill-rule:evenodd;stroke:#000000;stroke-width:2.0px;stroke-linecap:butt;stroke-linejoin:miter;stroke-opacity:1' />\n<path class='bond-24' d='M 193.3,26.0283 L 214.462,13.815' style='fill:none;fill-rule:evenodd;stroke:#000000;stroke-width:2.0px;stroke-linecap:butt;stroke-linejoin:miter;stroke-opacity:1' />\n<path  class='atom-0' d='M 171.222 73.5841\nQ 171.222 70.5626, 172.715 68.8741\nQ 174.208 67.1856, 176.998 67.1856\nQ 179.789 67.1856, 181.282 68.8741\nQ 182.775 70.5626, 182.775 73.5841\nQ 182.775 76.6411, 181.264 78.3829\nQ 179.753 80.1069, 176.998 80.1069\nQ 174.226 80.1069, 172.715 78.3829\nQ 171.222 76.6589, 171.222 73.5841\nM 176.998 78.685\nQ 178.918 78.685, 179.949 77.4053\nQ 180.997 76.1079, 180.997 73.5841\nQ 180.997 71.1135, 179.949 69.8694\nQ 178.918 68.6075, 176.998 68.6075\nQ 175.079 68.6075, 174.03 69.8516\nQ 172.999 71.0958, 172.999 73.5841\nQ 172.999 76.1257, 174.03 77.4053\nQ 175.079 78.685, 176.998 78.685\n' fill='#FF0000'/>\n<path  class='atom-1' d='M 154.536 130.403\nL 156.242 130.403\nL 156.242 135.753\nL 162.676 135.753\nL 162.676 130.403\nL 164.382 130.403\nL 164.382 142.986\nL 162.676 142.986\nL 162.676 137.174\nL 156.242 137.174\nL 156.242 142.986\nL 154.536 142.986\nL 154.536 130.403\n' fill='#FF0000'/>\n<path  class='atom-1' d='M 165.271 136.659\nQ 165.271 133.637, 166.764 131.949\nQ 168.257 130.261, 171.047 130.261\nQ 173.838 130.261, 175.331 131.949\nQ 176.824 133.637, 176.824 136.659\nQ 176.824 139.716, 175.313 141.458\nQ 173.802 143.182, 171.047 143.182\nQ 168.275 143.182, 166.764 141.458\nQ 165.271 139.734, 165.271 136.659\nM 171.047 141.76\nQ 172.967 141.76, 173.998 140.48\nQ 175.046 139.183, 175.046 136.659\nQ 175.046 134.188, 173.998 132.944\nQ 172.967 131.682, 171.047 131.682\nQ 169.128 131.682, 168.079 132.927\nQ 167.048 134.171, 167.048 136.659\nQ 167.048 139.201, 168.079 140.48\nQ 169.128 141.76, 171.047 141.76\n' fill='#FF0000'/>\n<path  class='atom-2' d='M 154.536 6.96037\nL 156.242 6.96037\nL 156.242 12.3102\nL 162.676 12.3102\nL 162.676 6.96037\nL 164.382 6.96037\nL 164.382 19.544\nL 162.676 19.544\nL 162.676 13.732\nL 156.242 13.732\nL 156.242 19.544\nL 154.536 19.544\nL 154.536 6.96037\n' fill='#FF0000'/>\n<path  class='atom-2' d='M 165.271 13.2166\nQ 165.271 10.1951, 166.764 8.50666\nQ 168.257 6.81818, 171.047 6.81818\nQ 173.838 6.81818, 175.331 8.50666\nQ 176.824 10.1951, 176.824 13.2166\nQ 176.824 16.2736, 175.313 18.0154\nQ 173.802 19.7395, 171.047 19.7395\nQ 168.275 19.7395, 166.764 18.0154\nQ 165.271 16.2914, 165.271 13.2166\nM 171.047 18.3176\nQ 172.967 18.3176, 173.998 17.0379\nQ 175.046 15.7404, 175.046 13.2166\nQ 175.046 10.7461, 173.998 9.50197\nQ 172.967 8.24006, 171.047 8.24006\nQ 169.128 8.24006, 168.079 9.4842\nQ 167.048 10.7283, 167.048 13.2166\nQ 167.048 15.7582, 168.079 17.0379\nQ 169.128 18.3176, 171.047 18.3176\n' fill='#FF0000'/>\n<path  class='atom-3' d='M 275.173 93.046\nL 279.296 99.711\nQ 279.705 100.369, 280.363 101.559\nQ 281.02 102.75, 281.056 102.821\nL 281.056 93.046\nL 282.727 93.046\nL 282.727 105.63\nL 281.003 105.63\nL 276.577 98.3424\nQ 276.062 97.4893, 275.511 96.5118\nQ 274.977 95.5342, 274.817 95.2321\nL 274.817 105.63\nL 273.182 105.63\nL 273.182 93.046\nL 275.173 93.046\n' fill='#0000FF'/>\n<path  class='atom-21' d='M 230.704 63.4236\nL 232.411 63.4236\nL 232.411 68.7734\nL 238.845 68.7734\nL 238.845 63.4236\nL 240.551 63.4236\nL 240.551 76.0072\nL 238.845 76.0072\nL 238.845 70.1953\nL 232.411 70.1953\nL 232.411 76.0072\nL 230.704 76.0072\nL 230.704 63.4236\n' fill='#000000'/>\n<path  class='atom-22' d='M 226.216 66.0145\nL 227.922 66.0145\nL 227.922 71.3643\nL 234.356 71.3643\nL 234.356 66.0145\nL 236.062 66.0145\nL 236.062 78.5981\nL 234.356 78.5981\nL 234.356 72.7862\nL 227.922 72.7862\nL 227.922 78.5981\nL 226.216 78.5981\nL 226.216 66.0145\n' fill='#000000'/>\n<path  class='atom-23' d='M 159.923 101.285\nL 161.629 101.285\nL 161.629 106.634\nL 168.063 106.634\nL 168.063 101.285\nL 169.769 101.285\nL 169.769 113.868\nL 168.063 113.868\nL 168.063 108.056\nL 161.629 108.056\nL 161.629 113.868\nL 159.923 113.868\nL 159.923 101.285\n' fill='#000000'/>\n</svg>\n"
          },
          "metadata": {},
          "execution_count": 32
        }
      ]
    },
    {
      "cell_type": "code",
      "metadata": {
        "colab": {
          "base_uri": "https://localhost:8080/"
        },
        "id": "4lNYQC4ooZ0i",
        "outputId": "efa7899c-e9b1-4fbb-d138-b8b6223290d9"
      },
      "source": [
        "# common discriptors\n",
        "print(morphine_mol.GetNumAtoms() ,morphine_mol.GetNumBonds(), morphine_mol.GetNumConformers(),   morphine_mol.GetNumHeavyAtoms())"
      ],
      "execution_count": 38,
      "outputs": [
        {
          "output_type": "stream",
          "name": "stdout",
          "text": [
            "21 25 1 21\n"
          ]
        }
      ]
    },
    {
      "cell_type": "code",
      "metadata": {
        "colab": {
          "base_uri": "https://localhost:8080/"
        },
        "id": "KrCZjzHpoqkC",
        "outputId": "d1113124-78d8-4276-95c4-487e7ce1b82f"
      },
      "source": [
        "# list comprehension\n",
        "#  atom symbol in morphine mol\n",
        "print([atom.GetSymbol() for atom in morphine_mol.GetAtoms()] )\n",
        "# atom which are not in ring\n",
        "print([atom.GetSymbol() for atom in morphine_mol.GetAtoms() if not atom.IsInRing()] )\n",
        "# atom which are  in ring\n",
        "print([atom.GetSymbol() for atom in morphine_mol.GetAtoms() if atom.IsInRing()] )\n"
      ],
      "execution_count": 44,
      "outputs": [
        {
          "output_type": "stream",
          "name": "stdout",
          "text": [
            "['O', 'O', 'O', 'N', 'C', 'C', 'C', 'C', 'C', 'C', 'C', 'C', 'C', 'C', 'C', 'C', 'C', 'C', 'C', 'C', 'C']\n",
            "['O', 'O', 'C']\n",
            "['O', 'N', 'C', 'C', 'C', 'C', 'C', 'C', 'C', 'C', 'C', 'C', 'C', 'C', 'C', 'C', 'C', 'C']\n"
          ]
        }
      ]
    },
    {
      "cell_type": "code",
      "metadata": {
        "colab": {
          "base_uri": "https://localhost:8080/",
          "height": 171
        },
        "id": "imRAXGZAoru7",
        "outputId": "dcb29150-ec75-405d-e203-2fbc3424dbd8"
      },
      "source": [
        "morphine_mol_with_hydrogens = Chem.AddHs(morphine_mol)\n",
        "# add hydrgen energy non optimization\n",
        "morphine_mol_with_hydrogens"
      ],
      "execution_count": 45,
      "outputs": [
        {
          "output_type": "execute_result",
          "data": {
            "image/png": "[encoded data removed]",
            "text/plain": [
              "<rdkit.Chem.rdchem.Mol at 0x7f2f06e0b2b0>"
            ],
            "image/svg+xml": "<?xml version='1.0' encoding='iso-8859-1'?>\n<svg version='1.1' baseProfile='full'\n              xmlns='http://www.w3.org/2000/svg'\n                      xmlns:rdkit='http://www.rdkit.org/xml'\n                      xmlns:xlink='http://www.w3.org/1999/xlink'\n                  xml:space='preserve'\nwidth='450px' height='150px' viewBox='0 0 450 150'>\n<!-- END OF HEADER -->\n<rect style='opacity:1.0;fill:#FFFFFF;stroke:none' width='450' height='150' x='0' y='0'> </rect>\n<path class='bond-0' d='M 207.592,80.8696 L 213.428,90.1037' style='fill:none;fill-rule:evenodd;stroke:#FF0000;stroke-width:2.0px;stroke-linecap:butt;stroke-linejoin:miter;stroke-opacity:1' />\n<path class='bond-0' d='M 213.428,90.1037 L 219.265,99.3377' style='fill:none;fill-rule:evenodd;stroke:#000000;stroke-width:2.0px;stroke-linecap:butt;stroke-linejoin:miter;stroke-opacity:1' />\n<path class='bond-1' d='M 207.956,66.4792 L 213.609,58.473' style='fill:none;fill-rule:evenodd;stroke:#FF0000;stroke-width:2.0px;stroke-linecap:butt;stroke-linejoin:miter;stroke-opacity:1' />\n<path class='bond-1' d='M 213.609,58.473 L 219.262,50.4667' style='fill:none;fill-rule:evenodd;stroke:#000000;stroke-width:2.0px;stroke-linecap:butt;stroke-linejoin:miter;stroke-opacity:1' />\n<path class='bond-2' d='M 203.431,132.918 L 211.348,128.349' style='fill:none;fill-rule:evenodd;stroke:#FF0000;stroke-width:2.0px;stroke-linecap:butt;stroke-linejoin:miter;stroke-opacity:1' />\n<path class='bond-2' d='M 211.348,128.349 L 219.265,123.779' style='fill:none;fill-rule:evenodd;stroke:#000000;stroke-width:2.0px;stroke-linecap:butt;stroke-linejoin:miter;stroke-opacity:1' />\n<path class='bond-25' d='M 189.037,128.978 L 164.688,105.638' style='fill:none;fill-rule:evenodd;stroke:#FF0000;stroke-width:2.0px;stroke-linecap:butt;stroke-linejoin:miter;stroke-opacity:1' />\n<path class='bond-25' d='M 164.688,105.638 L 140.34,82.2979' style='fill:none;fill-rule:evenodd;stroke:#000000;stroke-width:2.0px;stroke-linecap:butt;stroke-linejoin:miter;stroke-opacity:1' />\n<path class='bond-3' d='M 203.432,16.8869 L 211.348,21.4576' style='fill:none;fill-rule:evenodd;stroke:#FF0000;stroke-width:2.0px;stroke-linecap:butt;stroke-linejoin:miter;stroke-opacity:1' />\n<path class='bond-3' d='M 211.348,21.4576 L 219.265,26.0283' style='fill:none;fill-rule:evenodd;stroke:#000000;stroke-width:2.0px;stroke-linecap:butt;stroke-linejoin:miter;stroke-opacity:1' />\n<path class='bond-26' d='M 189.008,21.0645 L 164.686,45.0162' style='fill:none;fill-rule:evenodd;stroke:#FF0000;stroke-width:2.0px;stroke-linecap:butt;stroke-linejoin:miter;stroke-opacity:1' />\n<path class='bond-26' d='M 164.686,45.0162 L 140.365,68.968' style='fill:none;fill-rule:evenodd;stroke:#000000;stroke-width:2.0px;stroke-linecap:butt;stroke-linejoin:miter;stroke-opacity:1' />\n<path class='bond-4' d='M 298.537,96.2295 L 290.647,91.674' style='fill:none;fill-rule:evenodd;stroke:#0000FF;stroke-width:2.0px;stroke-linecap:butt;stroke-linejoin:miter;stroke-opacity:1' />\n<path class='bond-4' d='M 290.647,91.674 L 282.758,87.1185' style='fill:none;fill-rule:evenodd;stroke:#000000;stroke-width:2.0px;stroke-linecap:butt;stroke-linejoin:miter;stroke-opacity:1' />\n<path class='bond-5' d='M 300.463,92.2086 L 294.883,80.7043' style='fill:none;fill-rule:evenodd;stroke:#0000FF;stroke-width:2.0px;stroke-linecap:butt;stroke-linejoin:miter;stroke-opacity:1' />\n<path class='bond-5' d='M 294.883,80.7043 L 289.304,69.1999' style='fill:none;fill-rule:evenodd;stroke:#000000;stroke-width:2.0px;stroke-linecap:butt;stroke-linejoin:miter;stroke-opacity:1' />\n<path class='bond-6' d='M 309.335,105.155 L 315.382,111.651' style='fill:none;fill-rule:evenodd;stroke:#0000FF;stroke-width:2.0px;stroke-linecap:butt;stroke-linejoin:miter;stroke-opacity:1' />\n<path class='bond-6' d='M 315.382,111.651 L 321.43,118.148' style='fill:none;fill-rule:evenodd;stroke:#000000;stroke-width:2.0px;stroke-linecap:butt;stroke-linejoin:miter;stroke-opacity:1' />\n<path class='bond-7' d='M 240.43,87.1215 L 261.595,99.3377' style='fill:none;fill-rule:evenodd;stroke:#000000;stroke-width:2.0px;stroke-linecap:butt;stroke-linejoin:miter;stroke-opacity:1' />\n<path class='bond-8' d='M 240.43,87.1215 L 219.265,99.3377' style='fill:none;fill-rule:evenodd;stroke:#000000;stroke-width:2.0px;stroke-linecap:butt;stroke-linejoin:miter;stroke-opacity:1' />\n<path class='bond-9' d='M 240.43,87.1215 L 258.039,71.9528 L 251.058,66.453 Z' style='fill:#000000;fill-rule:evenodd;fill-opacity:1;stroke:#000000;stroke-width:2px;stroke-linecap:butt;stroke-linejoin:miter;stroke-opacity:1;' />\n<path class='bond-10' d='M 240.43,87.1215 L 240.43,62.686' style='fill:none;fill-rule:evenodd;stroke:#000000;stroke-width:2.0px;stroke-linecap:butt;stroke-linejoin:miter;stroke-opacity:1' />\n<path class='bond-11' d='M 261.595,99.3377 L 282.758,87.1185' style='fill:none;fill-rule:evenodd;stroke:#000000;stroke-width:2.0px;stroke-linecap:butt;stroke-linejoin:miter;stroke-opacity:1' />\n<path class='bond-12' d='M 261.595,99.3377 L 261.595,123.776' style='fill:none;fill-rule:evenodd;stroke:#000000;stroke-width:2.0px;stroke-linecap:butt;stroke-linejoin:miter;stroke-opacity:1' />\n<path class='bond-27' d='M 261.595,99.3377 L 142.478,72.872 L 140.868,81.6116 Z' style='fill:#000000;fill-rule:evenodd;fill-opacity:1;stroke:#000000;stroke-width:2px;stroke-linecap:butt;stroke-linejoin:miter;stroke-opacity:1;' />\n<path class='bond-13' d='M 282.758,87.1185 L 282.761,62.6889' style='fill:none;fill-rule:evenodd;stroke:#000000;stroke-width:2.0px;stroke-linecap:butt;stroke-linejoin:miter;stroke-opacity:1' />\n<path class='bond-28' d='M 259.381,84.5929 L 259.268,86.0698' style='fill:none;fill-rule:evenodd;stroke:#000000;stroke-width:1.0px;stroke-linecap:butt;stroke-linejoin:miter;stroke-opacity:1' />\n<path class='bond-28' d='M 236.004,82.0674 L 235.779,85.021' style='fill:none;fill-rule:evenodd;stroke:#000000;stroke-width:1.0px;stroke-linecap:butt;stroke-linejoin:miter;stroke-opacity:1' />\n<path class='bond-28' d='M 212.627,79.5418 L 212.29,83.9723' style='fill:none;fill-rule:evenodd;stroke:#000000;stroke-width:1.0px;stroke-linecap:butt;stroke-linejoin:miter;stroke-opacity:1' />\n<path class='bond-28' d='M 189.251,77.0162 L 188.8,82.9235' style='fill:none;fill-rule:evenodd;stroke:#000000;stroke-width:1.0px;stroke-linecap:butt;stroke-linejoin:miter;stroke-opacity:1' />\n<path class='bond-28' d='M 165.874,74.4906 L 165.311,81.8748' style='fill:none;fill-rule:evenodd;stroke:#000000;stroke-width:1.0px;stroke-linecap:butt;stroke-linejoin:miter;stroke-opacity:1' />\n<path class='bond-28' d='M 142.497,71.965 L 141.821,80.826' style='fill:none;fill-rule:evenodd;stroke:#000000;stroke-width:1.0px;stroke-linecap:butt;stroke-linejoin:miter;stroke-opacity:1' />\n<path class='bond-14' d='M 219.265,99.3377 L 219.265,123.779' style='fill:none;fill-rule:evenodd;stroke:#000000;stroke-width:2.0px;stroke-linecap:butt;stroke-linejoin:miter;stroke-opacity:1' />\n<path class='bond-29' d='M 219.265,99.3377 L 141.82,73.4173 L 139.462,81.9856 Z' style='fill:#000000;fill-rule:evenodd;fill-opacity:1;stroke:#000000;stroke-width:2px;stroke-linecap:butt;stroke-linejoin:miter;stroke-opacity:1;' />\n<path class='bond-15' d='M 254.548,69.2029 L 289.304,69.1999' style='fill:none;fill-rule:evenodd;stroke:#000000;stroke-width:2.0px;stroke-linecap:butt;stroke-linejoin:miter;stroke-opacity:1' />\n<path class='bond-30' d='M 254.548,69.2029 L 141.448,75.3055' style='fill:none;fill-rule:evenodd;stroke:#000000;stroke-width:2.0px;stroke-linecap:butt;stroke-linejoin:miter;stroke-opacity:1' />\n<path class='bond-31' d='M 254.548,69.2029 L 141.448,75.3055' style='fill:none;fill-rule:evenodd;stroke:#000000;stroke-width:2.0px;stroke-linecap:butt;stroke-linejoin:miter;stroke-opacity:1' />\n<path class='bond-16' d='M 240.43,62.686 L 261.593,50.4667' style='fill:none;fill-rule:evenodd;stroke:#000000;stroke-width:2.0px;stroke-linecap:butt;stroke-linejoin:miter;stroke-opacity:1' />\n<path class='bond-16' d='M 240.938,56.2355 L 255.752,47.6821' style='fill:none;fill-rule:evenodd;stroke:#000000;stroke-width:2.0px;stroke-linecap:butt;stroke-linejoin:miter;stroke-opacity:1' />\n<path class='bond-17' d='M 240.43,62.686 L 219.262,50.4667' style='fill:none;fill-rule:evenodd;stroke:#000000;stroke-width:2.0px;stroke-linecap:butt;stroke-linejoin:miter;stroke-opacity:1' />\n<path class='bond-18' d='M 282.761,62.6889 L 261.593,50.4667' style='fill:none;fill-rule:evenodd;stroke:#000000;stroke-width:2.0px;stroke-linecap:butt;stroke-linejoin:miter;stroke-opacity:1' />\n<path class='bond-32' d='M 282.761,62.6889 L 142.163,74.977' style='fill:none;fill-rule:evenodd;stroke:#000000;stroke-width:2.0px;stroke-linecap:butt;stroke-linejoin:miter;stroke-opacity:1' />\n<path class='bond-33' d='M 282.761,62.6889 L 142.163,74.977' style='fill:none;fill-rule:evenodd;stroke:#000000;stroke-width:2.0px;stroke-linecap:butt;stroke-linejoin:miter;stroke-opacity:1' />\n<path class='bond-34' d='M 289.304,69.1999 L 142.315,75.3646' style='fill:none;fill-rule:evenodd;stroke:#000000;stroke-width:2.0px;stroke-linecap:butt;stroke-linejoin:miter;stroke-opacity:1' />\n<path class='bond-35' d='M 289.304,69.1999 L 142.315,75.3646' style='fill:none;fill-rule:evenodd;stroke:#000000;stroke-width:2.0px;stroke-linecap:butt;stroke-linejoin:miter;stroke-opacity:1' />\n<path class='bond-19' d='M 261.593,50.4667 L 261.595,26.0313' style='fill:none;fill-rule:evenodd;stroke:#000000;stroke-width:2.0px;stroke-linecap:butt;stroke-linejoin:miter;stroke-opacity:1' />\n<path class='bond-20' d='M 219.265,123.779 L 240.43,135.995' style='fill:none;fill-rule:evenodd;stroke:#000000;stroke-width:2.0px;stroke-linecap:butt;stroke-linejoin:miter;stroke-opacity:1' />\n<path class='bond-36' d='M 219.265,123.779 L 143.046,75.9925 L 138.703,83.7457 Z' style='fill:#000000;fill-rule:evenodd;fill-opacity:1;stroke:#000000;stroke-width:2px;stroke-linecap:butt;stroke-linejoin:miter;stroke-opacity:1;' />\n<path class='bond-21' d='M 261.595,123.776 L 240.43,135.995' style='fill:none;fill-rule:evenodd;stroke:#000000;stroke-width:2.0px;stroke-linecap:butt;stroke-linejoin:miter;stroke-opacity:1' />\n<path class='bond-21' d='M 255.755,120.991 L 240.939,129.545' style='fill:none;fill-rule:evenodd;stroke:#000000;stroke-width:2.0px;stroke-linecap:butt;stroke-linejoin:miter;stroke-opacity:1' />\n<path class='bond-37' d='M 261.595,123.776 L 141.837,78.8637' style='fill:none;fill-rule:evenodd;stroke:#000000;stroke-width:2.0px;stroke-linecap:butt;stroke-linejoin:miter;stroke-opacity:1' />\n<path class='bond-22' d='M 219.262,50.4667 L 219.265,26.0283' style='fill:none;fill-rule:evenodd;stroke:#000000;stroke-width:2.0px;stroke-linecap:butt;stroke-linejoin:miter;stroke-opacity:1' />\n<path class='bond-22' d='M 224.595,46.8016 L 224.597,29.6947' style='fill:none;fill-rule:evenodd;stroke:#000000;stroke-width:2.0px;stroke-linecap:butt;stroke-linejoin:miter;stroke-opacity:1' />\n<path class='bond-38' d='M 240.43,135.995 L 141.485,80.2382' style='fill:none;fill-rule:evenodd;stroke:#000000;stroke-width:2.0px;stroke-linecap:butt;stroke-linejoin:miter;stroke-opacity:1' />\n<path class='bond-39' d='M 321.43,118.148 L 143.233,77.9327' style='fill:none;fill-rule:evenodd;stroke:#000000;stroke-width:2.0px;stroke-linecap:butt;stroke-linejoin:miter;stroke-opacity:1' />\n<path class='bond-40' d='M 321.43,118.148 L 143.233,77.9327' style='fill:none;fill-rule:evenodd;stroke:#000000;stroke-width:2.0px;stroke-linecap:butt;stroke-linejoin:miter;stroke-opacity:1' />\n<path class='bond-41' d='M 321.43,118.148 L 143.233,77.9327' style='fill:none;fill-rule:evenodd;stroke:#000000;stroke-width:2.0px;stroke-linecap:butt;stroke-linejoin:miter;stroke-opacity:1' />\n<path class='bond-23' d='M 261.595,26.0313 L 240.427,13.815' style='fill:none;fill-rule:evenodd;stroke:#000000;stroke-width:2.0px;stroke-linecap:butt;stroke-linejoin:miter;stroke-opacity:1' />\n<path class='bond-23' d='M 255.755,28.817 L 240.937,20.2656' style='fill:none;fill-rule:evenodd;stroke:#000000;stroke-width:2.0px;stroke-linecap:butt;stroke-linejoin:miter;stroke-opacity:1' />\n<path class='bond-42' d='M 261.595,26.0313 L 141.852,72.4916' style='fill:none;fill-rule:evenodd;stroke:#000000;stroke-width:2.0px;stroke-linecap:butt;stroke-linejoin:miter;stroke-opacity:1' />\n<path class='bond-24' d='M 219.265,26.0283 L 240.427,13.815' style='fill:none;fill-rule:evenodd;stroke:#000000;stroke-width:2.0px;stroke-linecap:butt;stroke-linejoin:miter;stroke-opacity:1' />\n<path class='bond-43' d='M 240.427,13.815 L 141.506,71.0951' style='fill:none;fill-rule:evenodd;stroke:#000000;stroke-width:2.0px;stroke-linecap:butt;stroke-linejoin:miter;stroke-opacity:1' />\n<path  class='atom-0' d='M 197.188 73.5841\nQ 197.188 70.5626, 198.681 68.8741\nQ 200.173 67.1856, 202.964 67.1856\nQ 205.754 67.1856, 207.247 68.8741\nQ 208.74 70.5626, 208.74 73.5841\nQ 208.74 76.6411, 207.23 78.3829\nQ 205.719 80.1069, 202.964 80.1069\nQ 200.191 80.1069, 198.681 78.3829\nQ 197.188 76.6589, 197.188 73.5841\nM 202.964 78.685\nQ 204.883 78.685, 205.914 77.4053\nQ 206.963 76.1079, 206.963 73.5841\nQ 206.963 71.1135, 205.914 69.8694\nQ 204.883 68.6075, 202.964 68.6075\nQ 201.044 68.6075, 199.996 69.8516\nQ 198.965 71.0958, 198.965 73.5841\nQ 198.965 76.1257, 199.996 77.4053\nQ 201.044 78.685, 202.964 78.685\n' fill='#FF0000'/>\n<path  class='atom-1' d='M 191.236 136.659\nQ 191.236 133.637, 192.729 131.949\nQ 194.222 130.261, 197.013 130.261\nQ 199.803 130.261, 201.296 131.949\nQ 202.789 133.637, 202.789 136.659\nQ 202.789 139.716, 201.278 141.458\nQ 199.768 143.182, 197.013 143.182\nQ 194.24 143.182, 192.729 141.458\nQ 191.236 139.734, 191.236 136.659\nM 197.013 141.76\nQ 198.932 141.76, 199.963 140.48\nQ 201.012 139.183, 201.012 136.659\nQ 201.012 134.188, 199.963 132.944\nQ 198.932 131.682, 197.013 131.682\nQ 195.093 131.682, 194.045 132.927\nQ 193.014 134.171, 193.014 136.659\nQ 193.014 139.201, 194.045 140.48\nQ 195.093 141.76, 197.013 141.76\n' fill='#FF0000'/>\n<path  class='atom-2' d='M 191.236 13.2166\nQ 191.236 10.1951, 192.729 8.50666\nQ 194.222 6.81818, 197.013 6.81818\nQ 199.803 6.81818, 201.296 8.50666\nQ 202.789 10.1951, 202.789 13.2166\nQ 202.789 16.2736, 201.278 18.0154\nQ 199.768 19.7395, 197.013 19.7395\nQ 194.24 19.7395, 192.729 18.0154\nQ 191.236 16.2914, 191.236 13.2166\nM 197.013 18.3176\nQ 198.932 18.3176, 199.963 17.0379\nQ 201.012 15.7404, 201.012 13.2166\nQ 201.012 10.7461, 199.963 9.50197\nQ 198.932 8.24006, 197.013 8.24006\nQ 195.093 8.24006, 194.045 9.4842\nQ 193.014 10.7283, 193.014 13.2166\nQ 193.014 15.7582, 194.045 17.0379\nQ 195.093 18.3176, 197.013 18.3176\n' fill='#FF0000'/>\n<path  class='atom-3' d='M 301.138 93.046\nL 305.262 99.711\nQ 305.671 100.369, 306.328 101.559\nQ 306.986 102.75, 307.021 102.821\nL 307.021 93.046\nL 308.692 93.046\nL 308.692 105.63\nL 306.968 105.63\nL 302.542 98.3424\nQ 302.027 97.4893, 301.476 96.5118\nQ 300.943 95.5342, 300.783 95.2321\nL 300.783 105.63\nL 299.148 105.63\nL 299.148 93.046\nL 301.138 93.046\n' fill='#0000FF'/>\n<path  class='atom-21' d='M 128.57 69.4428\nL 130.277 69.4428\nL 130.277 74.7926\nL 136.711 74.7926\nL 136.711 69.4428\nL 138.417 69.4428\nL 138.417 82.0264\nL 136.711 82.0264\nL 136.711 76.2145\nL 130.277 76.2145\nL 130.277 82.0264\nL 128.57 82.0264\nL 128.57 69.4428\n' fill='#000000'/>\n<path  class='atom-22' d='M 128.57 69.4428\nL 130.277 69.4428\nL 130.277 74.7926\nL 136.711 74.7926\nL 136.711 69.4428\nL 138.417 69.4428\nL 138.417 82.0264\nL 136.711 82.0264\nL 136.711 76.2145\nL 130.277 76.2145\nL 130.277 82.0264\nL 128.57 82.0264\nL 128.57 69.4428\n' fill='#000000'/>\n<path  class='atom-23' d='M 128.57 69.4428\nL 130.277 69.4428\nL 130.277 74.7926\nL 136.711 74.7926\nL 136.711 69.4428\nL 138.417 69.4428\nL 138.417 82.0264\nL 136.711 82.0264\nL 136.711 76.2145\nL 130.277 76.2145\nL 130.277 82.0264\nL 128.57 82.0264\nL 128.57 69.4428\n' fill='#000000'/>\n<path  class='atom-24' d='M 128.57 69.4428\nL 130.277 69.4428\nL 130.277 74.7926\nL 136.711 74.7926\nL 136.711 69.4428\nL 138.417 69.4428\nL 138.417 82.0264\nL 136.711 82.0264\nL 136.711 76.2145\nL 130.277 76.2145\nL 130.277 82.0264\nL 128.57 82.0264\nL 128.57 69.4428\n' fill='#000000'/>\n<path  class='atom-25' d='M 128.57 69.4428\nL 130.277 69.4428\nL 130.277 74.7926\nL 136.711 74.7926\nL 136.711 69.4428\nL 138.417 69.4428\nL 138.417 82.0264\nL 136.711 82.0264\nL 136.711 76.2145\nL 130.277 76.2145\nL 130.277 82.0264\nL 128.57 82.0264\nL 128.57 69.4428\n' fill='#000000'/>\n<path  class='atom-26' d='M 128.57 69.4428\nL 130.277 69.4428\nL 130.277 74.7926\nL 136.711 74.7926\nL 136.711 69.4428\nL 138.417 69.4428\nL 138.417 82.0264\nL 136.711 82.0264\nL 136.711 76.2145\nL 130.277 76.2145\nL 130.277 82.0264\nL 128.57 82.0264\nL 128.57 69.4428\n' fill='#000000'/>\n<path  class='atom-27' d='M 128.57 69.4428\nL 130.277 69.4428\nL 130.277 74.7926\nL 136.711 74.7926\nL 136.711 69.4428\nL 138.417 69.4428\nL 138.417 82.0264\nL 136.711 82.0264\nL 136.711 76.2145\nL 130.277 76.2145\nL 130.277 82.0264\nL 128.57 82.0264\nL 128.57 69.4428\n' fill='#000000'/>\n<path  class='atom-28' d='M 128.57 69.4428\nL 130.277 69.4428\nL 130.277 74.7926\nL 136.711 74.7926\nL 136.711 69.4428\nL 138.417 69.4428\nL 138.417 82.0264\nL 136.711 82.0264\nL 136.711 76.2145\nL 130.277 76.2145\nL 130.277 82.0264\nL 128.57 82.0264\nL 128.57 69.4428\n' fill='#000000'/>\n<path  class='atom-29' d='M 128.57 69.4428\nL 130.277 69.4428\nL 130.277 74.7926\nL 136.711 74.7926\nL 136.711 69.4428\nL 138.417 69.4428\nL 138.417 82.0264\nL 136.711 82.0264\nL 136.711 76.2145\nL 130.277 76.2145\nL 130.277 82.0264\nL 128.57 82.0264\nL 128.57 69.4428\n' fill='#000000'/>\n<path  class='atom-30' d='M 128.57 69.4428\nL 130.277 69.4428\nL 130.277 74.7926\nL 136.711 74.7926\nL 136.711 69.4428\nL 138.417 69.4428\nL 138.417 82.0264\nL 136.711 82.0264\nL 136.711 76.2145\nL 130.277 76.2145\nL 130.277 82.0264\nL 128.57 82.0264\nL 128.57 69.4428\n' fill='#000000'/>\n<path  class='atom-31' d='M 128.57 69.4428\nL 130.277 69.4428\nL 130.277 74.7926\nL 136.711 74.7926\nL 136.711 69.4428\nL 138.417 69.4428\nL 138.417 82.0264\nL 136.711 82.0264\nL 136.711 76.2145\nL 130.277 76.2145\nL 130.277 82.0264\nL 128.57 82.0264\nL 128.57 69.4428\n' fill='#000000'/>\n<path  class='atom-32' d='M 128.57 69.4428\nL 130.277 69.4428\nL 130.277 74.7926\nL 136.711 74.7926\nL 136.711 69.4428\nL 138.417 69.4428\nL 138.417 82.0264\nL 136.711 82.0264\nL 136.711 76.2145\nL 130.277 76.2145\nL 130.277 82.0264\nL 128.57 82.0264\nL 128.57 69.4428\n' fill='#000000'/>\n<path  class='atom-33' d='M 128.57 69.4428\nL 130.277 69.4428\nL 130.277 74.7926\nL 136.711 74.7926\nL 136.711 69.4428\nL 138.417 69.4428\nL 138.417 82.0264\nL 136.711 82.0264\nL 136.711 76.2145\nL 130.277 76.2145\nL 130.277 82.0264\nL 128.57 82.0264\nL 128.57 69.4428\n' fill='#000000'/>\n<path  class='atom-34' d='M 128.57 69.4428\nL 130.277 69.4428\nL 130.277 74.7926\nL 136.711 74.7926\nL 136.711 69.4428\nL 138.417 69.4428\nL 138.417 82.0264\nL 136.711 82.0264\nL 136.711 76.2145\nL 130.277 76.2145\nL 130.277 82.0264\nL 128.57 82.0264\nL 128.57 69.4428\n' fill='#000000'/>\n<path  class='atom-35' d='M 128.57 69.4428\nL 130.277 69.4428\nL 130.277 74.7926\nL 136.711 74.7926\nL 136.711 69.4428\nL 138.417 69.4428\nL 138.417 82.0264\nL 136.711 82.0264\nL 136.711 76.2145\nL 130.277 76.2145\nL 130.277 82.0264\nL 128.57 82.0264\nL 128.57 69.4428\n' fill='#000000'/>\n<path  class='atom-36' d='M 128.57 69.4428\nL 130.277 69.4428\nL 130.277 74.7926\nL 136.711 74.7926\nL 136.711 69.4428\nL 138.417 69.4428\nL 138.417 82.0264\nL 136.711 82.0264\nL 136.711 76.2145\nL 130.277 76.2145\nL 130.277 82.0264\nL 128.57 82.0264\nL 128.57 69.4428\n' fill='#000000'/>\n<path  class='atom-37' d='M 128.57 69.4428\nL 130.277 69.4428\nL 130.277 74.7926\nL 136.711 74.7926\nL 136.711 69.4428\nL 138.417 69.4428\nL 138.417 82.0264\nL 136.711 82.0264\nL 136.711 76.2145\nL 130.277 76.2145\nL 130.277 82.0264\nL 128.57 82.0264\nL 128.57 69.4428\n' fill='#000000'/>\n<path  class='atom-38' d='M 128.57 69.4428\nL 130.277 69.4428\nL 130.277 74.7926\nL 136.711 74.7926\nL 136.711 69.4428\nL 138.417 69.4428\nL 138.417 82.0264\nL 136.711 82.0264\nL 136.711 76.2145\nL 130.277 76.2145\nL 130.277 82.0264\nL 128.57 82.0264\nL 128.57 69.4428\n' fill='#000000'/>\n<path  class='atom-39' d='M 128.57 69.4428\nL 130.277 69.4428\nL 130.277 74.7926\nL 136.711 74.7926\nL 136.711 69.4428\nL 138.417 69.4428\nL 138.417 82.0264\nL 136.711 82.0264\nL 136.711 76.2145\nL 130.277 76.2145\nL 130.277 82.0264\nL 128.57 82.0264\nL 128.57 69.4428\n' fill='#000000'/>\n<path d='M 130.531,78.6969 L 130.531,72.7724 L 136.456,72.7724 L 136.456,78.6969 L 130.531,78.6969' style='fill:none;stroke:#FF0000;stroke-width:2px;stroke-linecap:butt;stroke-linejoin:miter;stroke-opacity:1;' />\n<path d='M 130.531,78.6969 L 130.531,72.7724 L 136.456,72.7724 L 136.456,78.6969 L 130.531,78.6969' style='fill:none;stroke:#FF0000;stroke-width:2px;stroke-linecap:butt;stroke-linejoin:miter;stroke-opacity:1;' />\n<path d='M 130.531,78.6969 L 130.531,72.7724 L 136.456,72.7724 L 136.456,78.6969 L 130.531,78.6969' style='fill:none;stroke:#FF0000;stroke-width:2px;stroke-linecap:butt;stroke-linejoin:miter;stroke-opacity:1;' />\n<path d='M 130.531,78.6969 L 130.531,72.7724 L 136.456,72.7724 L 136.456,78.6969 L 130.531,78.6969' style='fill:none;stroke:#FF0000;stroke-width:2px;stroke-linecap:butt;stroke-linejoin:miter;stroke-opacity:1;' />\n<path d='M 130.531,78.6969 L 130.531,72.7724 L 136.456,72.7724 L 136.456,78.6969 L 130.531,78.6969' style='fill:none;stroke:#FF0000;stroke-width:2px;stroke-linecap:butt;stroke-linejoin:miter;stroke-opacity:1;' />\n<path d='M 130.531,78.6969 L 130.531,72.7724 L 136.456,72.7724 L 136.456,78.6969 L 130.531,78.6969' style='fill:none;stroke:#FF0000;stroke-width:2px;stroke-linecap:butt;stroke-linejoin:miter;stroke-opacity:1;' />\n<path d='M 130.531,78.6969 L 130.531,72.7724 L 136.456,72.7724 L 136.456,78.6969 L 130.531,78.6969' style='fill:none;stroke:#FF0000;stroke-width:2px;stroke-linecap:butt;stroke-linejoin:miter;stroke-opacity:1;' />\n<path d='M 130.531,78.6969 L 130.531,72.7724 L 136.456,72.7724 L 136.456,78.6969 L 130.531,78.6969' style='fill:none;stroke:#FF0000;stroke-width:2px;stroke-linecap:butt;stroke-linejoin:miter;stroke-opacity:1;' />\n<path d='M 130.531,78.6969 L 130.531,72.7724 L 136.456,72.7724 L 136.456,78.6969 L 130.531,78.6969' style='fill:none;stroke:#FF0000;stroke-width:2px;stroke-linecap:butt;stroke-linejoin:miter;stroke-opacity:1;' />\n</svg>\n"
          },
          "metadata": {},
          "execution_count": 45
        }
      ]
    },
    {
      "cell_type": "code",
      "metadata": {
        "colab": {
          "base_uri": "https://localhost:8080/"
        },
        "id": "J-Krw634o0S5",
        "outputId": "c5a2cc17-cc51-42df-d574-4461b78fa0c2"
      },
      "source": [
        "#  energy optimization\n",
        "AllChem.Compute2DCoords(morphine_mol_with_hydrogens)\n",
        "morphine_mol_with_hydrogens"
      ],
      "execution_count": 50,
      "outputs": [
        {
          "output_type": "execute_result",
          "data": {
            "text/plain": [
              "0"
            ]
          },
          "metadata": {},
          "execution_count": 50
        }
      ]
    },
    {
      "cell_type": "code",
      "metadata": {
        "colab": {
          "base_uri": "https://localhost:8080/"
        },
        "id": "c_-qA0tur68y",
        "outputId": "51735aec-b18d-4268-8ab7-18d2468d370b"
      },
      "source": [
        "# descriptors is important to add numerical values to molecules for ML DL\n",
        "# advance descriptors Molecular Weight\n",
        "\n",
        "print('MolWt',Descriptors.MolWt(morphine_mol))\n",
        "print('MolWt',Descriptors.MolWt(morphine_mol_with_hydrogens))\n",
        "\n"
      ],
      "execution_count": 54,
      "outputs": [
        {
          "output_type": "stream",
          "name": "stdout",
          "text": [
            "MolWt 285.34299999999996\n",
            "MolWt 285.3429999999996\n"
          ]
        }
      ]
    },
    {
      "cell_type": "code",
      "metadata": {
        "colab": {
          "base_uri": "https://localhost:8080/"
        },
        "id": "5_1K15oMsEJj",
        "outputId": "b2331bf0-6aa0-4366-ca04-884e1456714c"
      },
      "source": [
        "# advance descriptors Mol Log P (This is measured in LAB) this is not much relaiable\n",
        "print('MolWt',Descriptors.MolLogP(morphine_mol))\n"
      ],
      "execution_count": 56,
      "outputs": [
        {
          "output_type": "stream",
          "name": "stdout",
          "text": [
            "MolWt 1.1980999999999997\n"
          ]
        }
      ]
    },
    {
      "cell_type": "code",
      "metadata": {
        "colab": {
          "base_uri": "https://localhost:8080/"
        },
        "id": "3sRRWpwXs_H7",
        "outputId": "310471d5-5d1b-4803-f3fc-f87eaed86706"
      },
      "source": [
        "# This is important for Drug discovery\n",
        "# less rigid molecule this is important \n",
        "# asses a coumpound likly to be an effective drug or not\n",
        "print('Num Rotatable Bonds',Descriptors.NumRotatableBonds(morphine_mol))\n"
      ],
      "execution_count": 58,
      "outputs": [
        {
          "output_type": "stream",
          "name": "stdout",
          "text": [
            "Num Rotatable Bonds 0\n"
          ]
        }
      ]
    },
    {
      "cell_type": "code",
      "metadata": {
        "id": "eaH5wULstT16"
      },
      "source": [
        "# Lipinsky\n",
        "# Lipinski's rule of five: https://en.wikipedia.org/wiki/Lipinsk... rules of thumb\n",
        "# Lipinski's rule states that, in general, an orally active drug has no more than one violation of the following criteria:[9]\n",
        "\n",
        "# No more than 5 hydrogen bond donors (the total number of nitrogen–hydrogen and oxygen–hydrogen bonds)\n",
        "# No more than 10 hydrogen bond acceptors (all nitrogen or oxygen atoms)\n",
        "# A molecular mass less than 500 daltons\n",
        "# An octanol-water partition coefficient[10] (log P) that does not exceed 5\n",
        "# This is an important for drug like compound"
      ],
      "execution_count": 59,
      "outputs": []
    },
    {
      "cell_type": "code",
      "metadata": {
        "id": "gUABzLhyt2Gi"
      },
      "source": [
        ""
      ],
      "execution_count": null,
      "outputs": []
    }
  ]
}